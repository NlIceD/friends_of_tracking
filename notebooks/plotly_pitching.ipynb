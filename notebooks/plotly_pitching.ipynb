{
 "cells": [
  {
   "cell_type": "code",
   "execution_count": 327,
   "metadata": {},
   "outputs": [],
   "source": [
    "import json\n",
    "import modin.pandas as pd\n",
    "import re\n",
    "import numpy as np\n",
    "import matplotlib.pyplot as plt\n",
    "import glob\n",
    "import sys\n",
    "from sklearn.preprocessing import MinMaxScaler\n",
    "import warnings\n",
    "warnings.filterwarnings('ignore')\n",
    "pd.options.display.max_columns = None\n",
    "sys.path.insert(0,'/media/csivsw/crossOS/playground/friends_of_tracking/src/friends_of_tracking/LaurieOnTracking')\n",
    "%matplotlib inline"
   ]
  },
  {
   "cell_type": "code",
   "execution_count": 181,
   "metadata": {},
   "outputs": [],
   "source": [
    "import Metrica_IO as mio\n",
    "import Metrica_Viz as mviz\n",
    "import Metrica_Velocities as mvel"
   ]
  },
  {
   "cell_type": "code",
   "execution_count": 182,
   "metadata": {},
   "outputs": [
    {
     "name": "stdout",
     "output_type": "stream",
     "text": [
      "Reading team: home\n",
      "Reading team: away\n"
     ]
    }
   ],
   "source": [
    "# set up initial path to data\n",
    "DATADIR = '../datahub/metrica_sports/sample-data/data'\n",
    "game_id = 2 # let's look at sample match 2\n",
    "\n",
    "# read in the event data\n",
    "events = mio.read_event_data(DATADIR,game_id)\n",
    "\n",
    "# read in tracking data\n",
    "tracking_home = mio.tracking_data(DATADIR,game_id,'Home')\n",
    "tracking_away = mio.tracking_data(DATADIR,game_id,'Away')\n",
    "\n",
    "# Convert positions from metrica units to meters (note change in Metrica's coordinate system since the last lesson)\n",
    "tracking_home = mio.to_metric_coordinates(tracking_home)\n",
    "tracking_away = mio.to_metric_coordinates(tracking_away)\n",
    "events = mio.to_metric_coordinates(events)\n",
    "\n",
    "# reverse direction of play in the second half so that home team is always attacking from right->left\n",
    "tracking_home,tracking_away,events = mio.to_single_playing_direction(tracking_home,tracking_away,events)\n"
   ]
  },
  {
   "cell_type": "code",
   "execution_count": 183,
   "metadata": {},
   "outputs": [],
   "source": [
    "# Calculate player velocities\n",
    "tracking_home = mvel.calc_player_velocities(tracking_home,smoothing=True)\n",
    "tracking_away = mvel.calc_player_velocities(tracking_away,smoothing=True)"
   ]
  },
  {
   "cell_type": "code",
   "execution_count": 184,
   "metadata": {},
   "outputs": [
    {
     "data": {
      "text/plain": [
       "(<Figure size 864x576 with 1 Axes>,\n",
       " <matplotlib.axes._subplots.AxesSubplot at 0x7ff2e3ce3438>)"
      ]
     },
     "execution_count": 184,
     "metadata": {},
     "output_type": "execute_result"
    },
    {
     "data": {
      "image/png": "[encoded data removed]",
      "text/plain": [
       "<Figure size 864x576 with 1 Axes>"
      ]
     },
     "metadata": {},
     "output_type": "display_data"
    }
   ],
   "source": [
    "# plot a random frame, plotting the player velocities using quivers\n",
    "mviz.plot_frame( tracking_home.loc[10000], tracking_away.loc[10000], include_player_velocities=True, annotate=True)\n"
   ]
  },
  {
   "cell_type": "code",
   "execution_count": null,
   "metadata": {},
   "outputs": [],
   "source": []
  },
  {
   "cell_type": "code",
   "execution_count": null,
   "metadata": {},
   "outputs": [],
   "source": []
  },
  {
   "cell_type": "code",
   "execution_count": 211,
   "metadata": {},
   "outputs": [],
   "source": [
    "from collections import namedtuple"
   ]
  },
  {
   "cell_type": "code",
   "execution_count": 216,
   "metadata": {},
   "outputs": [
    {
     "data": {
      "text/plain": [
       "point(x=0.0, y=0)"
      ]
     },
     "execution_count": 216,
     "metadata": {},
     "output_type": "execute_result"
    }
   ],
   "source": [
    "point = namedtuple('point',['x','y'])\n",
    "centre = point(0.,0)\n",
    "centre"
   ]
  },
  {
   "cell_type": "code",
   "execution_count": 1,
   "metadata": {},
   "outputs": [],
   "source": [
    "%matplotlib inline"
   ]
  },
  {
   "cell_type": "code",
   "execution_count": 30,
   "metadata": {},
   "outputs": [],
   "source": [
    "import plotly.graph_objects as go\n",
    "import plotly.figure_factory as ff\n"
   ]
  },
  {
   "cell_type": "code",
   "execution_count": 314,
   "metadata": {},
   "outputs": [],
   "source": [
    "def plot_pitch(field_dimen = (106.0,68.0), field_color ='green', linewidth=2, markersize=20, data = None):\n",
    "    # decide what color we want the field to be. Default is green, but can also choose white\n",
    "#     if field_color=='green':\n",
    "#         ax.set_facecolor('mediumseagreen')\n",
    "#         lc = 'whitesmoke' # line color\n",
    "#         pc = 'w' # 'spot' colors\n",
    "#     elif field_color=='white':\n",
    "#         lc = 'k'\n",
    "#         pc = 'k'\n",
    "    # ALL DIMENSIONS IN m\n",
    "    border_dimen = (3,3) # include a border arround of the field of width 3m\n",
    "    meters_per_yard = 0.9144 # unit conversion from yards to meters\n",
    "    half_pitch_length = field_dimen[0]/2. # length of half pitch\n",
    "    half_pitch_width = field_dimen[1]/2. # width of half pitch\n",
    "    signs = [-1,1] \n",
    "    # Soccer field dimensions typically defined in yards, so we need to convert to meters\n",
    "    goal_line_width = 8*meters_per_yard\n",
    "    box_width = 20*meters_per_yard\n",
    "    box_length = 6*meters_per_yard\n",
    "    area_width = 44*meters_per_yard\n",
    "    area_length = 18*meters_per_yard\n",
    "    penalty_spot = 12*meters_per_yard\n",
    "    corner_radius = 1*meters_per_yard\n",
    "    D_length = 8*meters_per_yard\n",
    "    D_radius = 10*meters_per_yard\n",
    "    D_pos = 12*meters_per_yard\n",
    "    centre_circle_radius = 10*meters_per_yard\n",
    "    centre = point(0.,0.)\n",
    "    \n",
    "    \n",
    "    shapes = []\n",
    "    \n",
    "    mid_circle = dict(type=\"circle\", x0=centre.x - centre_circle_radius, y0=centre.y - centre_circle_radius, x1=centre.x + centre_circle_radius, y1=centre.y + centre_circle_radius, line_color=\"White\") \n",
    "    mid_line = dict(type=\"line\",\n",
    "                    x0=centre.x, y0=centre.y - half_pitch_width,\n",
    "                    x1=centre.x, y1=centre.y + half_pitch_width, line_color=\"White\")\n",
    "    mid_point = dict(type=\"circle\", \n",
    "                     x0=centre.x-0.4, y0=centre.y-0.4, \n",
    "                     x1=centre.x+0.4, y1=centre.y+0.4, line_color=\"White\", fillcolor='white') \n",
    "    shapes.extend([mid_circle,mid_line,mid_point])\n",
    "    \n",
    "    \n",
    "    for s in signs:\n",
    "        \n",
    "        # plot pitch boundary\n",
    "        boundary1 = dict(type=\"line\",\n",
    "                    x0=-half_pitch_length, y0=s*half_pitch_width,\n",
    "                    x1=half_pitch_length, y1=s*half_pitch_width, line_color=\"White\", layer = \"below\")\n",
    "        \n",
    "        boundary2 = dict(type=\"line\",\n",
    "                    x0=s*half_pitch_length, y0=-half_pitch_width,\n",
    "                    x1=s*half_pitch_length, y1=half_pitch_width, line_color=\"White\", layer = \"below\")\n",
    "        \n",
    "        circle = dict(type=\"circle\", \n",
    "                           x0=s*(centre.x+half_pitch_length-penalty_spot) - centre_circle_radius, y0=centre.y - centre_circle_radius,\n",
    "                           x1=s*(centre.x+half_pitch_length-penalty_spot) + centre_circle_radius, y1=centre.y + centre_circle_radius, line_color=\"White\", layer = \"below\")\n",
    "        \n",
    "        patch = dict(type=\"rect\",\n",
    "                     x0=s*half_pitch_length,y0=-area_width/2. - 1,\n",
    "                     x1=s*(half_pitch_length - area_length),y1=area_width/2. + 1,line=dict(color=\"mediumseagreen\",width=0),fillcolor=\"mediumseagreen\", layer = \"below\")\n",
    "        \n",
    "        box = dict(type=\"rect\",\n",
    "                              x0=s*half_pitch_length,y0=-area_width/2.,\n",
    "                              x1=s*(half_pitch_length - area_length),y1=area_width/2.,line=dict(color=\"white\",width=2), layer = \"below\")\n",
    "        D = dict(type=\"rect\",\n",
    "                 x0=s*half_pitch_length,y0=-box_width/2.,\n",
    "                 x1=s*(half_pitch_length - box_length),y1=box_width/2.,line=dict(color=\"white\",width=2), layer = \"below\")\n",
    "        pen = dict(type=\"circle\", \n",
    "                   x0=s*(half_pitch_length - penalty_spot)-0.4, y0=-0.4, \n",
    "                   x1=s*(half_pitch_length - penalty_spot)+0.4, y1= 0.4, line_color=\"White\", fillcolor='white', layer = \"below\")\n",
    "\n",
    "        top_post = dict(type=\"rect\", \n",
    "                        x0=s*half_pitch_length, y0=goal_line_width/2. - 0.5, \n",
    "                        x1=s*(half_pitch_length-0.5), y1=goal_line_width/2.+0.5, line=dict(color=\"white\",width=0),fillcolor=\"white\", layer = \"below\")\n",
    "        \n",
    "        bottom_post = dict(type=\"rect\", \n",
    "                        x0=s*half_pitch_length, y0=-goal_line_width/2. - 0.5, \n",
    "                        x1=s*(half_pitch_length-0.5), y1=-goal_line_width/2.+0.5, line=dict(color=\"white\",width=0),fillcolor=\"white\", layer = \"below\")\n",
    "        \n",
    "        shapes.extend([boundary1, boundary2,circle, patch , box, D, pen, top_post, bottom_post])\n",
    "        \n",
    "    # set axis limits\n",
    "    xmax = field_dimen[0]/2. + border_dimen[0]\n",
    "    ymax = field_dimen[1]/2. + border_dimen[1]\n",
    "    \n",
    "    layout = go.Layout(\n",
    "                    title='plot_title',\n",
    "                    hovermode='closest',\n",
    "                    autosize=False,\n",
    "                    width=1200,\n",
    "                    height=800,\n",
    "                    plot_bgcolor='mediumseagreen',\n",
    "                    xaxis=go.layout.XAxis(\n",
    "                        range=[-xmax, xmax],\n",
    "                        showgrid=False,zeroline=False,\n",
    "                        showticklabels=False\n",
    "                    ),\n",
    "                    yaxis=go.layout.YAxis(\n",
    "                        range=[-ymax, ymax],\n",
    "                        showgrid=False,zeroline=False,\n",
    "                        showticklabels=False,\n",
    "                        scaleanchor = \"x\",\n",
    "      scaleratio = 1,\n",
    "                ),\n",
    "    shapes=shapes)\n",
    "    data = data\n",
    "\n",
    "    fig = go.Figure(data= data, layout=layout)\n",
    "    \n",
    "    return fig"
   ]
  },
  {
   "cell_type": "code",
   "execution_count": null,
   "metadata": {},
   "outputs": [],
   "source": [
    "player_marker_props = ['color': home.color, 'size', 'linecolor','linewidth', 'annotation': 'num','size']\n",
    "\n",
    "\n",
    "# get nums of home players\n",
    "# get each player namedtuple \n",
    "\n",
    "\n",
    "# plot a frame\n",
    "# -- plot pitch\n",
    "# -- plot home player pos / vel / pitch-ctrl?\n",
    "# -- plot away player pos / vel / pitch-ctrl?\n",
    "# -- plot ball\n",
    "\n",
    "\n",
    "# save match clip\n",
    "# -- plot a frame\n",
    "# -- include match time at top\n",
    "# ^^ iterate from all the indices \n",
    "# >> save animation\n",
    "\n",
    "# plot events\n",
    "# -- plot pitch\n",
    "# -- plot event row action"
   ]
  },
  {
   "cell_type": "code",
   "execution_count": 356,
   "metadata": {},
   "outputs": [],
   "source": [
    "PLAYERMARKERSIZE = 15\n"
   ]
  },
  {
   "cell_type": "code",
   "execution_count": 500,
   "metadata": {},
   "outputs": [],
   "source": [
    "player_marker_args = {'Home': dict(mode='markers+text', \n",
    "                                   marker_size = PLAYERMARKERSIZE, \n",
    "                                   marker_line_color=\"white\", \n",
    "                                   marker_color=\"red\", \n",
    "                                   marker_line_width=2,\n",
    "                                   textfont=dict(\n",
    "                                        size=11,\n",
    "                                        color=\"white\"\n",
    "                                    )),\n",
    "                      'Away': dict(mode='markers+text', \n",
    "                                   marker_size = PLAYERMARKERSIZE, \n",
    "                                   marker_line_color=\"white\", \n",
    "                                   marker_color=\"#0570b0\", \n",
    "                                   marker_line_width=2,\n",
    "                                   textfont=dict(\n",
    "                                        size=11,\n",
    "                                        color=\"white\"\n",
    "                                    ))}\n",
    "\n",
    "\n",
    "def positions(tracking_data):\n",
    "    position_traces = []\n",
    "    for i, side in enumerate(['Home','Away']):\n",
    "        team_data = tracking_data[i]\n",
    "        player_nums = list(set(item for subitem in team_data.keys() for item in subitem.split('_')\n",
    "                               if item.isdigit()))\n",
    "        xlocs = [team_data['{}_{}_{}'.format(side, num,'x')] for num in player_nums]\n",
    "        ylocs = [team_data['{}_{}_{}'.format(side, num,'y')] for num in player_nums]\n",
    "        traces = go.Scatter(x = xlocs,y = ylocs, text = player_nums, **player_marker_args[side])\n",
    "        position_traces.append(traces)\n",
    "\n",
    "    return position_traces\n",
    "\n",
    "\n",
    "def velocities(tracking_data):\n",
    "    velocity_quivers = []\n",
    "    for i, side in enumerate(['Home','Away']):\n",
    "        team_data = tracking_data[i]\n",
    "        player_nums = list(set(item for subitem in team_data.keys() for item in subitem.split('_')\n",
    "                               if item.isdigit()))\n",
    "        xlocs = [team_data['{}_{}_{}'.format(side, num,'x')] for num in player_nums]\n",
    "        ylocs = [team_data['{}_{}_{}'.format(side, num,'y')] for num in player_nums]\n",
    "        xvels = [team_data['{}_{}_{}'.format(side, num,'vx')] for num in player_nums]\n",
    "        yvels = [team_data['{}_{}_{}'.format(side, num,'vy')] for num in player_nums]\n",
    "        trace = ff.create_quiver(x = xlocs, y = ylocs, u = xvels,v = yvels, \n",
    "                                 scale=1., line_color = player_marker_args[side]['marker_color'], name = side+'_vel')\n",
    "        velocity_quivers.append(trace.data[0])\n",
    "\n",
    "    return velocity_quivers\n",
    "\n",
    "\n",
    "\n",
    "def plot_ball(tracking_data):\n",
    "    team_data = tracking_data[0]\n",
    "    trace = go.Scatter(x = [team_data['ball_x']],y = [team_data['ball_x']], \n",
    "                           marker_size = 10, marker_opacity=0.8, marker_color = '#262e39'\n",
    "                          )\n",
    "    return [trace]"
   ]
  },
  {
   "cell_type": "code",
   "execution_count": 501,
   "metadata": {},
   "outputs": [],
   "source": [
    "def plot_frame(hometeam, awayteam, show_velocities=True):\n",
    "    tracking_data = (hometeam,awayteam)\n",
    "    traces = []\n",
    "    \n",
    "    if show_velocities: traces.extend(velocities(tracking_data))\n",
    "        \n",
    "    traces.extend(positions(tracking_data))\n",
    "    \n",
    "    if hometeam['ball_x']: traces.extend(plot_ball(tracking_data))\n",
    "        \n",
    "    fig = plot_pitch(data=traces)\n",
    "    fig.show()"
   ]
  },
  {
   "cell_type": "code",
   "execution_count": 502,
   "metadata": {},
   "outputs": [
    {
     "data": {
      "application/vnd.plotly.v1+json": {
       "config": {
        "plotlyServerURL": "https://plot.ly"
       },
       "data": [
        {
         "line": {
          "color": "red"
         },
         "mode": "lines",
         "name": "Home_vel",
         "type": "scatter",
         "x": [
          -2.063819999999999,
          -5.065891428571092,
          null,
          9.645999999999997,
          8.37778571428584,
          null,
          -15.89258,
          -15.593508571428599,
          null,
          38.56916000000001,
          38.24358857142864,
          null,
          null,
          null,
          null,
          null,
          null,
          null,
          5.04772,
          4.373862857142912,
          null,
          -13.440800000000003,
          -14.758228571428422,
          null,
          15.08592,
          12.72742000000025,
          null,
          -7.845060000000002,
          -9.465345714285544,
          null,
          -10.206739999999998,
          -11.338668571428435,
          null,
          null,
          null,
          null,
          8.90082,
          7.019320000000217,
          null,
          16.563560000000006,
          14.852417142857337,
          null,
          -4.25247668380478,
          -5.065891428571092,
          -4.186691552237124,
          null,
          8.841707662632702,
          8.37778571428584,
          8.628902729455497,
          null,
          -15.743853453455618,
          -15.593508571428599,
          -15.611784818111447,
          null,
          38.28727677396518,
          38.24358857142864,
          38.383462610272446,
          null,
          null,
          null,
          null,
          null,
          null,
          null,
          null,
          null,
          4.668735782486978,
          4.373862857142912,
          4.458921082562855,
          null,
          -14.451623586483253,
          -14.758228571428422,
          -14.322046812183308,
          null,
          13.300599027409598,
          12.72742000000025,
          13.4840000002649,
          null,
          -8.872518942486925,
          -9.465345714285544,
          -9.144630168516793,
          null,
          -11.072147361713268,
          -11.338668571428435,
          -10.96699082564678,
          null,
          null,
          null,
          null,
          null,
          7.605298001089081,
          7.019320000000217,
          7.494160998516442,
          null,
          15.385884789054288,
          14.852417142857337,
          15.283718486240875,
          null
         ],
         "y": [
          32.52984,
          32.20926857142864,
          null,
          3.724359999999999,
          4.761359999999875,
          null,
          0.3318399999999997,
          -0.31173142857136527,
          null,
          0.9941599999999977,
          0.5254457142857483,
          null,
          null,
          null,
          null,
          null,
          null,
          null,
          17.077520000000003,
          18.099948571428417,
          null,
          -11.257399999999999,
          -11.888828571428526,
          null,
          8.924320000000002,
          8.030605714285802,
          null,
          10.633840000000001,
          11.95983999999984,
          null,
          -32.135439999999996,
          -32.6478685714285,
          null,
          null,
          null,
          null,
          -16.234319999999997,
          -15.692748571428632,
          null,
          -10.191159999999996,
          -9.693302857142918,
          null,
          32.607670823269764,
          32.20926857142864,
          31.991609483105496,
          null,
          4.599148075203699,
          4.761359999999875,
          4.3388951761431285,
          null,
          -0.16099016771759922,
          -0.31173142857136527,
          -0.09961709599883717,
          null,
          0.6909855169473508,
          0.5254457142857483,
          0.6241743249497167,
          null,
          null,
          null,
          null,
          null,
          null,
          null,
          null,
          null,
          17.88085981124713,
          18.099948571428417,
          17.742576181298528,
          null,
          -11.57564780804471,
          -11.888828571428526,
          -11.846000073337477,
          null,
          8.524547082508828,
          8.030605714285802,
          8.040554377688725,
          null,
          11.752281381119793,
          11.95983999999984,
          11.419779169782709,
          null,
          -32.387268255582825,
          -32.6478685714285,
          -32.619553678923445,
          null,
          null,
          null,
          null,
          null,
          -15.65236850404558,
          -15.692748571428632,
          -16.03847504384588,
          null,
          -9.658079064572235,
          -9.693302857142918,
          -10.009226259722613,
          null
         ]
        },
        {
         "line": {
          "color": "#0570b0"
         },
         "mode": "lines",
         "name": "Away_vel",
         "type": "scatter",
         "x": [
          -16.60914,
          -16.734068571428573,
          null,
          -42.549459999999996,
          -43.098388571428515,
          null,
          -16.714080000000003,
          -17.11536571428567,
          null,
          -6.882580000000004,
          -7.791151428571314,
          null,
          -3.3835200000000003,
          -4.099019999999904,
          null,
          null,
          null,
          null,
          4.976700000000005,
          3.4169857142858784,
          null,
          -18.048619999999996,
          -18.374191428571375,
          null,
          -4.810280000000003,
          -6.2488514285712915,
          null,
          -7.579000000000001,
          -8.529214285714191,
          null,
          -16.21694,
          -16.296439999999986,
          null,
          5.463239999999992,
          4.937025714285758,
          null,
          -16.691623837391283,
          -16.734068571428573,
          -16.706076631447807,
          null,
          -42.94389051915996,
          -43.098388571428515,
          -42.94339214695112,
          null,
          -17.19785123889538,
          -17.11536571428567,
          -16.806629054951333,
          null,
          -7.6725687981471795,
          -7.791151428571314,
          -7.397467338864225,
          null,
          -3.9867727904360777,
          -4.099019999999904,
          -3.8078571674603947,
          null,
          null,
          null,
          null,
          null,
          3.8115786308313004,
          3.4169857142858784,
          3.9017840006324134,
          null,
          -18.393298124349418,
          -18.374191428571375,
          -18.171522491412983,
          null,
          -6.038918033772751,
          -6.2488514285712915,
          -5.647695849828704,
          null,
          -8.441253847372277,
          -8.529214285714191,
          -8.08142911258552,
          null,
          -16.404103477503032,
          -16.296439999999986,
          -16.143953184485458,
          null,
          4.932618536645823,
          4.937025714285758,
          5.238120700668369,
          null
         ],
         "y": [
          13.118559999999999,
          13.188988571428533,
          null,
          0.4875599999999969,
          0.48513142857145125,
          null,
          -4.579119999999997,
          -6.4855485714283665,
          null,
          -14.70092,
          -16.041491428571312,
          null,
          17.097240000000003,
          16.225382857142968,
          null,
          null,
          null,
          null,
          -2.1943600000000014,
          -2.6339314285713895,
          null,
          -15.531200000000004,
          -16.611914285714185,
          null,
          4.97012,
          3.0636914285716372,
          null,
          -4.525399999999999,
          -6.278828571428388,
          null,
          4.649159999999999,
          3.381445714285834,
          null,
          5.15576,
          3.6670457142858925,
          null,
          13.181952635141009,
          13.188988571428533,
          13.156315782397726,
          null,
          0.5421394503692489,
          0.48513142857145125,
          0.42949267316392703,
          null,
          -5.906937173986011,
          -6.4855485714283665,
          -5.989285852494726,
          null,
          -15.570348985785376,
          -16.041491428571312,
          -15.756798823918317,
          null,
          16.544580797964485,
          16.225382857142968,
          16.397751550434794,
          null,
          null,
          null,
          null,
          null,
          -2.349976709186222,
          -2.6339314285713895,
          -2.670048931314445,
          null,
          -16.27384691787631,
          -16.611914285714185,
          -16.340658109873942,
          null,
          3.7487346086148823,
          3.0636914285716372,
          3.453522364904384,
          null,
          -5.687025676677438,
          -6.278828571428388,
          -5.882021132391477,
          null,
          3.7469814225692937,
          3.381445714285834,
          3.730667061732662,
          null,
          4.140718628535125,
          3.6670457142858925,
          4.032733097283127,
          null
         ]
        },
        {
         "marker": {
          "color": "red",
          "line": {
           "color": "white",
           "width": 2
          },
          "size": 20
         },
         "mode": "markers+text",
         "text": [
          "1",
          "6",
          "10",
          "11",
          "13",
          "12",
          "5",
          "7",
          "2",
          "9",
          "8",
          "14",
          "4",
          "3"
         ],
         "textfont": {
          "color": "white",
          "size": 11
         },
         "type": "scatter",
         "x": [
          -2.063819999999999,
          9.645999999999997,
          -15.89258,
          38.56916000000001,
          null,
          null,
          5.04772,
          -13.440800000000003,
          15.08592,
          -7.845060000000002,
          -10.206739999999998,
          null,
          8.90082,
          16.563560000000006
         ],
         "y": [
          32.52984,
          3.724359999999999,
          0.3318399999999997,
          0.9941599999999977,
          null,
          null,
          17.077520000000003,
          -11.257399999999999,
          8.924320000000002,
          10.633840000000001,
          -32.135439999999996,
          null,
          -16.234319999999997,
          -10.191159999999996
         ]
        },
        {
         "marker": {
          "color": "#0570b0",
          "line": {
           "color": "white",
           "width": 2
          },
          "size": 20
         },
         "mode": "markers+text",
         "text": [
          "18",
          "25",
          "16",
          "19",
          "22",
          "26",
          "24",
          "15",
          "20",
          "21",
          "17",
          "23"
         ],
         "textfont": {
          "color": "white",
          "size": 11
         },
         "type": "scatter",
         "visible": true,
         "x": [
          -16.60914,
          -42.549459999999996,
          -16.714080000000003,
          -6.882580000000004,
          -3.3835200000000003,
          null,
          4.976700000000005,
          -18.048619999999996,
          -4.810280000000003,
          -7.579000000000001,
          -16.21694,
          5.463239999999992
         ],
         "y": [
          13.118559999999999,
          0.4875599999999969,
          -4.579119999999997,
          -14.70092,
          17.097240000000003,
          null,
          -2.1943600000000014,
          -15.531200000000004,
          4.97012,
          -4.525399999999999,
          4.649159999999999,
          5.15576
         ]
        },
        {
         "marker": {
          "color": "#262e39",
          "opacity": 0.8,
          "size": 10
         },
         "type": "scatter",
         "x": [
          9.140380000000004
         ],
         "y": [
          9.140380000000004
         ]
        }
       ],
       "layout": {
        "autosize": false,
        "height": 800,
        "hovermode": "closest",
        "plot_bgcolor": "mediumseagreen",
        "shapes": [
         {
          "line": {
           "color": "White"
          },
          "type": "circle",
          "x0": -9.144,
          "x1": 9.144,
          "y0": -9.144,
          "y1": 9.144
         },
         {
          "line": {
           "color": "White"
          },
          "type": "line",
          "x0": 0,
          "x1": 0,
          "y0": -34,
          "y1": 34
         },
         {
          "fillcolor": "white",
          "line": {
           "color": "White"
          },
          "type": "circle",
          "x0": -0.4,
          "x1": 0.4,
          "y0": -0.4,
          "y1": 0.4
         },
         {
          "layer": "below",
          "line": {
           "color": "White"
          },
          "type": "line",
          "x0": -53,
          "x1": 53,
          "y0": -34,
          "y1": -34
         },
         {
          "layer": "below",
          "line": {
           "color": "White"
          },
          "type": "line",
          "x0": -53,
          "x1": -53,
          "y0": -34,
          "y1": 34
         },
         {
          "layer": "below",
          "line": {
           "color": "White"
          },
          "type": "circle",
          "x0": -51.1712,
          "x1": -32.8832,
          "y0": -9.144,
          "y1": 9.144
         },
         {
          "fillcolor": "mediumseagreen",
          "layer": "below",
          "line": {
           "color": "mediumseagreen",
           "width": 0
          },
          "type": "rect",
          "x0": -53,
          "x1": -36.540800000000004,
          "y0": -21.1168,
          "y1": 21.1168
         },
         {
          "layer": "below",
          "line": {
           "color": "white",
           "width": 2
          },
          "type": "rect",
          "x0": -53,
          "x1": -36.540800000000004,
          "y0": -20.1168,
          "y1": 20.1168
         },
         {
          "layer": "below",
          "line": {
           "color": "white",
           "width": 2
          },
          "type": "rect",
          "x0": -53,
          "x1": -47.5136,
          "y0": -9.144,
          "y1": 9.144
         },
         {
          "fillcolor": "white",
          "layer": "below",
          "line": {
           "color": "White"
          },
          "type": "circle",
          "x0": -42.4272,
          "x1": -41.6272,
          "y0": -0.4,
          "y1": 0.4
         },
         {
          "fillcolor": "white",
          "layer": "below",
          "line": {
           "color": "white",
           "width": 0
          },
          "type": "rect",
          "x0": -53,
          "x1": -52.5,
          "y0": 3.1576,
          "y1": 4.1576
         },
         {
          "fillcolor": "white",
          "layer": "below",
          "line": {
           "color": "white",
           "width": 0
          },
          "type": "rect",
          "x0": -53,
          "x1": -52.5,
          "y0": -4.1576,
          "y1": -3.1576
         },
         {
          "layer": "below",
          "line": {
           "color": "White"
          },
          "type": "line",
          "x0": -53,
          "x1": 53,
          "y0": 34,
          "y1": 34
         },
         {
          "layer": "below",
          "line": {
           "color": "White"
          },
          "type": "line",
          "x0": 53,
          "x1": 53,
          "y0": -34,
          "y1": 34
         },
         {
          "layer": "below",
          "line": {
           "color": "White"
          },
          "type": "circle",
          "x0": 32.8832,
          "x1": 51.1712,
          "y0": -9.144,
          "y1": 9.144
         },
         {
          "fillcolor": "mediumseagreen",
          "layer": "below",
          "line": {
           "color": "mediumseagreen",
           "width": 0
          },
          "type": "rect",
          "x0": 53,
          "x1": 36.540800000000004,
          "y0": -21.1168,
          "y1": 21.1168
         },
         {
          "layer": "below",
          "line": {
           "color": "white",
           "width": 2
          },
          "type": "rect",
          "x0": 53,
          "x1": 36.540800000000004,
          "y0": -20.1168,
          "y1": 20.1168
         },
         {
          "layer": "below",
          "line": {
           "color": "white",
           "width": 2
          },
          "type": "rect",
          "x0": 53,
          "x1": 47.5136,
          "y0": -9.144,
          "y1": 9.144
         },
         {
          "fillcolor": "white",
          "layer": "below",
          "line": {
           "color": "White"
          },
          "type": "circle",
          "x0": 41.6272,
          "x1": 42.4272,
          "y0": -0.4,
          "y1": 0.4
         },
         {
          "fillcolor": "white",
          "layer": "below",
          "line": {
           "color": "white",
           "width": 0
          },
          "type": "rect",
          "x0": 53,
          "x1": 52.5,
          "y0": 3.1576,
          "y1": 4.1576
         },
         {
          "fillcolor": "white",
          "layer": "below",
          "line": {
           "color": "white",
           "width": 0
          },
          "type": "rect",
          "x0": 53,
          "x1": 52.5,
          "y0": -4.1576,
          "y1": -3.1576
         }
        ],
        "template": {
         "data": {
          "bar": [
           {
            "error_x": {
             "color": "#2a3f5f"
            },
            "error_y": {
             "color": "#2a3f5f"
            },
            "marker": {
             "line": {
              "color": "#E5ECF6",
              "width": 0.5
             }
            },
            "type": "bar"
           }
          ],
          "barpolar": [
           {
            "marker": {
             "line": {
              "color": "#E5ECF6",
              "width": 0.5
             }
            },
            "type": "barpolar"
           }
          ],
          "carpet": [
           {
            "aaxis": {
             "endlinecolor": "#2a3f5f",
             "gridcolor": "white",
             "linecolor": "white",
             "minorgridcolor": "white",
             "startlinecolor": "#2a3f5f"
            },
            "baxis": {
             "endlinecolor": "#2a3f5f",
             "gridcolor": "white",
             "linecolor": "white",
             "minorgridcolor": "white",
             "startlinecolor": "#2a3f5f"
            },
            "type": "carpet"
           }
          ],
          "choropleth": [
           {
            "colorbar": {
             "outlinewidth": 0,
             "ticks": ""
            },
            "type": "choropleth"
           }
          ],
          "contour": [
           {
            "colorbar": {
             "outlinewidth": 0,
             "ticks": ""
            },
            "colorscale": [
             [
              0,
              "#0d0887"
             ],
             [
              0.1111111111111111,
              "#46039f"
             ],
             [
              0.2222222222222222,
              "#7201a8"
             ],
             [
              0.3333333333333333,
              "#9c179e"
             ],
             [
              0.4444444444444444,
              "#bd3786"
             ],
             [
              0.5555555555555556,
              "#d8576b"
             ],
             [
              0.6666666666666666,
              "#ed7953"
             ],
             [
              0.7777777777777778,
              "#fb9f3a"
             ],
             [
              0.8888888888888888,
              "#fdca26"
             ],
             [
              1,
              "#f0f921"
             ]
            ],
            "type": "contour"
           }
          ],
          "contourcarpet": [
           {
            "colorbar": {
             "outlinewidth": 0,
             "ticks": ""
            },
            "type": "contourcarpet"
           }
          ],
          "heatmap": [
           {
            "colorbar": {
             "outlinewidth": 0,
             "ticks": ""
            },
            "colorscale": [
             [
              0,
              "#0d0887"
             ],
             [
              0.1111111111111111,
              "#46039f"
             ],
             [
              0.2222222222222222,
              "#7201a8"
             ],
             [
              0.3333333333333333,
              "#9c179e"
             ],
             [
              0.4444444444444444,
              "#bd3786"
             ],
             [
              0.5555555555555556,
              "#d8576b"
             ],
             [
              0.6666666666666666,
              "#ed7953"
             ],
             [
              0.7777777777777778,
              "#fb9f3a"
             ],
             [
              0.8888888888888888,
              "#fdca26"
             ],
             [
              1,
              "#f0f921"
             ]
            ],
            "type": "heatmap"
           }
          ],
          "heatmapgl": [
           {
            "colorbar": {
             "outlinewidth": 0,
             "ticks": ""
            },
            "colorscale": [
             [
              0,
              "#0d0887"
             ],
             [
              0.1111111111111111,
              "#46039f"
             ],
             [
              0.2222222222222222,
              "#7201a8"
             ],
             [
              0.3333333333333333,
              "#9c179e"
             ],
             [
              0.4444444444444444,
              "#bd3786"
             ],
             [
              0.5555555555555556,
              "#d8576b"
             ],
             [
              0.6666666666666666,
              "#ed7953"
             ],
             [
              0.7777777777777778,
              "#fb9f3a"
             ],
             [
              0.8888888888888888,
              "#fdca26"
             ],
             [
              1,
              "#f0f921"
             ]
            ],
            "type": "heatmapgl"
           }
          ],
          "histogram": [
           {
            "marker": {
             "colorbar": {
              "outlinewidth": 0,
              "ticks": ""
             }
            },
            "type": "histogram"
           }
          ],
          "histogram2d": [
           {
            "colorbar": {
             "outlinewidth": 0,
             "ticks": ""
            },
            "colorscale": [
             [
              0,
              "#0d0887"
             ],
             [
              0.1111111111111111,
              "#46039f"
             ],
             [
              0.2222222222222222,
              "#7201a8"
             ],
             [
              0.3333333333333333,
              "#9c179e"
             ],
             [
              0.4444444444444444,
              "#bd3786"
             ],
             [
              0.5555555555555556,
              "#d8576b"
             ],
             [
              0.6666666666666666,
              "#ed7953"
             ],
             [
              0.7777777777777778,
              "#fb9f3a"
             ],
             [
              0.8888888888888888,
              "#fdca26"
             ],
             [
              1,
              "#f0f921"
             ]
            ],
            "type": "histogram2d"
           }
          ],
          "histogram2dcontour": [
           {
            "colorbar": {
             "outlinewidth": 0,
             "ticks": ""
            },
            "colorscale": [
             [
              0,
              "#0d0887"
             ],
             [
              0.1111111111111111,
              "#46039f"
             ],
             [
              0.2222222222222222,
              "#7201a8"
             ],
             [
              0.3333333333333333,
              "#9c179e"
             ],
             [
              0.4444444444444444,
              "#bd3786"
             ],
             [
              0.5555555555555556,
              "#d8576b"
             ],
             [
              0.6666666666666666,
              "#ed7953"
             ],
             [
              0.7777777777777778,
              "#fb9f3a"
             ],
             [
              0.8888888888888888,
              "#fdca26"
             ],
             [
              1,
              "#f0f921"
             ]
            ],
            "type": "histogram2dcontour"
           }
          ],
          "mesh3d": [
           {
            "colorbar": {
             "outlinewidth": 0,
             "ticks": ""
            },
            "type": "mesh3d"
           }
          ],
          "parcoords": [
           {
            "line": {
             "colorbar": {
              "outlinewidth": 0,
              "ticks": ""
             }
            },
            "type": "parcoords"
           }
          ],
          "pie": [
           {
            "automargin": true,
            "type": "pie"
           }
          ],
          "scatter": [
           {
            "marker": {
             "colorbar": {
              "outlinewidth": 0,
              "ticks": ""
             }
            },
            "type": "scatter"
           }
          ],
          "scatter3d": [
           {
            "line": {
             "colorbar": {
              "outlinewidth": 0,
              "ticks": ""
             }
            },
            "marker": {
             "colorbar": {
              "outlinewidth": 0,
              "ticks": ""
             }
            },
            "type": "scatter3d"
           }
          ],
          "scattercarpet": [
           {
            "marker": {
             "colorbar": {
              "outlinewidth": 0,
              "ticks": ""
             }
            },
            "type": "scattercarpet"
           }
          ],
          "scattergeo": [
           {
            "marker": {
             "colorbar": {
              "outlinewidth": 0,
              "ticks": ""
             }
            },
            "type": "scattergeo"
           }
          ],
          "scattergl": [
           {
            "marker": {
             "colorbar": {
              "outlinewidth": 0,
              "ticks": ""
             }
            },
            "type": "scattergl"
           }
          ],
          "scattermapbox": [
           {
            "marker": {
             "colorbar": {
              "outlinewidth": 0,
              "ticks": ""
             }
            },
            "type": "scattermapbox"
           }
          ],
          "scatterpolar": [
           {
            "marker": {
             "colorbar": {
              "outlinewidth": 0,
              "ticks": ""
             }
            },
            "type": "scatterpolar"
           }
          ],
          "scatterpolargl": [
           {
            "marker": {
             "colorbar": {
              "outlinewidth": 0,
              "ticks": ""
             }
            },
            "type": "scatterpolargl"
           }
          ],
          "scatterternary": [
           {
            "marker": {
             "colorbar": {
              "outlinewidth": 0,
              "ticks": ""
             }
            },
            "type": "scatterternary"
           }
          ],
          "surface": [
           {
            "colorbar": {
             "outlinewidth": 0,
             "ticks": ""
            },
            "colorscale": [
             [
              0,
              "#0d0887"
             ],
             [
              0.1111111111111111,
              "#46039f"
             ],
             [
              0.2222222222222222,
              "#7201a8"
             ],
             [
              0.3333333333333333,
              "#9c179e"
             ],
             [
              0.4444444444444444,
              "#bd3786"
             ],
             [
              0.5555555555555556,
              "#d8576b"
             ],
             [
              0.6666666666666666,
              "#ed7953"
             ],
             [
              0.7777777777777778,
              "#fb9f3a"
             ],
             [
              0.8888888888888888,
              "#fdca26"
             ],
             [
              1,
              "#f0f921"
             ]
            ],
            "type": "surface"
           }
          ],
          "table": [
           {
            "cells": {
             "fill": {
              "color": "#EBF0F8"
             },
             "line": {
              "color": "white"
             }
            },
            "header": {
             "fill": {
              "color": "#C8D4E3"
             },
             "line": {
              "color": "white"
             }
            },
            "type": "table"
           }
          ]
         },
         "layout": {
          "annotationdefaults": {
           "arrowcolor": "#2a3f5f",
           "arrowhead": 0,
           "arrowwidth": 1
          },
          "coloraxis": {
           "colorbar": {
            "outlinewidth": 0,
            "ticks": ""
           }
          },
          "colorscale": {
           "diverging": [
            [
             0,
             "#8e0152"
            ],
            [
             0.1,
             "#c51b7d"
            ],
            [
             0.2,
             "#de77ae"
            ],
            [
             0.3,
             "#f1b6da"
            ],
            [
             0.4,
             "#fde0ef"
            ],
            [
             0.5,
             "#f7f7f7"
            ],
            [
             0.6,
             "#e6f5d0"
            ],
            [
             0.7,
             "#b8e186"
            ],
            [
             0.8,
             "#7fbc41"
            ],
            [
             0.9,
             "#4d9221"
            ],
            [
             1,
             "#276419"
            ]
           ],
           "sequential": [
            [
             0,
             "#0d0887"
            ],
            [
             0.1111111111111111,
             "#46039f"
            ],
            [
             0.2222222222222222,
             "#7201a8"
            ],
            [
             0.3333333333333333,
             "#9c179e"
            ],
            [
             0.4444444444444444,
             "#bd3786"
            ],
            [
             0.5555555555555556,
             "#d8576b"
            ],
            [
             0.6666666666666666,
             "#ed7953"
            ],
            [
             0.7777777777777778,
             "#fb9f3a"
            ],
            [
             0.8888888888888888,
             "#fdca26"
            ],
            [
             1,
             "#f0f921"
            ]
           ],
           "sequentialminus": [
            [
             0,
             "#0d0887"
            ],
            [
             0.1111111111111111,
             "#46039f"
            ],
            [
             0.2222222222222222,
             "#7201a8"
            ],
            [
             0.3333333333333333,
             "#9c179e"
            ],
            [
             0.4444444444444444,
             "#bd3786"
            ],
            [
             0.5555555555555556,
             "#d8576b"
            ],
            [
             0.6666666666666666,
             "#ed7953"
            ],
            [
             0.7777777777777778,
             "#fb9f3a"
            ],
            [
             0.8888888888888888,
             "#fdca26"
            ],
            [
             1,
             "#f0f921"
            ]
           ]
          },
          "colorway": [
           "#636efa",
           "#EF553B",
           "#00cc96",
           "#ab63fa",
           "#FFA15A",
           "#19d3f3",
           "#FF6692",
           "#B6E880",
           "#FF97FF",
           "#FECB52"
          ],
          "font": {
           "color": "#2a3f5f"
          },
          "geo": {
           "bgcolor": "white",
           "lakecolor": "white",
           "landcolor": "#E5ECF6",
           "showlakes": true,
           "showland": true,
           "subunitcolor": "white"
          },
          "hoverlabel": {
           "align": "left"
          },
          "hovermode": "closest",
          "mapbox": {
           "style": "light"
          },
          "paper_bgcolor": "white",
          "plot_bgcolor": "#E5ECF6",
          "polar": {
           "angularaxis": {
            "gridcolor": "white",
            "linecolor": "white",
            "ticks": ""
           },
           "bgcolor": "#E5ECF6",
           "radialaxis": {
            "gridcolor": "white",
            "linecolor": "white",
            "ticks": ""
           }
          },
          "scene": {
           "xaxis": {
            "backgroundcolor": "#E5ECF6",
            "gridcolor": "white",
            "gridwidth": 2,
            "linecolor": "white",
            "showbackground": true,
            "ticks": "",
            "zerolinecolor": "white"
           },
           "yaxis": {
            "backgroundcolor": "#E5ECF6",
            "gridcolor": "white",
            "gridwidth": 2,
            "linecolor": "white",
            "showbackground": true,
            "ticks": "",
            "zerolinecolor": "white"
           },
           "zaxis": {
            "backgroundcolor": "#E5ECF6",
            "gridcolor": "white",
            "gridwidth": 2,
            "linecolor": "white",
            "showbackground": true,
            "ticks": "",
            "zerolinecolor": "white"
           }
          },
          "shapedefaults": {
           "line": {
            "color": "#2a3f5f"
           }
          },
          "ternary": {
           "aaxis": {
            "gridcolor": "white",
            "linecolor": "white",
            "ticks": ""
           },
           "baxis": {
            "gridcolor": "white",
            "linecolor": "white",
            "ticks": ""
           },
           "bgcolor": "#E5ECF6",
           "caxis": {
            "gridcolor": "white",
            "linecolor": "white",
            "ticks": ""
           }
          },
          "title": {
           "x": 0.05
          },
          "xaxis": {
           "automargin": true,
           "gridcolor": "white",
           "linecolor": "white",
           "ticks": "",
           "title": {
            "standoff": 15
           },
           "zerolinecolor": "white",
           "zerolinewidth": 2
          },
          "yaxis": {
           "automargin": true,
           "gridcolor": "white",
           "linecolor": "white",
           "ticks": "",
           "title": {
            "standoff": 15
           },
           "zerolinecolor": "white",
           "zerolinewidth": 2
          }
         }
        },
        "title": {
         "text": "plot_title"
        },
        "width": 1200,
        "xaxis": {
         "autorange": false,
         "domain": [
          0,
          1
         ],
         "range": [
          -58.48387096774193,
          58.48387096774193
         ],
         "showgrid": false,
         "showticklabels": false,
         "type": "linear",
         "zeroline": false
        },
        "yaxis": {
         "autorange": false,
         "domain": [
          0,
          1
         ],
         "range": [
          -37,
          37
         ],
         "scaleanchor": "x",
         "scaleratio": 1,
         "showgrid": false,
         "showticklabels": false,
         "type": "linear",
         "zeroline": false
        }
       }
      },
      "image/png": "[encoded data removed]"
     },
     "metadata": {},
     "output_type": "display_data"
    }
   ],
   "source": [
    "hometeam = tracking_home.loc[9000]\n",
    "awayteam = tracking_away.loc[9000]\n",
    "plot_frame(hometeam, awayteam)"
   ]
  },
  {
   "cell_type": "code",
   "execution_count": 503,
   "metadata": {},
   "outputs": [],
   "source": [
    "# plot event\n",
    "DATADIR = '../datahub/metrica_sports/sample-data/data/'\n",
    "game_id = 2\n",
    "\n",
    "# read in the event data\n",
    "events = mio.read_event_data(DATADIR,game_id)\n",
    "# Bit of housekeeping: unit conversion from metric data units to meters\n",
    "events = mio.to_metric_coordinates(events)\n",
    "\n",
    "# Get events by team\n",
    "home_events = events.query(\"Team=='Home'\")\n",
    "away_events = events.query(\"Team=='Away'\")\n",
    "\n",
    "# Get all shots\n",
    "shots = events.query(\"Type=='SHOT'\")\n",
    "home_shots = home_events.query(\"Type=='SHOT'\")\n",
    "away_shots = away_events.query(\"Type=='SHOT'\")\n",
    "\n",
    "# Get the shots that led to a goal\n",
    "home_goals = home_shots.query(\"Subtype.str.endswith('GOAL')\").copy()\n",
    "away_goals = away_shots.query(\"Subtype.str.endswith('GOAL')\").copy()\n",
    "\n",
    "# Add a column event 'Minute' to the data frame\n",
    "home_goals['Minute'] = home_goals['Start Time [s]']/60.\n",
    "\n"
   ]
  },
  {
   "cell_type": "code",
   "execution_count": 504,
   "metadata": {},
   "outputs": [
    {
     "data": {
      "text/html": [
       "<div>\n",
       "<style scoped>\n",
       "    .dataframe tbody tr th:only-of-type {\n",
       "        vertical-align: middle;\n",
       "    }\n",
       "\n",
       "    .dataframe tbody tr th {\n",
       "        vertical-align: top;\n",
       "    }\n",
       "\n",
       "    .dataframe thead th {\n",
       "        text-align: right;\n",
       "    }\n",
       "</style>\n",
       "<table border=\"1\" class=\"dataframe\">\n",
       "  <thead>\n",
       "    <tr style=\"text-align: right;\">\n",
       "      <th></th>\n",
       "      <th>Team</th>\n",
       "      <th>Type</th>\n",
       "      <th>Subtype</th>\n",
       "      <th>Period</th>\n",
       "      <th>Start Frame</th>\n",
       "      <th>Start Time [s]</th>\n",
       "      <th>End Frame</th>\n",
       "      <th>End Time [s]</th>\n",
       "      <th>From</th>\n",
       "      <th>To</th>\n",
       "      <th>Start X</th>\n",
       "      <th>Start Y</th>\n",
       "      <th>End X</th>\n",
       "      <th>End Y</th>\n",
       "    </tr>\n",
       "  </thead>\n",
       "  <tbody>\n",
       "    <tr>\n",
       "      <th>0</th>\n",
       "      <td>Away</td>\n",
       "      <td>SET PIECE</td>\n",
       "      <td>KICK OFF</td>\n",
       "      <td>1</td>\n",
       "      <td>51</td>\n",
       "      <td>2.04</td>\n",
       "      <td>51</td>\n",
       "      <td>2.04</td>\n",
       "      <td>Player23</td>\n",
       "      <td>NaN</td>\n",
       "      <td>NaN</td>\n",
       "      <td>NaN</td>\n",
       "      <td>NaN</td>\n",
       "      <td>NaN</td>\n",
       "    </tr>\n",
       "    <tr>\n",
       "      <th>1</th>\n",
       "      <td>Away</td>\n",
       "      <td>PASS</td>\n",
       "      <td>NaN</td>\n",
       "      <td>1</td>\n",
       "      <td>51</td>\n",
       "      <td>2.04</td>\n",
       "      <td>87</td>\n",
       "      <td>3.48</td>\n",
       "      <td>Player23</td>\n",
       "      <td>Player20</td>\n",
       "      <td>0.00</td>\n",
       "      <td>-0.00</td>\n",
       "      <td>-10.60</td>\n",
       "      <td>-0.68</td>\n",
       "    </tr>\n",
       "    <tr>\n",
       "      <th>2</th>\n",
       "      <td>Away</td>\n",
       "      <td>PASS</td>\n",
       "      <td>NaN</td>\n",
       "      <td>1</td>\n",
       "      <td>146</td>\n",
       "      <td>5.84</td>\n",
       "      <td>186</td>\n",
       "      <td>7.44</td>\n",
       "      <td>Player20</td>\n",
       "      <td>Player18</td>\n",
       "      <td>-7.42</td>\n",
       "      <td>-0.00</td>\n",
       "      <td>-6.36</td>\n",
       "      <td>19.04</td>\n",
       "    </tr>\n",
       "    <tr>\n",
       "      <th>3</th>\n",
       "      <td>Away</td>\n",
       "      <td>PASS</td>\n",
       "      <td>NaN</td>\n",
       "      <td>1</td>\n",
       "      <td>248</td>\n",
       "      <td>9.92</td>\n",
       "      <td>283</td>\n",
       "      <td>11.32</td>\n",
       "      <td>Player18</td>\n",
       "      <td>Player17</td>\n",
       "      <td>-3.18</td>\n",
       "      <td>21.08</td>\n",
       "      <td>-20.14</td>\n",
       "      <td>14.96</td>\n",
       "    </tr>\n",
       "    <tr>\n",
       "      <th>4</th>\n",
       "      <td>Away</td>\n",
       "      <td>PASS</td>\n",
       "      <td>NaN</td>\n",
       "      <td>1</td>\n",
       "      <td>316</td>\n",
       "      <td>12.64</td>\n",
       "      <td>346</td>\n",
       "      <td>13.84</td>\n",
       "      <td>Player17</td>\n",
       "      <td>Player16</td>\n",
       "      <td>-22.26</td>\n",
       "      <td>12.24</td>\n",
       "      <td>-25.44</td>\n",
       "      <td>-5.44</td>\n",
       "    </tr>\n",
       "  </tbody>\n",
       "</table>\n",
       "</div>"
      ],
      "text/plain": [
       "   Team       Type   Subtype  Period  Start Frame  Start Time [s]  End Frame  \\\n",
       "0  Away  SET PIECE  KICK OFF       1           51            2.04         51   \n",
       "1  Away       PASS       NaN       1           51            2.04         87   \n",
       "2  Away       PASS       NaN       1          146            5.84        186   \n",
       "3  Away       PASS       NaN       1          248            9.92        283   \n",
       "4  Away       PASS       NaN       1          316           12.64        346   \n",
       "\n",
       "   End Time [s]      From        To  Start X  Start Y  End X  End Y  \n",
       "0          2.04  Player23       NaN      NaN      NaN    NaN    NaN  \n",
       "1          3.48  Player23  Player20     0.00    -0.00 -10.60  -0.68  \n",
       "2          7.44  Player20  Player18    -7.42    -0.00  -6.36  19.04  \n",
       "3         11.32  Player18  Player17    -3.18    21.08 -20.14  14.96  \n",
       "4         13.84  Player17  Player16   -22.26    12.24 -25.44  -5.44  "
      ]
     },
     "execution_count": 504,
     "metadata": {},
     "output_type": "execute_result"
    }
   ],
   "source": [
    "events.head()"
   ]
  },
  {
   "cell_type": "code",
   "execution_count": 506,
   "metadata": {},
   "outputs": [
    {
     "data": {
      "text/html": [
       "<div>\n",
       "<style scoped>\n",
       "    .dataframe tbody tr th:only-of-type {\n",
       "        vertical-align: middle;\n",
       "    }\n",
       "\n",
       "    .dataframe tbody tr th {\n",
       "        vertical-align: top;\n",
       "    }\n",
       "\n",
       "    .dataframe thead th {\n",
       "        text-align: right;\n",
       "    }\n",
       "</style>\n",
       "<table border=\"1\" class=\"dataframe\">\n",
       "  <thead>\n",
       "    <tr style=\"text-align: right;\">\n",
       "      <th></th>\n",
       "      <th>Team</th>\n",
       "      <th>Type</th>\n",
       "      <th>Subtype</th>\n",
       "      <th>Period</th>\n",
       "      <th>Start Frame</th>\n",
       "      <th>Start Time [s]</th>\n",
       "      <th>End Frame</th>\n",
       "      <th>End Time [s]</th>\n",
       "      <th>From</th>\n",
       "      <th>To</th>\n",
       "      <th>Start X</th>\n",
       "      <th>Start Y</th>\n",
       "      <th>End X</th>\n",
       "      <th>End Y</th>\n",
       "    </tr>\n",
       "  </thead>\n",
       "  <tbody>\n",
       "    <tr>\n",
       "      <th>198</th>\n",
       "      <td>Home</td>\n",
       "      <td>SHOT</td>\n",
       "      <td>ON TARGET-GOAL</td>\n",
       "      <td>1</td>\n",
       "      <td>12202</td>\n",
       "      <td>488.08</td>\n",
       "      <td>12212</td>\n",
       "      <td>488.48</td>\n",
       "      <td>Player10</td>\n",
       "      <td>NaN</td>\n",
       "      <td>-47.70</td>\n",
       "      <td>-3.40</td>\n",
       "      <td>-54.06</td>\n",
       "      <td>-2.04</td>\n",
       "    </tr>\n",
       "    <tr>\n",
       "      <th>823</th>\n",
       "      <td>Away</td>\n",
       "      <td>SHOT</td>\n",
       "      <td>ON TARGET-GOAL</td>\n",
       "      <td>1</td>\n",
       "      <td>53049</td>\n",
       "      <td>2121.96</td>\n",
       "      <td>53075</td>\n",
       "      <td>2123.00</td>\n",
       "      <td>Player24</td>\n",
       "      <td>NaN</td>\n",
       "      <td>44.52</td>\n",
       "      <td>2.72</td>\n",
       "      <td>54.06</td>\n",
       "      <td>1.36</td>\n",
       "    </tr>\n",
       "    <tr>\n",
       "      <th>1118</th>\n",
       "      <td>Home</td>\n",
       "      <td>SHOT</td>\n",
       "      <td>HEAD-ON TARGET-GOAL</td>\n",
       "      <td>2</td>\n",
       "      <td>73983</td>\n",
       "      <td>2959.32</td>\n",
       "      <td>73995</td>\n",
       "      <td>2959.80</td>\n",
       "      <td>Player9</td>\n",
       "      <td>NaN</td>\n",
       "      <td>47.70</td>\n",
       "      <td>-1.36</td>\n",
       "      <td>54.06</td>\n",
       "      <td>-2.04</td>\n",
       "    </tr>\n",
       "    <tr>\n",
       "      <th>1671</th>\n",
       "      <td>Away</td>\n",
       "      <td>SHOT</td>\n",
       "      <td>ON TARGET-GOAL</td>\n",
       "      <td>2</td>\n",
       "      <td>115009</td>\n",
       "      <td>4600.36</td>\n",
       "      <td>115024</td>\n",
       "      <td>4600.96</td>\n",
       "      <td>Player20</td>\n",
       "      <td>NaN</td>\n",
       "      <td>-40.28</td>\n",
       "      <td>-1.36</td>\n",
       "      <td>-55.12</td>\n",
       "      <td>-2.72</td>\n",
       "    </tr>\n",
       "    <tr>\n",
       "      <th>1723</th>\n",
       "      <td>Home</td>\n",
       "      <td>SHOT</td>\n",
       "      <td>ON TARGET-GOAL</td>\n",
       "      <td>2</td>\n",
       "      <td>121027</td>\n",
       "      <td>4841.08</td>\n",
       "      <td>121055</td>\n",
       "      <td>4842.20</td>\n",
       "      <td>Player12</td>\n",
       "      <td>NaN</td>\n",
       "      <td>30.74</td>\n",
       "      <td>-5.44</td>\n",
       "      <td>54.06</td>\n",
       "      <td>-2.72</td>\n",
       "    </tr>\n",
       "  </tbody>\n",
       "</table>\n",
       "</div>"
      ],
      "text/plain": [
       "      Team  Type              Subtype  Period  Start Frame  Start Time [s]  \\\n",
       "198   Home  SHOT       ON TARGET-GOAL       1        12202          488.08   \n",
       "823   Away  SHOT       ON TARGET-GOAL       1        53049         2121.96   \n",
       "1118  Home  SHOT  HEAD-ON TARGET-GOAL       2        73983         2959.32   \n",
       "1671  Away  SHOT       ON TARGET-GOAL       2       115009         4600.36   \n",
       "1723  Home  SHOT       ON TARGET-GOAL       2       121027         4841.08   \n",
       "\n",
       "      End Frame  End Time [s]      From   To  Start X  Start Y  End X  End Y  \n",
       "198       12212        488.48  Player10  NaN   -47.70    -3.40 -54.06  -2.04  \n",
       "823       53075       2123.00  Player24  NaN    44.52     2.72  54.06   1.36  \n",
       "1118      73995       2959.80   Player9  NaN    47.70    -1.36  54.06  -2.04  \n",
       "1671     115024       4600.96  Player20  NaN   -40.28    -1.36 -55.12  -2.72  \n",
       "1723     121055       4842.20  Player12  NaN    30.74    -5.44  54.06  -2.72  "
      ]
     },
     "execution_count": 506,
     "metadata": {},
     "output_type": "execute_result"
    }
   ],
   "source": [
    "# first goal\n",
    "events.query(\"Type=='SHOT' & Subtype.str.endswith('GOAL')\")"
   ]
  },
  {
   "cell_type": "code",
   "execution_count": 510,
   "metadata": {},
   "outputs": [
    {
     "data": {
      "text/html": [
       "<div>\n",
       "<style scoped>\n",
       "    .dataframe tbody tr th:only-of-type {\n",
       "        vertical-align: middle;\n",
       "    }\n",
       "\n",
       "    .dataframe tbody tr th {\n",
       "        vertical-align: top;\n",
       "    }\n",
       "\n",
       "    .dataframe thead th {\n",
       "        text-align: right;\n",
       "    }\n",
       "</style>\n",
       "<table border=\"1\" class=\"dataframe\">\n",
       "  <thead>\n",
       "    <tr style=\"text-align: right;\">\n",
       "      <th></th>\n",
       "      <th>Team</th>\n",
       "      <th>Type</th>\n",
       "      <th>Subtype</th>\n",
       "      <th>Period</th>\n",
       "      <th>Start Frame</th>\n",
       "      <th>Start Time [s]</th>\n",
       "      <th>End Frame</th>\n",
       "      <th>End Time [s]</th>\n",
       "      <th>From</th>\n",
       "      <th>To</th>\n",
       "      <th>Start X</th>\n",
       "      <th>Start Y</th>\n",
       "      <th>End X</th>\n",
       "      <th>End Y</th>\n",
       "    </tr>\n",
       "  </thead>\n",
       "  <tbody>\n",
       "    <tr>\n",
       "      <th>190</th>\n",
       "      <td>Home</td>\n",
       "      <td>PASS</td>\n",
       "      <td>NaN</td>\n",
       "      <td>1</td>\n",
       "      <td>11647</td>\n",
       "      <td>465.88</td>\n",
       "      <td>11685</td>\n",
       "      <td>467.40</td>\n",
       "      <td>Player7</td>\n",
       "      <td>Player10</td>\n",
       "      <td>-13.78</td>\n",
       "      <td>-0.68</td>\n",
       "      <td>-21.20</td>\n",
       "      <td>-0.00</td>\n",
       "    </tr>\n",
       "    <tr>\n",
       "      <th>191</th>\n",
       "      <td>Home</td>\n",
       "      <td>PASS</td>\n",
       "      <td>NaN</td>\n",
       "      <td>1</td>\n",
       "      <td>11685</td>\n",
       "      <td>467.40</td>\n",
       "      <td>11703</td>\n",
       "      <td>468.12</td>\n",
       "      <td>Player10</td>\n",
       "      <td>Player5</td>\n",
       "      <td>-21.20</td>\n",
       "      <td>-0.00</td>\n",
       "      <td>-18.02</td>\n",
       "      <td>4.08</td>\n",
       "    </tr>\n",
       "    <tr>\n",
       "      <th>192</th>\n",
       "      <td>Home</td>\n",
       "      <td>PASS</td>\n",
       "      <td>NaN</td>\n",
       "      <td>1</td>\n",
       "      <td>11721</td>\n",
       "      <td>468.84</td>\n",
       "      <td>11744</td>\n",
       "      <td>469.76</td>\n",
       "      <td>Player5</td>\n",
       "      <td>Player9</td>\n",
       "      <td>-20.14</td>\n",
       "      <td>4.08</td>\n",
       "      <td>-30.74</td>\n",
       "      <td>7.48</td>\n",
       "    </tr>\n",
       "    <tr>\n",
       "      <th>193</th>\n",
       "      <td>Home</td>\n",
       "      <td>PASS</td>\n",
       "      <td>NaN</td>\n",
       "      <td>1</td>\n",
       "      <td>11810</td>\n",
       "      <td>472.40</td>\n",
       "      <td>11885</td>\n",
       "      <td>475.40</td>\n",
       "      <td>Player9</td>\n",
       "      <td>Player8</td>\n",
       "      <td>-32.86</td>\n",
       "      <td>0.68</td>\n",
       "      <td>-39.22</td>\n",
       "      <td>-25.16</td>\n",
       "    </tr>\n",
       "    <tr>\n",
       "      <th>194</th>\n",
       "      <td>Home</td>\n",
       "      <td>PASS</td>\n",
       "      <td>NaN</td>\n",
       "      <td>1</td>\n",
       "      <td>11958</td>\n",
       "      <td>478.32</td>\n",
       "      <td>11976</td>\n",
       "      <td>479.04</td>\n",
       "      <td>Player8</td>\n",
       "      <td>Player9</td>\n",
       "      <td>-41.34</td>\n",
       "      <td>-24.48</td>\n",
       "      <td>-42.40</td>\n",
       "      <td>-14.96</td>\n",
       "    </tr>\n",
       "    <tr>\n",
       "      <th>195</th>\n",
       "      <td>Home</td>\n",
       "      <td>PASS</td>\n",
       "      <td>NaN</td>\n",
       "      <td>1</td>\n",
       "      <td>11976</td>\n",
       "      <td>479.04</td>\n",
       "      <td>11994</td>\n",
       "      <td>479.76</td>\n",
       "      <td>Player9</td>\n",
       "      <td>Player8</td>\n",
       "      <td>-42.40</td>\n",
       "      <td>-14.96</td>\n",
       "      <td>-38.16</td>\n",
       "      <td>-20.40</td>\n",
       "    </tr>\n",
       "    <tr>\n",
       "      <th>196</th>\n",
       "      <td>Home</td>\n",
       "      <td>PASS</td>\n",
       "      <td>NaN</td>\n",
       "      <td>1</td>\n",
       "      <td>12069</td>\n",
       "      <td>482.76</td>\n",
       "      <td>12146</td>\n",
       "      <td>485.84</td>\n",
       "      <td>Player8</td>\n",
       "      <td>Player1</td>\n",
       "      <td>-28.62</td>\n",
       "      <td>-7.48</td>\n",
       "      <td>-37.10</td>\n",
       "      <td>23.80</td>\n",
       "    </tr>\n",
       "    <tr>\n",
       "      <th>197</th>\n",
       "      <td>Home</td>\n",
       "      <td>PASS</td>\n",
       "      <td>CROSS</td>\n",
       "      <td>1</td>\n",
       "      <td>12180</td>\n",
       "      <td>487.20</td>\n",
       "      <td>12202</td>\n",
       "      <td>488.08</td>\n",
       "      <td>Player1</td>\n",
       "      <td>Player10</td>\n",
       "      <td>-40.28</td>\n",
       "      <td>19.72</td>\n",
       "      <td>-47.70</td>\n",
       "      <td>-3.40</td>\n",
       "    </tr>\n",
       "    <tr>\n",
       "      <th>198</th>\n",
       "      <td>Home</td>\n",
       "      <td>SHOT</td>\n",
       "      <td>ON TARGET-GOAL</td>\n",
       "      <td>1</td>\n",
       "      <td>12202</td>\n",
       "      <td>488.08</td>\n",
       "      <td>12212</td>\n",
       "      <td>488.48</td>\n",
       "      <td>Player10</td>\n",
       "      <td>NaN</td>\n",
       "      <td>-47.70</td>\n",
       "      <td>-3.40</td>\n",
       "      <td>-54.06</td>\n",
       "      <td>-2.04</td>\n",
       "    </tr>\n",
       "  </tbody>\n",
       "</table>\n",
       "</div>"
      ],
      "text/plain": [
       "     Team  Type         Subtype  Period  Start Frame  Start Time [s]  \\\n",
       "190  Home  PASS             NaN       1        11647          465.88   \n",
       "191  Home  PASS             NaN       1        11685          467.40   \n",
       "192  Home  PASS             NaN       1        11721          468.84   \n",
       "193  Home  PASS             NaN       1        11810          472.40   \n",
       "194  Home  PASS             NaN       1        11958          478.32   \n",
       "195  Home  PASS             NaN       1        11976          479.04   \n",
       "196  Home  PASS             NaN       1        12069          482.76   \n",
       "197  Home  PASS           CROSS       1        12180          487.20   \n",
       "198  Home  SHOT  ON TARGET-GOAL       1        12202          488.08   \n",
       "\n",
       "     End Frame  End Time [s]      From        To  Start X  Start Y  End X  \\\n",
       "190      11685        467.40   Player7  Player10   -13.78    -0.68 -21.20   \n",
       "191      11703        468.12  Player10   Player5   -21.20    -0.00 -18.02   \n",
       "192      11744        469.76   Player5   Player9   -20.14     4.08 -30.74   \n",
       "193      11885        475.40   Player9   Player8   -32.86     0.68 -39.22   \n",
       "194      11976        479.04   Player8   Player9   -41.34   -24.48 -42.40   \n",
       "195      11994        479.76   Player9   Player8   -42.40   -14.96 -38.16   \n",
       "196      12146        485.84   Player8   Player1   -28.62    -7.48 -37.10   \n",
       "197      12202        488.08   Player1  Player10   -40.28    19.72 -47.70   \n",
       "198      12212        488.48  Player10       NaN   -47.70    -3.40 -54.06   \n",
       "\n",
       "     End Y  \n",
       "190  -0.00  \n",
       "191   4.08  \n",
       "192   7.48  \n",
       "193 -25.16  \n",
       "194 -14.96  \n",
       "195 -20.40  \n",
       "196  23.80  \n",
       "197  -3.40  \n",
       "198  -2.04  "
      ]
     },
     "execution_count": 510,
     "metadata": {},
     "output_type": "execute_result"
    }
   ],
   "source": [
    "events.loc[190:198]"
   ]
  },
  {
   "cell_type": "code",
   "execution_count": 513,
   "metadata": {},
   "outputs": [
    {
     "data": {
      "text/plain": [
       "{'Period': 1.0,\n",
       " 'Time [s]': 465.92,\n",
       " 'Home_11_x': 36.288039999999995,\n",
       " 'Home_11_y': 1.6578400000000009,\n",
       " 'Home_1_x': 0.0,\n",
       " 'Home_1_y': 10.28228,\n",
       " 'Home_2_x': 10.596820000000001,\n",
       " 'Home_2_y': 14.264359999999996,\n",
       " 'Home_3_x': 8.343260000000006,\n",
       " 'Home_3_y': -4.150719999999999,\n",
       " 'Home_4_x': -2.9012200000000004,\n",
       " 'Home_4_y': -8.872640000000002,\n",
       " 'Home_5_x': -13.842539999999998,\n",
       " 'Home_5_y': 4.668880000000003,\n",
       " 'Home_6_x': -7.3193,\n",
       " 'Home_6_y': 3.1266400000000014,\n",
       " 'Home_7_x': -13.630539999999998,\n",
       " 'Home_7_y': -0.6677599999999959,\n",
       " 'Home_8_x': -7.544019999999995,\n",
       " 'Home_8_y': -16.55528,\n",
       " 'Home_9_x': -18.489580000000004,\n",
       " 'Home_9_y': 22.418239999999997,\n",
       " 'Home_10_x': -23.96342,\n",
       " 'Home_10_y': -0.6453199999999999,\n",
       " 'Home_12_x': nan,\n",
       " 'Home_12_y': nan,\n",
       " 'Home_13_x': nan,\n",
       " 'Home_13_y': nan,\n",
       " 'Home_14_x': nan,\n",
       " 'Home_14_y': nan,\n",
       " 'ball_x': -13.669759999999997,\n",
       " 'ball_y': -0.6664000000000021,\n",
       " 'Home_1_vx': 3.7289285714281686,\n",
       " 'Home_1_vy': -1.168142857142793,\n",
       " 'Home_1_speed': 3.907616412278341,\n",
       " 'Home_10_vx': 2.8279285714282567,\n",
       " 'Home_10_vy': -0.5828571428570759,\n",
       " 'Home_10_speed': 2.887369469617592,\n",
       " 'Home_11_vx': 0.32935714285712536,\n",
       " 'Home_11_vy': -0.9422857142856038,\n",
       " 'Home_11_speed': 0.9981876050611626,\n",
       " 'Home_12_vx': nan,\n",
       " 'Home_12_vy': nan,\n",
       " 'Home_12_speed': nan,\n",
       " 'Home_13_vx': nan,\n",
       " 'Home_13_vy': nan,\n",
       " 'Home_13_speed': nan,\n",
       " 'Home_14_vx': nan,\n",
       " 'Home_14_vy': nan,\n",
       " 'Home_14_speed': nan,\n",
       " 'Home_2_vx': 1.7262857142855395,\n",
       " 'Home_2_vy': -2.353285714285466,\n",
       " 'Home_2_speed': 2.9185640339739662,\n",
       " 'Home_3_vx': 2.6651428571426106,\n",
       " 'Home_3_vy': -0.7139999999999356,\n",
       " 'Home_3_speed': 2.759127117219898,\n",
       " 'Home_4_vx': -0.022714285714286152,\n",
       " 'Home_4_vy': -0.9471428571427416,\n",
       " 'Home_4_speed': 0.9474151838618727,\n",
       " 'Home_5_vx': 2.4228571428568895,\n",
       " 'Home_5_vy': -1.5227142857141305,\n",
       " 'Home_5_speed': 2.861624631325804,\n",
       " 'Home_6_vx': 3.482857142856785,\n",
       " 'Home_6_vy': -3.0235714285711195,\n",
       " 'Home_6_speed': 4.612187990663448,\n",
       " 'Home_7_vx': -1.46885714285694,\n",
       " 'Home_7_vy': 0.20885714285712922,\n",
       " 'Home_7_speed': 1.4836315621623504,\n",
       " 'Home_8_vx': 4.213499999999572,\n",
       " 'Home_8_vy': 0.24285714285712817,\n",
       " 'Home_8_speed': 4.220493080415263,\n",
       " 'Home_9_vx': 0.7798571428570773,\n",
       " 'Home_9_vy': -1.4304285714284037,\n",
       " 'Home_9_speed': 1.6292031982610111}"
      ]
     },
     "execution_count": 513,
     "metadata": {},
     "output_type": "execute_result"
    }
   ],
   "source": [
    "dict(tracking_home.iloc[11647])"
   ]
  },
  {
   "cell_type": "code",
   "execution_count": null,
   "metadata": {},
   "outputs": [],
   "source": [
    "# Plot the first goal\n",
    "fig,ax = mviz.plot_pitch()\n",
    "ax.plot( events.loc[198]['Start X'], events.loc[198]['Start Y'], 'ro' )\n",
    "ax.annotate(\"\", xy=events.loc[198][['End X','End Y']], \n",
    "            xytext=events.loc[198][['Start X','Start Y']], \n",
    "            alpha=0.6, arrowprops=dict(arrowstyle=\"->\",color='r'));\n",
    "\n",
    "# plot passing move in run up to goal\n",
    "mviz.plot_events(events.loc[190:198], indicators = ['Marker','Arrow'], \n",
    "                 annotate=True, figax=(fig,ax))"
   ]
  },
  {
   "cell_type": "code",
   "execution_count": null,
   "metadata": {},
   "outputs": [],
   "source": []
  },
  {
   "cell_type": "code",
   "execution_count": null,
   "metadata": {},
   "outputs": [],
   "source": []
  }
 ],
 "metadata": {
  "kernelspec": {
   "display_name": "Python 3.6.10 64-bit ('kickoff': conda)",
   "language": "python",
   "name": "python361064bitkickoffconda0429761356e34c7095cf0a0743665a00"
  },
  "language_info": {
   "codemirror_mode": {
    "name": "ipython",
    "version": 3
   },
   "file_extension": ".py",
   "mimetype": "text/x-python",
   "name": "python",
   "nbconvert_exporter": "python",
   "pygments_lexer": "ipython3",
   "version": "3.6.10"
  }
 },
 "nbformat": 4,
 "nbformat_minor": 4
}
