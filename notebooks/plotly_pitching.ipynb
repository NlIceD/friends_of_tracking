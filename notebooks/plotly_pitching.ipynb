{
 "cells": [
  {
   "cell_type": "code",
   "execution_count": 1,
   "metadata": {},
   "outputs": [
    {
     "name": "stderr",
     "output_type": "stream",
     "text": [
      "FutureWarning: pandas.core.index is deprecated and will be removed in a future version.  The public classes are available in the top-level namespace.\n",
      "UserWarning: The Dask Engine for Modin is experimental.\n"
     ]
    }
   ],
   "source": [
    "import json\n",
    "import modin.pandas as pd\n",
    "import re\n",
    "import numpy as np\n",
    "import matplotlib.pyplot as plt\n",
    "import glob\n",
    "import sys\n",
    "from sklearn.preprocessing import MinMaxScaler\n",
    "import warnings\n",
    "warnings.filterwarnings('ignore')\n",
    "pd.options.display.max_columns = None\n",
    "sys.path.insert(0,'/media/csivsw/crossOS/playground/friends_of_tracking/src/friends_of_tracking/LaurieOnTracking')\n",
    "%matplotlib inline"
   ]
  },
  {
   "cell_type": "code",
   "execution_count": 2,
   "metadata": {},
   "outputs": [],
   "source": [
    "import Metrica_IO as mio\n",
    "import Metrica_Viz as mviz\n",
    "import Metrica_Velocities as mvel"
   ]
  },
  {
   "cell_type": "code",
   "execution_count": 3,
   "metadata": {},
   "outputs": [
    {
     "name": "stdout",
     "output_type": "stream",
     "text": [
      "Reading team: home\n",
      "Reading team: away\n"
     ]
    }
   ],
   "source": [
    "# set up initial path to data\n",
    "DATADIR = '../datahub/metrica_sports/sample-data/data'\n",
    "game_id = 2 # let's look at sample match 2\n",
    "\n",
    "# read in the event data\n",
    "events = mio.read_event_data(DATADIR,game_id)\n",
    "\n",
    "# read in tracking data\n",
    "tracking_home = mio.tracking_data(DATADIR,game_id,'Home')\n",
    "tracking_away = mio.tracking_data(DATADIR,game_id,'Away')\n",
    "\n",
    "# Convert positions from metrica units to meters (note change in Metrica's coordinate system since the last lesson)\n",
    "tracking_home = mio.to_metric_coordinates(tracking_home)\n",
    "tracking_away = mio.to_metric_coordinates(tracking_away)\n",
    "events = mio.to_metric_coordinates(events)\n",
    "\n",
    "# reverse direction of play in the second half so that home team is always attacking from right->left\n",
    "tracking_home,tracking_away,events = mio.to_single_playing_direction(tracking_home,tracking_away,events)\n"
   ]
  },
  {
   "cell_type": "code",
   "execution_count": 4,
   "metadata": {},
   "outputs": [],
   "source": [
    "# Calculate player velocities\n",
    "tracking_home = mvel.calc_player_velocities(tracking_home,smoothing=True)\n",
    "tracking_away = mvel.calc_player_velocities(tracking_away,smoothing=True)"
   ]
  },
  {
   "cell_type": "code",
   "execution_count": 5,
   "metadata": {},
   "outputs": [
    {
     "data": {
      "text/plain": [
       "(<Figure size 864x576 with 1 Axes>,\n",
       " <matplotlib.axes._subplots.AxesSubplot at 0x7f68d0b49320>)"
      ]
     },
     "execution_count": 5,
     "metadata": {},
     "output_type": "execute_result"
    },
    {
     "data": {
      "image/png": "[encoded data removed]",
      "text/plain": [
       "<Figure size 864x576 with 1 Axes>"
      ]
     },
     "metadata": {},
     "output_type": "display_data"
    }
   ],
   "source": [
    "# plot a random frame, plotting the player velocities using quivers\n",
    "mviz.plot_frame( tracking_home.loc[10000], tracking_away.loc[10000], include_player_velocities=True, annotate=True)\n"
   ]
  },
  {
   "cell_type": "code",
   "execution_count": null,
   "metadata": {},
   "outputs": [],
   "source": []
  },
  {
   "cell_type": "code",
   "execution_count": null,
   "metadata": {},
   "outputs": [],
   "source": []
  },
  {
   "cell_type": "code",
   "execution_count": 6,
   "metadata": {},
   "outputs": [],
   "source": [
    "from collections import namedtuple"
   ]
  },
  {
   "cell_type": "code",
   "execution_count": 7,
   "metadata": {},
   "outputs": [
    {
     "data": {
      "text/plain": [
       "point(x=0.0, y=0)"
      ]
     },
     "execution_count": 7,
     "metadata": {},
     "output_type": "execute_result"
    }
   ],
   "source": [
    "point = namedtuple('point',['x','y'])\n",
    "centre = point(0.,0)\n",
    "centre"
   ]
  },
  {
   "cell_type": "code",
   "execution_count": 8,
   "metadata": {},
   "outputs": [],
   "source": [
    "%matplotlib inline"
   ]
  },
  {
   "cell_type": "code",
   "execution_count": 9,
   "metadata": {},
   "outputs": [],
   "source": [
    "import plotly.graph_objects as go\n",
    "import plotly.figure_factory as ff\n"
   ]
  },
  {
   "cell_type": "code",
   "execution_count": 201,
   "metadata": {},
   "outputs": [],
   "source": [
    "def plot_pitch(field_dimen = (106.0,68.0), field_color ='green', linewidth=2, markersize=20, data = None):\n",
    "    # decide what color we want the field to be. Default is green, but can also choose white\n",
    "#     if field_color=='green':\n",
    "#         ax.set_facecolor('mediumseagreen')\n",
    "#         lc = 'whitesmoke' # line color\n",
    "#         pc = 'w' # 'spot' colors\n",
    "#     elif field_color=='white':\n",
    "#         lc = 'k'\n",
    "#         pc = 'k'\n",
    "    # ALL DIMENSIONS IN m\n",
    "    border_dimen = (3,3) # include a border arround of the field of width 3m\n",
    "    meters_per_yard = 0.9144 # unit conversion from yards to meters\n",
    "    half_pitch_length = field_dimen[0]/2. # length of half pitch\n",
    "    half_pitch_width = field_dimen[1]/2. # width of half pitch\n",
    "    signs = [-1,1] \n",
    "    # Soccer field dimensions typically defined in yards, so we need to convert to meters\n",
    "    goal_line_width = 8*meters_per_yard\n",
    "    box_width = 20*meters_per_yard\n",
    "    box_length = 6*meters_per_yard\n",
    "    area_width = 44*meters_per_yard\n",
    "    area_length = 18*meters_per_yard\n",
    "    penalty_spot = 12*meters_per_yard\n",
    "    corner_radius = 1*meters_per_yard\n",
    "    D_length = 8*meters_per_yard\n",
    "    D_radius = 10*meters_per_yard\n",
    "    D_pos = 12*meters_per_yard\n",
    "    centre_circle_radius = 10*meters_per_yard\n",
    "    centre = point(0.,0.)\n",
    "    \n",
    "    \n",
    "    shapes = []\n",
    "    \n",
    "    mid_circle = dict(type=\"circle\", x0=centre.x - centre_circle_radius, y0=centre.y - centre_circle_radius, x1=centre.x + centre_circle_radius, y1=centre.y + centre_circle_radius, line_color=\"White\", layer = \"below\") \n",
    "    mid_line = dict(type=\"line\",\n",
    "                    x0=centre.x, y0=centre.y - half_pitch_width,\n",
    "                    x1=centre.x, y1=centre.y + half_pitch_width, line_color=\"White\", layer = \"below\")\n",
    "    mid_point = dict(type=\"circle\", \n",
    "                     x0=centre.x-0.4, y0=centre.y-0.4, \n",
    "                     x1=centre.x+0.4, y1=centre.y+0.4, line_color=\"White\", fillcolor='white', layer = \"below\") \n",
    "    shapes.extend([mid_circle,mid_line,mid_point])\n",
    "    \n",
    "    \n",
    "    for s in signs:\n",
    "        \n",
    "        # plot pitch boundary\n",
    "        boundary1 = dict(type=\"line\",\n",
    "                    x0=-half_pitch_length, y0=s*half_pitch_width,\n",
    "                    x1=half_pitch_length, y1=s*half_pitch_width, line_color=\"White\", layer = \"below\")\n",
    "        \n",
    "        boundary2 = dict(type=\"line\",\n",
    "                    x0=s*half_pitch_length, y0=-half_pitch_width,\n",
    "                    x1=s*half_pitch_length, y1=half_pitch_width, line_color=\"White\", layer = \"below\")\n",
    "        \n",
    "        circle = dict(type=\"circle\", \n",
    "                           x0=s*(centre.x+half_pitch_length-penalty_spot) - centre_circle_radius, y0=centre.y - centre_circle_radius,\n",
    "                           x1=s*(centre.x+half_pitch_length-penalty_spot) + centre_circle_radius, y1=centre.y + centre_circle_radius, line_color=\"White\", layer = \"below\")\n",
    "        \n",
    "        patch = dict(type=\"rect\",\n",
    "                     x0=s*half_pitch_length,y0=-area_width/2. - 1,\n",
    "                     x1=s*(half_pitch_length - area_length),y1=area_width/2. + 1,line=dict(color=\"mediumseagreen\",width=0),fillcolor=\"mediumseagreen\", layer = \"below\")\n",
    "        \n",
    "        box = dict(type=\"rect\",\n",
    "                              x0=s*half_pitch_length,y0=-area_width/2.,\n",
    "                              x1=s*(half_pitch_length - area_length),y1=area_width/2.,line=dict(color=\"white\",width=2), layer = \"below\")\n",
    "        D = dict(type=\"rect\",\n",
    "                 x0=s*half_pitch_length,y0=-box_width/2.,\n",
    "                 x1=s*(half_pitch_length - box_length),y1=box_width/2.,line=dict(color=\"white\",width=2), layer = \"below\")\n",
    "        pen = dict(type=\"circle\", \n",
    "                   x0=s*(half_pitch_length - penalty_spot)-0.4, y0=-0.4, \n",
    "                   x1=s*(half_pitch_length - penalty_spot)+0.4, y1= 0.4, line_color=\"White\", fillcolor='white', layer = \"below\")\n",
    "\n",
    "        top_post = dict(type=\"rect\", \n",
    "                        x0=s*half_pitch_length, y0=goal_line_width/2. - 0.5, \n",
    "                        x1=s*(half_pitch_length-0.5), y1=goal_line_width/2.+0.5, line=dict(color=\"white\",width=0),fillcolor=\"white\", layer = \"below\")\n",
    "        \n",
    "        bottom_post = dict(type=\"rect\", \n",
    "                        x0=s*half_pitch_length, y0=-goal_line_width/2. - 0.5, \n",
    "                        x1=s*(half_pitch_length-0.5), y1=-goal_line_width/2.+0.5, line=dict(color=\"white\",width=0),fillcolor=\"white\", layer = \"below\")\n",
    "        \n",
    "        shapes.extend([boundary1, boundary2,circle, patch , box, D, pen, top_post, bottom_post])\n",
    "        \n",
    "    # set axis limits\n",
    "    xmax = field_dimen[0]/2. + border_dimen[0]\n",
    "    ymax = field_dimen[1]/2. + border_dimen[1]\n",
    "    \n",
    "    layout = go.Layout(\n",
    "                    title='Plotting frames and events using Plotly',\n",
    "                    hovermode='closest',\n",
    "                    autosize=False,\n",
    "                    width=1200,\n",
    "                    height=800,\n",
    "                    plot_bgcolor='mediumseagreen',\n",
    "                    xaxis=go.layout.XAxis(\n",
    "                        range=[-xmax, xmax],\n",
    "                        showgrid=False,zeroline=False,\n",
    "                        showticklabels=False\n",
    "                    ),\n",
    "                    yaxis=go.layout.YAxis(\n",
    "                        range=[-ymax, ymax],\n",
    "                        showgrid=False,zeroline=False,\n",
    "                        showticklabels=False,\n",
    "                        scaleanchor = \"x\",\n",
    "      scaleratio = 1,\n",
    "                ),\n",
    "    shapes=shapes)\n",
    "    data = data\n",
    "\n",
    "    fig = go.Figure(data= data, layout=layout)\n",
    "    \n",
    "    return fig"
   ]
  },
  {
   "cell_type": "code",
   "execution_count": 28,
   "metadata": {},
   "outputs": [
    {
     "ename": "SyntaxError",
     "evalue": "invalid syntax (<ipython-input-28-54d2b3fd9c8c>, line 1)",
     "output_type": "error",
     "traceback": [
      "\u001b[0;36m  File \u001b[0;32m\"<ipython-input-28-54d2b3fd9c8c>\"\u001b[0;36m, line \u001b[0;32m1\u001b[0m\n\u001b[0;31m    player_marker_props = ['color': home.color, 'size', 'linecolor','linewidth', 'annotation': 'num','size']\u001b[0m\n\u001b[0m                                  ^\u001b[0m\n\u001b[0;31mSyntaxError\u001b[0m\u001b[0;31m:\u001b[0m invalid syntax\n"
     ]
    }
   ],
   "source": [
    "player_marker_props = ['color': home.color, 'size', 'linecolor','linewidth', 'annotation': 'num','size']\n",
    "\n",
    "\n",
    "# get nums of home players\n",
    "# get each player namedtuple \n",
    "\n",
    "\n",
    "# plot a frame\n",
    "# -- plot pitch\n",
    "# -- plot home player pos / vel / pitch-ctrl?\n",
    "# -- plot away player pos / vel / pitch-ctrl?\n",
    "# -- plot ball\n",
    "\n",
    "\n",
    "# save match clip\n",
    "# -- plot a frame\n",
    "# -- include match time at top\n",
    "# ^^ iterate from all the indices \n",
    "# >> save animation\n",
    "\n",
    "# plot events\n",
    "# -- plot pitch\n",
    "# -- plot event row action"
   ]
  },
  {
   "cell_type": "code",
   "execution_count": 147,
   "metadata": {},
   "outputs": [],
   "source": [
    "PLAYERMARKERSIZE = 20\n",
    "player_marker_args = {'Home': dict(mode='markers+text', \n",
    "                                   marker_size = PLAYERMARKERSIZE, \n",
    "                                   marker_line_color=\"white\", \n",
    "                                   marker_color=\"red\", \n",
    "                                   marker_line_width=2,\n",
    "                                   textfont=dict(\n",
    "                                        size=11,\n",
    "                                        color=\"white\"\n",
    "                                    )),\n",
    "                      'Away': dict(mode='markers+text', \n",
    "                                   marker_size = PLAYERMARKERSIZE, \n",
    "                                   marker_line_color=\"white\", \n",
    "                                   marker_color=\"#0570b0\", \n",
    "                                   marker_line_width=2,\n",
    "                                   textfont=dict(\n",
    "                                        size=11,\n",
    "                                        color=\"white\"\n",
    "                                    ))}\n",
    "\n",
    "event_player_marker_args = {'Home': dict(mode='lines+markers+text', \n",
    "                                   marker_size = PLAYERMARKERSIZE, \n",
    "                                   marker_line_color=\"white\", \n",
    "                                   marker_color=\"red\", \n",
    "                                   marker_line_width=2,\n",
    "                                   line_color = \"red\",\n",
    "                                   textfont=dict(\n",
    "                                        size=11,\n",
    "                                        color=\"white\"\n",
    "                                    )),\n",
    "                      'Away': dict(mode='lines+markers+text', \n",
    "                                   marker_size = PLAYERMARKERSIZE, \n",
    "                                   marker_line_color=\"white\", \n",
    "                                   marker_color=\"#0570b0\", \n",
    "                                   marker_line_width=2,\n",
    "                                   line_color =\"#0570b0\",\n",
    "                                   textfont=dict(\n",
    "                                        size=11,\n",
    "                                        color=\"white\"\n",
    "                                    ))}\n"
   ]
  },
  {
   "cell_type": "code",
   "execution_count": 196,
   "metadata": {},
   "outputs": [],
   "source": [
    "\n",
    "\n",
    "def positions(tracking_data):\n",
    "    position_traces = []\n",
    "    for i, side in enumerate(['Home','Away']):\n",
    "        team_data = tracking_data[i]\n",
    "        player_nums = list(set(item for subitem in team_data.keys() for item in subitem.split('_')\n",
    "                               if item.isdigit()))\n",
    "        xlocs = [team_data['{}_{}_{}'.format(side, num,'x')] for num in player_nums]\n",
    "        ylocs = [team_data['{}_{}_{}'.format(side, num,'y')] for num in player_nums]\n",
    "        traces = go.Scatter(x = xlocs,y = ylocs, text = player_nums, **player_marker_args[side], name = side)\n",
    "        position_traces.append(traces)\n",
    "\n",
    "    return position_traces\n",
    "\n",
    "\n",
    "def velocities(tracking_data):\n",
    "    velocity_quivers = []\n",
    "    for i, side in enumerate(['Home','Away']):\n",
    "        team_data = tracking_data[i]\n",
    "        player_nums = list(set(item for subitem in team_data.keys() for item in subitem.split('_')\n",
    "                               if item.isdigit()))\n",
    "        xlocs = [team_data['{}_{}_{}'.format(side, num,'x')] for num in player_nums]\n",
    "        ylocs = [team_data['{}_{}_{}'.format(side, num,'y')] for num in player_nums]\n",
    "        xvels = [team_data['{}_{}_{}'.format(side, num,'vx')] for num in player_nums]\n",
    "        yvels = [team_data['{}_{}_{}'.format(side, num,'vy')] for num in player_nums]\n",
    "        trace = ff.create_quiver(x = xlocs, y = ylocs, u = xvels,v = yvels, \n",
    "                                 scale=1., line_color = player_marker_args[side]['marker_color'], name = side+'_vel')\n",
    "        velocity_quivers.append(trace.data[0])\n",
    "\n",
    "    return velocity_quivers\n",
    "\n",
    "\n",
    "\n",
    "def plot_ball(tracking_data):\n",
    "    team_data = tracking_data[0]\n",
    "    trace = go.Scatter(x = [team_data['ball_x']],y = [team_data['ball_y']], \n",
    "                           marker_size = 10, marker_opacity=0.8, marker_color = '#262e39', name = 'ball'\n",
    "                          )\n",
    "    return [trace]"
   ]
  },
  {
   "cell_type": "code",
   "execution_count": 197,
   "metadata": {},
   "outputs": [],
   "source": [
    "def plot_frame(hometeam, awayteam, show_velocities=True):\n",
    "    tracking_data = (hometeam,awayteam)\n",
    "    traces = []\n",
    "    \n",
    "    if show_velocities: traces.extend(velocities(tracking_data))\n",
    "        \n",
    "    traces.extend(positions(tracking_data))\n",
    "    \n",
    "    if hometeam['ball_x']: traces.extend(plot_ball(tracking_data))\n",
    "        \n",
    "    fig = plot_pitch(data=traces)\n",
    "    fig.show()"
   ]
  },
  {
   "cell_type": "code",
   "execution_count": 202,
   "metadata": {},
   "outputs": [
    {
     "data": {
      "application/vnd.plotly.v1+json": {
       "config": {
        "plotlyServerURL": "https://plot.ly"
       },
       "data": [
        {
         "line": {
          "color": "red"
         },
         "mode": "lines",
         "name": "Home_vel",
         "type": "scatter",
         "x": [
          -2.063819999999999,
          -5.065891428571092,
          null,
          -13.440800000000003,
          -14.758228571428422,
          null,
          5.04772,
          4.373862857142912,
          null,
          -15.89258,
          -15.593508571428599,
          null,
          8.90082,
          7.019320000000217,
          null,
          16.563560000000006,
          14.852417142857337,
          null,
          null,
          null,
          null,
          9.645999999999997,
          8.37778571428584,
          null,
          15.08592,
          12.72742000000025,
          null,
          null,
          null,
          null,
          null,
          null,
          null,
          38.56916000000001,
          38.24358857142864,
          null,
          -7.845060000000002,
          -9.465345714285544,
          null,
          -10.206739999999998,
          -11.338668571428435,
          null,
          -4.25247668380478,
          -5.065891428571092,
          -4.186691552237124,
          null,
          -14.451623586483253,
          -14.758228571428422,
          -14.322046812183308,
          null,
          4.668735782486978,
          4.373862857142912,
          4.458921082562855,
          null,
          -15.743853453455618,
          -15.593508571428599,
          -15.611784818111447,
          null,
          7.605298001089081,
          7.019320000000217,
          7.494160998516442,
          null,
          15.385884789054288,
          14.852417142857337,
          15.283718486240875,
          null,
          null,
          null,
          null,
          null,
          8.841707662632702,
          8.37778571428584,
          8.628902729455497,
          null,
          13.300599027409598,
          12.72742000000025,
          13.4840000002649,
          null,
          null,
          null,
          null,
          null,
          null,
          null,
          null,
          null,
          38.28727677396518,
          38.24358857142864,
          38.383462610272446,
          null,
          -8.872518942486925,
          -9.465345714285544,
          -9.144630168516793,
          null,
          -11.072147361713268,
          -11.338668571428435,
          -10.96699082564678,
          null
         ],
         "y": [
          32.52984,
          32.20926857142864,
          null,
          -11.257399999999999,
          -11.888828571428526,
          null,
          17.077520000000003,
          18.099948571428417,
          null,
          0.3318399999999997,
          -0.31173142857136527,
          null,
          -16.234319999999997,
          -15.692748571428632,
          null,
          -10.191159999999996,
          -9.693302857142918,
          null,
          null,
          null,
          null,
          3.724359999999999,
          4.761359999999875,
          null,
          8.924320000000002,
          8.030605714285802,
          null,
          null,
          null,
          null,
          null,
          null,
          null,
          0.9941599999999977,
          0.5254457142857483,
          null,
          10.633840000000001,
          11.95983999999984,
          null,
          -32.135439999999996,
          -32.6478685714285,
          null,
          32.607670823269764,
          32.20926857142864,
          31.991609483105496,
          null,
          -11.57564780804471,
          -11.888828571428526,
          -11.846000073337477,
          null,
          17.88085981124713,
          18.099948571428417,
          17.742576181298528,
          null,
          -0.16099016771759922,
          -0.31173142857136527,
          -0.09961709599883717,
          null,
          -15.65236850404558,
          -15.692748571428632,
          -16.03847504384588,
          null,
          -9.658079064572235,
          -9.693302857142918,
          -10.009226259722613,
          null,
          null,
          null,
          null,
          null,
          4.599148075203699,
          4.761359999999875,
          4.3388951761431285,
          null,
          8.524547082508828,
          8.030605714285802,
          8.040554377688725,
          null,
          null,
          null,
          null,
          null,
          null,
          null,
          null,
          null,
          0.6909855169473508,
          0.5254457142857483,
          0.6241743249497167,
          null,
          11.752281381119793,
          11.95983999999984,
          11.419779169782709,
          null,
          -32.387268255582825,
          -32.6478685714285,
          -32.619553678923445,
          null
         ]
        },
        {
         "line": {
          "color": "#0570b0"
         },
         "mode": "lines",
         "name": "Away_vel",
         "type": "scatter",
         "x": [
          -7.579000000000001,
          -8.529214285714191,
          null,
          -6.882580000000004,
          -7.791151428571314,
          null,
          -16.60914,
          -16.734068571428573,
          null,
          -42.549459999999996,
          -43.098388571428515,
          null,
          null,
          null,
          null,
          -16.714080000000003,
          -17.11536571428567,
          null,
          5.463239999999992,
          4.937025714285758,
          null,
          -4.810280000000003,
          -6.2488514285712915,
          null,
          -18.048619999999996,
          -18.374191428571375,
          null,
          -3.3835200000000003,
          -4.099019999999904,
          null,
          -16.21694,
          -16.296439999999986,
          null,
          4.976700000000005,
          3.4169857142858784,
          null,
          -8.441253847372277,
          -8.529214285714191,
          -8.08142911258552,
          null,
          -7.6725687981471795,
          -7.791151428571314,
          -7.397467338864225,
          null,
          -16.691623837391283,
          -16.734068571428573,
          -16.706076631447807,
          null,
          -42.94389051915996,
          -43.098388571428515,
          -42.94339214695112,
          null,
          null,
          null,
          null,
          null,
          -17.19785123889538,
          -17.11536571428567,
          -16.806629054951333,
          null,
          4.932618536645823,
          4.937025714285758,
          5.238120700668369,
          null,
          -6.038918033772751,
          -6.2488514285712915,
          -5.647695849828704,
          null,
          -18.393298124349418,
          -18.374191428571375,
          -18.171522491412983,
          null,
          -3.9867727904360777,
          -4.099019999999904,
          -3.8078571674603947,
          null,
          -16.404103477503032,
          -16.296439999999986,
          -16.143953184485458,
          null,
          3.8115786308313004,
          3.4169857142858784,
          3.9017840006324134,
          null
         ],
         "y": [
          -4.525399999999999,
          -6.278828571428388,
          null,
          -14.70092,
          -16.041491428571312,
          null,
          13.118559999999999,
          13.188988571428533,
          null,
          0.4875599999999969,
          0.48513142857145125,
          null,
          null,
          null,
          null,
          -4.579119999999997,
          -6.4855485714283665,
          null,
          5.15576,
          3.6670457142858925,
          null,
          4.97012,
          3.0636914285716372,
          null,
          -15.531200000000004,
          -16.611914285714185,
          null,
          17.097240000000003,
          16.225382857142968,
          null,
          4.649159999999999,
          3.381445714285834,
          null,
          -2.1943600000000014,
          -2.6339314285713895,
          null,
          -5.687025676677438,
          -6.278828571428388,
          -5.882021132391477,
          null,
          -15.570348985785376,
          -16.041491428571312,
          -15.756798823918317,
          null,
          13.181952635141009,
          13.188988571428533,
          13.156315782397726,
          null,
          0.5421394503692489,
          0.48513142857145125,
          0.42949267316392703,
          null,
          null,
          null,
          null,
          null,
          -5.906937173986011,
          -6.4855485714283665,
          -5.989285852494726,
          null,
          4.140718628535125,
          3.6670457142858925,
          4.032733097283127,
          null,
          3.7487346086148823,
          3.0636914285716372,
          3.453522364904384,
          null,
          -16.27384691787631,
          -16.611914285714185,
          -16.340658109873942,
          null,
          16.544580797964485,
          16.225382857142968,
          16.397751550434794,
          null,
          3.7469814225692937,
          3.381445714285834,
          3.730667061732662,
          null,
          -2.349976709186222,
          -2.6339314285713895,
          -2.670048931314445,
          null
         ]
        },
        {
         "marker": {
          "color": "red",
          "line": {
           "color": "white",
           "width": 2
          },
          "size": 20
         },
         "mode": "markers+text",
         "name": "Home",
         "text": [
          "1",
          "7",
          "5",
          "10",
          "4",
          "3",
          "14",
          "6",
          "2",
          "13",
          "12",
          "11",
          "9",
          "8"
         ],
         "textfont": {
          "color": "white",
          "size": 11
         },
         "type": "scatter",
         "x": [
          -2.063819999999999,
          -13.440800000000003,
          5.04772,
          -15.89258,
          8.90082,
          16.563560000000006,
          null,
          9.645999999999997,
          15.08592,
          null,
          null,
          38.56916000000001,
          -7.845060000000002,
          -10.206739999999998
         ],
         "y": [
          32.52984,
          -11.257399999999999,
          17.077520000000003,
          0.3318399999999997,
          -16.234319999999997,
          -10.191159999999996,
          null,
          3.724359999999999,
          8.924320000000002,
          null,
          null,
          0.9941599999999977,
          10.633840000000001,
          -32.135439999999996
         ]
        },
        {
         "marker": {
          "color": "#0570b0",
          "line": {
           "color": "white",
           "width": 2
          },
          "size": 20
         },
         "mode": "markers+text",
         "name": "Away",
         "text": [
          "21",
          "19",
          "18",
          "25",
          "26",
          "16",
          "23",
          "20",
          "15",
          "22",
          "17",
          "24"
         ],
         "textfont": {
          "color": "white",
          "size": 11
         },
         "type": "scatter",
         "x": [
          -7.579000000000001,
          -6.882580000000004,
          -16.60914,
          -42.549459999999996,
          null,
          -16.714080000000003,
          5.463239999999992,
          -4.810280000000003,
          -18.048619999999996,
          -3.3835200000000003,
          -16.21694,
          4.976700000000005
         ],
         "y": [
          -4.525399999999999,
          -14.70092,
          13.118559999999999,
          0.4875599999999969,
          null,
          -4.579119999999997,
          5.15576,
          4.97012,
          -15.531200000000004,
          17.097240000000003,
          4.649159999999999,
          -2.1943600000000014
         ]
        },
        {
         "marker": {
          "color": "#262e39",
          "opacity": 0.8,
          "size": 10
         },
         "name": "ball",
         "type": "scatter",
         "x": [
          9.140380000000004
         ],
         "y": [
          -2.044080000000006
         ]
        }
       ],
       "layout": {
        "autosize": false,
        "height": 800,
        "hovermode": "closest",
        "plot_bgcolor": "mediumseagreen",
        "shapes": [
         {
          "layer": "below",
          "line": {
           "color": "White"
          },
          "type": "circle",
          "x0": -9.144,
          "x1": 9.144,
          "y0": -9.144,
          "y1": 9.144
         },
         {
          "layer": "below",
          "line": {
           "color": "White"
          },
          "type": "line",
          "x0": 0,
          "x1": 0,
          "y0": -34,
          "y1": 34
         },
         {
          "fillcolor": "white",
          "layer": "below",
          "line": {
           "color": "White"
          },
          "type": "circle",
          "x0": -0.4,
          "x1": 0.4,
          "y0": -0.4,
          "y1": 0.4
         },
         {
          "layer": "below",
          "line": {
           "color": "White"
          },
          "type": "line",
          "x0": -53,
          "x1": 53,
          "y0": -34,
          "y1": -34
         },
         {
          "layer": "below",
          "line": {
           "color": "White"
          },
          "type": "line",
          "x0": -53,
          "x1": -53,
          "y0": -34,
          "y1": 34
         },
         {
          "layer": "below",
          "line": {
           "color": "White"
          },
          "type": "circle",
          "x0": -51.1712,
          "x1": -32.8832,
          "y0": -9.144,
          "y1": 9.144
         },
         {
          "fillcolor": "mediumseagreen",
          "layer": "below",
          "line": {
           "color": "mediumseagreen",
           "width": 0
          },
          "type": "rect",
          "x0": -53,
          "x1": -36.540800000000004,
          "y0": -21.1168,
          "y1": 21.1168
         },
         {
          "layer": "below",
          "line": {
           "color": "white",
           "width": 2
          },
          "type": "rect",
          "x0": -53,
          "x1": -36.540800000000004,
          "y0": -20.1168,
          "y1": 20.1168
         },
         {
          "layer": "below",
          "line": {
           "color": "white",
           "width": 2
          },
          "type": "rect",
          "x0": -53,
          "x1": -47.5136,
          "y0": -9.144,
          "y1": 9.144
         },
         {
          "fillcolor": "white",
          "layer": "below",
          "line": {
           "color": "White"
          },
          "type": "circle",
          "x0": -42.4272,
          "x1": -41.6272,
          "y0": -0.4,
          "y1": 0.4
         },
         {
          "fillcolor": "white",
          "layer": "below",
          "line": {
           "color": "white",
           "width": 0
          },
          "type": "rect",
          "x0": -53,
          "x1": -52.5,
          "y0": 3.1576,
          "y1": 4.1576
         },
         {
          "fillcolor": "white",
          "layer": "below",
          "line": {
           "color": "white",
           "width": 0
          },
          "type": "rect",
          "x0": -53,
          "x1": -52.5,
          "y0": -4.1576,
          "y1": -3.1576
         },
         {
          "layer": "below",
          "line": {
           "color": "White"
          },
          "type": "line",
          "x0": -53,
          "x1": 53,
          "y0": 34,
          "y1": 34
         },
         {
          "layer": "below",
          "line": {
           "color": "White"
          },
          "type": "line",
          "x0": 53,
          "x1": 53,
          "y0": -34,
          "y1": 34
         },
         {
          "layer": "below",
          "line": {
           "color": "White"
          },
          "type": "circle",
          "x0": 32.8832,
          "x1": 51.1712,
          "y0": -9.144,
          "y1": 9.144
         },
         {
          "fillcolor": "mediumseagreen",
          "layer": "below",
          "line": {
           "color": "mediumseagreen",
           "width": 0
          },
          "type": "rect",
          "x0": 53,
          "x1": 36.540800000000004,
          "y0": -21.1168,
          "y1": 21.1168
         },
         {
          "layer": "below",
          "line": {
           "color": "white",
           "width": 2
          },
          "type": "rect",
          "x0": 53,
          "x1": 36.540800000000004,
          "y0": -20.1168,
          "y1": 20.1168
         },
         {
          "layer": "below",
          "line": {
           "color": "white",
           "width": 2
          },
          "type": "rect",
          "x0": 53,
          "x1": 47.5136,
          "y0": -9.144,
          "y1": 9.144
         },
         {
          "fillcolor": "white",
          "layer": "below",
          "line": {
           "color": "White"
          },
          "type": "circle",
          "x0": 41.6272,
          "x1": 42.4272,
          "y0": -0.4,
          "y1": 0.4
         },
         {
          "fillcolor": "white",
          "layer": "below",
          "line": {
           "color": "white",
           "width": 0
          },
          "type": "rect",
          "x0": 53,
          "x1": 52.5,
          "y0": 3.1576,
          "y1": 4.1576
         },
         {
          "fillcolor": "white",
          "layer": "below",
          "line": {
           "color": "white",
           "width": 0
          },
          "type": "rect",
          "x0": 53,
          "x1": 52.5,
          "y0": -4.1576,
          "y1": -3.1576
         }
        ],
        "template": {
         "data": {
          "bar": [
           {
            "error_x": {
             "color": "#2a3f5f"
            },
            "error_y": {
             "color": "#2a3f5f"
            },
            "marker": {
             "line": {
              "color": "#E5ECF6",
              "width": 0.5
             }
            },
            "type": "bar"
           }
          ],
          "barpolar": [
           {
            "marker": {
             "line": {
              "color": "#E5ECF6",
              "width": 0.5
             }
            },
            "type": "barpolar"
           }
          ],
          "carpet": [
           {
            "aaxis": {
             "endlinecolor": "#2a3f5f",
             "gridcolor": "white",
             "linecolor": "white",
             "minorgridcolor": "white",
             "startlinecolor": "#2a3f5f"
            },
            "baxis": {
             "endlinecolor": "#2a3f5f",
             "gridcolor": "white",
             "linecolor": "white",
             "minorgridcolor": "white",
             "startlinecolor": "#2a3f5f"
            },
            "type": "carpet"
           }
          ],
          "choropleth": [
           {
            "colorbar": {
             "outlinewidth": 0,
             "ticks": ""
            },
            "type": "choropleth"
           }
          ],
          "contour": [
           {
            "colorbar": {
             "outlinewidth": 0,
             "ticks": ""
            },
            "colorscale": [
             [
              0,
              "#0d0887"
             ],
             [
              0.1111111111111111,
              "#46039f"
             ],
             [
              0.2222222222222222,
              "#7201a8"
             ],
             [
              0.3333333333333333,
              "#9c179e"
             ],
             [
              0.4444444444444444,
              "#bd3786"
             ],
             [
              0.5555555555555556,
              "#d8576b"
             ],
             [
              0.6666666666666666,
              "#ed7953"
             ],
             [
              0.7777777777777778,
              "#fb9f3a"
             ],
             [
              0.8888888888888888,
              "#fdca26"
             ],
             [
              1,
              "#f0f921"
             ]
            ],
            "type": "contour"
           }
          ],
          "contourcarpet": [
           {
            "colorbar": {
             "outlinewidth": 0,
             "ticks": ""
            },
            "type": "contourcarpet"
           }
          ],
          "heatmap": [
           {
            "colorbar": {
             "outlinewidth": 0,
             "ticks": ""
            },
            "colorscale": [
             [
              0,
              "#0d0887"
             ],
             [
              0.1111111111111111,
              "#46039f"
             ],
             [
              0.2222222222222222,
              "#7201a8"
             ],
             [
              0.3333333333333333,
              "#9c179e"
             ],
             [
              0.4444444444444444,
              "#bd3786"
             ],
             [
              0.5555555555555556,
              "#d8576b"
             ],
             [
              0.6666666666666666,
              "#ed7953"
             ],
             [
              0.7777777777777778,
              "#fb9f3a"
             ],
             [
              0.8888888888888888,
              "#fdca26"
             ],
             [
              1,
              "#f0f921"
             ]
            ],
            "type": "heatmap"
           }
          ],
          "heatmapgl": [
           {
            "colorbar": {
             "outlinewidth": 0,
             "ticks": ""
            },
            "colorscale": [
             [
              0,
              "#0d0887"
             ],
             [
              0.1111111111111111,
              "#46039f"
             ],
             [
              0.2222222222222222,
              "#7201a8"
             ],
             [
              0.3333333333333333,
              "#9c179e"
             ],
             [
              0.4444444444444444,
              "#bd3786"
             ],
             [
              0.5555555555555556,
              "#d8576b"
             ],
             [
              0.6666666666666666,
              "#ed7953"
             ],
             [
              0.7777777777777778,
              "#fb9f3a"
             ],
             [
              0.8888888888888888,
              "#fdca26"
             ],
             [
              1,
              "#f0f921"
             ]
            ],
            "type": "heatmapgl"
           }
          ],
          "histogram": [
           {
            "marker": {
             "colorbar": {
              "outlinewidth": 0,
              "ticks": ""
             }
            },
            "type": "histogram"
           }
          ],
          "histogram2d": [
           {
            "colorbar": {
             "outlinewidth": 0,
             "ticks": ""
            },
            "colorscale": [
             [
              0,
              "#0d0887"
             ],
             [
              0.1111111111111111,
              "#46039f"
             ],
             [
              0.2222222222222222,
              "#7201a8"
             ],
             [
              0.3333333333333333,
              "#9c179e"
             ],
             [
              0.4444444444444444,
              "#bd3786"
             ],
             [
              0.5555555555555556,
              "#d8576b"
             ],
             [
              0.6666666666666666,
              "#ed7953"
             ],
             [
              0.7777777777777778,
              "#fb9f3a"
             ],
             [
              0.8888888888888888,
              "#fdca26"
             ],
             [
              1,
              "#f0f921"
             ]
            ],
            "type": "histogram2d"
           }
          ],
          "histogram2dcontour": [
           {
            "colorbar": {
             "outlinewidth": 0,
             "ticks": ""
            },
            "colorscale": [
             [
              0,
              "#0d0887"
             ],
             [
              0.1111111111111111,
              "#46039f"
             ],
             [
              0.2222222222222222,
              "#7201a8"
             ],
             [
              0.3333333333333333,
              "#9c179e"
             ],
             [
              0.4444444444444444,
              "#bd3786"
             ],
             [
              0.5555555555555556,
              "#d8576b"
             ],
             [
              0.6666666666666666,
              "#ed7953"
             ],
             [
              0.7777777777777778,
              "#fb9f3a"
             ],
             [
              0.8888888888888888,
              "#fdca26"
             ],
             [
              1,
              "#f0f921"
             ]
            ],
            "type": "histogram2dcontour"
           }
          ],
          "mesh3d": [
           {
            "colorbar": {
             "outlinewidth": 0,
             "ticks": ""
            },
            "type": "mesh3d"
           }
          ],
          "parcoords": [
           {
            "line": {
             "colorbar": {
              "outlinewidth": 0,
              "ticks": ""
             }
            },
            "type": "parcoords"
           }
          ],
          "pie": [
           {
            "automargin": true,
            "type": "pie"
           }
          ],
          "scatter": [
           {
            "marker": {
             "colorbar": {
              "outlinewidth": 0,
              "ticks": ""
             }
            },
            "type": "scatter"
           }
          ],
          "scatter3d": [
           {
            "line": {
             "colorbar": {
              "outlinewidth": 0,
              "ticks": ""
             }
            },
            "marker": {
             "colorbar": {
              "outlinewidth": 0,
              "ticks": ""
             }
            },
            "type": "scatter3d"
           }
          ],
          "scattercarpet": [
           {
            "marker": {
             "colorbar": {
              "outlinewidth": 0,
              "ticks": ""
             }
            },
            "type": "scattercarpet"
           }
          ],
          "scattergeo": [
           {
            "marker": {
             "colorbar": {
              "outlinewidth": 0,
              "ticks": ""
             }
            },
            "type": "scattergeo"
           }
          ],
          "scattergl": [
           {
            "marker": {
             "colorbar": {
              "outlinewidth": 0,
              "ticks": ""
             }
            },
            "type": "scattergl"
           }
          ],
          "scattermapbox": [
           {
            "marker": {
             "colorbar": {
              "outlinewidth": 0,
              "ticks": ""
             }
            },
            "type": "scattermapbox"
           }
          ],
          "scatterpolar": [
           {
            "marker": {
             "colorbar": {
              "outlinewidth": 0,
              "ticks": ""
             }
            },
            "type": "scatterpolar"
           }
          ],
          "scatterpolargl": [
           {
            "marker": {
             "colorbar": {
              "outlinewidth": 0,
              "ticks": ""
             }
            },
            "type": "scatterpolargl"
           }
          ],
          "scatterternary": [
           {
            "marker": {
             "colorbar": {
              "outlinewidth": 0,
              "ticks": ""
             }
            },
            "type": "scatterternary"
           }
          ],
          "surface": [
           {
            "colorbar": {
             "outlinewidth": 0,
             "ticks": ""
            },
            "colorscale": [
             [
              0,
              "#0d0887"
             ],
             [
              0.1111111111111111,
              "#46039f"
             ],
             [
              0.2222222222222222,
              "#7201a8"
             ],
             [
              0.3333333333333333,
              "#9c179e"
             ],
             [
              0.4444444444444444,
              "#bd3786"
             ],
             [
              0.5555555555555556,
              "#d8576b"
             ],
             [
              0.6666666666666666,
              "#ed7953"
             ],
             [
              0.7777777777777778,
              "#fb9f3a"
             ],
             [
              0.8888888888888888,
              "#fdca26"
             ],
             [
              1,
              "#f0f921"
             ]
            ],
            "type": "surface"
           }
          ],
          "table": [
           {
            "cells": {
             "fill": {
              "color": "#EBF0F8"
             },
             "line": {
              "color": "white"
             }
            },
            "header": {
             "fill": {
              "color": "#C8D4E3"
             },
             "line": {
              "color": "white"
             }
            },
            "type": "table"
           }
          ]
         },
         "layout": {
          "annotationdefaults": {
           "arrowcolor": "#2a3f5f",
           "arrowhead": 0,
           "arrowwidth": 1
          },
          "coloraxis": {
           "colorbar": {
            "outlinewidth": 0,
            "ticks": ""
           }
          },
          "colorscale": {
           "diverging": [
            [
             0,
             "#8e0152"
            ],
            [
             0.1,
             "#c51b7d"
            ],
            [
             0.2,
             "#de77ae"
            ],
            [
             0.3,
             "#f1b6da"
            ],
            [
             0.4,
             "#fde0ef"
            ],
            [
             0.5,
             "#f7f7f7"
            ],
            [
             0.6,
             "#e6f5d0"
            ],
            [
             0.7,
             "#b8e186"
            ],
            [
             0.8,
             "#7fbc41"
            ],
            [
             0.9,
             "#4d9221"
            ],
            [
             1,
             "#276419"
            ]
           ],
           "sequential": [
            [
             0,
             "#0d0887"
            ],
            [
             0.1111111111111111,
             "#46039f"
            ],
            [
             0.2222222222222222,
             "#7201a8"
            ],
            [
             0.3333333333333333,
             "#9c179e"
            ],
            [
             0.4444444444444444,
             "#bd3786"
            ],
            [
             0.5555555555555556,
             "#d8576b"
            ],
            [
             0.6666666666666666,
             "#ed7953"
            ],
            [
             0.7777777777777778,
             "#fb9f3a"
            ],
            [
             0.8888888888888888,
             "#fdca26"
            ],
            [
             1,
             "#f0f921"
            ]
           ],
           "sequentialminus": [
            [
             0,
             "#0d0887"
            ],
            [
             0.1111111111111111,
             "#46039f"
            ],
            [
             0.2222222222222222,
             "#7201a8"
            ],
            [
             0.3333333333333333,
             "#9c179e"
            ],
            [
             0.4444444444444444,
             "#bd3786"
            ],
            [
             0.5555555555555556,
             "#d8576b"
            ],
            [
             0.6666666666666666,
             "#ed7953"
            ],
            [
             0.7777777777777778,
             "#fb9f3a"
            ],
            [
             0.8888888888888888,
             "#fdca26"
            ],
            [
             1,
             "#f0f921"
            ]
           ]
          },
          "colorway": [
           "#636efa",
           "#EF553B",
           "#00cc96",
           "#ab63fa",
           "#FFA15A",
           "#19d3f3",
           "#FF6692",
           "#B6E880",
           "#FF97FF",
           "#FECB52"
          ],
          "font": {
           "color": "#2a3f5f"
          },
          "geo": {
           "bgcolor": "white",
           "lakecolor": "white",
           "landcolor": "#E5ECF6",
           "showlakes": true,
           "showland": true,
           "subunitcolor": "white"
          },
          "hoverlabel": {
           "align": "left"
          },
          "hovermode": "closest",
          "mapbox": {
           "style": "light"
          },
          "paper_bgcolor": "white",
          "plot_bgcolor": "#E5ECF6",
          "polar": {
           "angularaxis": {
            "gridcolor": "white",
            "linecolor": "white",
            "ticks": ""
           },
           "bgcolor": "#E5ECF6",
           "radialaxis": {
            "gridcolor": "white",
            "linecolor": "white",
            "ticks": ""
           }
          },
          "scene": {
           "xaxis": {
            "backgroundcolor": "#E5ECF6",
            "gridcolor": "white",
            "gridwidth": 2,
            "linecolor": "white",
            "showbackground": true,
            "ticks": "",
            "zerolinecolor": "white"
           },
           "yaxis": {
            "backgroundcolor": "#E5ECF6",
            "gridcolor": "white",
            "gridwidth": 2,
            "linecolor": "white",
            "showbackground": true,
            "ticks": "",
            "zerolinecolor": "white"
           },
           "zaxis": {
            "backgroundcolor": "#E5ECF6",
            "gridcolor": "white",
            "gridwidth": 2,
            "linecolor": "white",
            "showbackground": true,
            "ticks": "",
            "zerolinecolor": "white"
           }
          },
          "shapedefaults": {
           "line": {
            "color": "#2a3f5f"
           }
          },
          "ternary": {
           "aaxis": {
            "gridcolor": "white",
            "linecolor": "white",
            "ticks": ""
           },
           "baxis": {
            "gridcolor": "white",
            "linecolor": "white",
            "ticks": ""
           },
           "bgcolor": "#E5ECF6",
           "caxis": {
            "gridcolor": "white",
            "linecolor": "white",
            "ticks": ""
           }
          },
          "title": {
           "x": 0.05
          },
          "xaxis": {
           "automargin": true,
           "gridcolor": "white",
           "linecolor": "white",
           "ticks": "",
           "title": {
            "standoff": 15
           },
           "zerolinecolor": "white",
           "zerolinewidth": 2
          },
          "yaxis": {
           "automargin": true,
           "gridcolor": "white",
           "linecolor": "white",
           "ticks": "",
           "title": {
            "standoff": 15
           },
           "zerolinecolor": "white",
           "zerolinewidth": 2
          }
         }
        },
        "title": {
         "text": "Plotting frames and events using Plotly"
        },
        "width": 1200,
        "xaxis": {
         "autorange": false,
         "domain": [
          0,
          1
         ],
         "range": [
          -58.48387096774193,
          58.48387096774193
         ],
         "showgrid": false,
         "showticklabels": false,
         "type": "linear",
         "zeroline": false
        },
        "yaxis": {
         "autorange": false,
         "domain": [
          0,
          1
         ],
         "range": [
          -37,
          37
         ],
         "scaleanchor": "x",
         "scaleratio": 1,
         "showgrid": false,
         "showticklabels": false,
         "type": "linear",
         "zeroline": false
        }
       }
      },
      "image/png": "[encoded data removed]"
     },
     "metadata": {},
     "output_type": "display_data"
    }
   ],
   "source": [
    "hometeam = tracking_home.loc[9000]\n",
    "awayteam = tracking_away.loc[9000]\n",
    "plot_frame(hometeam, awayteam)"
   ]
  },
  {
   "cell_type": "code",
   "execution_count": 48,
   "metadata": {},
   "outputs": [],
   "source": [
    "# plot event\n",
    "DATADIR = '../datahub/metrica_sports/sample-data/data/'\n",
    "game_id = 2\n",
    "\n",
    "# read in the event data\n",
    "events = mio.read_event_data(DATADIR,game_id)\n",
    "# Bit of housekeeping: unit conversion from metric data units to meters\n",
    "events = mio.to_metric_coordinates(events)\n",
    "\n",
    "# Get events by team\n",
    "home_events = events.query(\"Team=='Home'\")\n",
    "away_events = events.query(\"Team=='Away'\")\n",
    "\n",
    "# Get all shots\n",
    "shots = events.query(\"Type=='SHOT'\")\n",
    "home_shots = home_events.query(\"Type=='SHOT'\")\n",
    "away_shots = away_events.query(\"Type=='SHOT'\")\n",
    "\n",
    "# Get the shots that led to a goal\n",
    "home_goals = home_shots.query(\"Subtype.str.endswith('GOAL')\").copy()\n",
    "away_goals = away_shots.query(\"Subtype.str.endswith('GOAL')\").copy()\n",
    "\n",
    "# Add a column event 'Minute' to the data frame\n",
    "home_goals['Minute'] = home_goals['Start Time [s]']/60.\n",
    "\n"
   ]
  },
  {
   "cell_type": "code",
   "execution_count": 49,
   "metadata": {},
   "outputs": [
    {
     "data": {
      "text/html": [
       "<div>\n",
       "<style scoped>\n",
       "    .dataframe tbody tr th:only-of-type {\n",
       "        vertical-align: middle;\n",
       "    }\n",
       "\n",
       "    .dataframe tbody tr th {\n",
       "        vertical-align: top;\n",
       "    }\n",
       "\n",
       "    .dataframe thead th {\n",
       "        text-align: right;\n",
       "    }\n",
       "</style>\n",
       "<table border=\"1\" class=\"dataframe\">\n",
       "  <thead>\n",
       "    <tr style=\"text-align: right;\">\n",
       "      <th></th>\n",
       "      <th>Team</th>\n",
       "      <th>Type</th>\n",
       "      <th>Subtype</th>\n",
       "      <th>Period</th>\n",
       "      <th>Start Frame</th>\n",
       "      <th>Start Time [s]</th>\n",
       "      <th>End Frame</th>\n",
       "      <th>End Time [s]</th>\n",
       "      <th>From</th>\n",
       "      <th>To</th>\n",
       "      <th>Start X</th>\n",
       "      <th>Start Y</th>\n",
       "      <th>End X</th>\n",
       "      <th>End Y</th>\n",
       "    </tr>\n",
       "  </thead>\n",
       "  <tbody>\n",
       "    <tr>\n",
       "      <th>0</th>\n",
       "      <td>Away</td>\n",
       "      <td>SET PIECE</td>\n",
       "      <td>KICK OFF</td>\n",
       "      <td>1</td>\n",
       "      <td>51</td>\n",
       "      <td>2.04</td>\n",
       "      <td>51</td>\n",
       "      <td>2.04</td>\n",
       "      <td>Player23</td>\n",
       "      <td>NaN</td>\n",
       "      <td>NaN</td>\n",
       "      <td>NaN</td>\n",
       "      <td>NaN</td>\n",
       "      <td>NaN</td>\n",
       "    </tr>\n",
       "    <tr>\n",
       "      <th>1</th>\n",
       "      <td>Away</td>\n",
       "      <td>PASS</td>\n",
       "      <td>NaN</td>\n",
       "      <td>1</td>\n",
       "      <td>51</td>\n",
       "      <td>2.04</td>\n",
       "      <td>87</td>\n",
       "      <td>3.48</td>\n",
       "      <td>Player23</td>\n",
       "      <td>Player20</td>\n",
       "      <td>0.00</td>\n",
       "      <td>-0.00</td>\n",
       "      <td>-10.60</td>\n",
       "      <td>-0.68</td>\n",
       "    </tr>\n",
       "    <tr>\n",
       "      <th>2</th>\n",
       "      <td>Away</td>\n",
       "      <td>PASS</td>\n",
       "      <td>NaN</td>\n",
       "      <td>1</td>\n",
       "      <td>146</td>\n",
       "      <td>5.84</td>\n",
       "      <td>186</td>\n",
       "      <td>7.44</td>\n",
       "      <td>Player20</td>\n",
       "      <td>Player18</td>\n",
       "      <td>-7.42</td>\n",
       "      <td>-0.00</td>\n",
       "      <td>-6.36</td>\n",
       "      <td>19.04</td>\n",
       "    </tr>\n",
       "    <tr>\n",
       "      <th>3</th>\n",
       "      <td>Away</td>\n",
       "      <td>PASS</td>\n",
       "      <td>NaN</td>\n",
       "      <td>1</td>\n",
       "      <td>248</td>\n",
       "      <td>9.92</td>\n",
       "      <td>283</td>\n",
       "      <td>11.32</td>\n",
       "      <td>Player18</td>\n",
       "      <td>Player17</td>\n",
       "      <td>-3.18</td>\n",
       "      <td>21.08</td>\n",
       "      <td>-20.14</td>\n",
       "      <td>14.96</td>\n",
       "    </tr>\n",
       "    <tr>\n",
       "      <th>4</th>\n",
       "      <td>Away</td>\n",
       "      <td>PASS</td>\n",
       "      <td>NaN</td>\n",
       "      <td>1</td>\n",
       "      <td>316</td>\n",
       "      <td>12.64</td>\n",
       "      <td>346</td>\n",
       "      <td>13.84</td>\n",
       "      <td>Player17</td>\n",
       "      <td>Player16</td>\n",
       "      <td>-22.26</td>\n",
       "      <td>12.24</td>\n",
       "      <td>-25.44</td>\n",
       "      <td>-5.44</td>\n",
       "    </tr>\n",
       "  </tbody>\n",
       "</table>\n",
       "</div>"
      ],
      "text/plain": [
       "   Team       Type   Subtype  Period  Start Frame  Start Time [s]  End Frame  \\\n",
       "0  Away  SET PIECE  KICK OFF       1           51            2.04         51   \n",
       "1  Away       PASS       NaN       1           51            2.04         87   \n",
       "2  Away       PASS       NaN       1          146            5.84        186   \n",
       "3  Away       PASS       NaN       1          248            9.92        283   \n",
       "4  Away       PASS       NaN       1          316           12.64        346   \n",
       "\n",
       "   End Time [s]      From        To  Start X  Start Y  End X  End Y  \n",
       "0          2.04  Player23       NaN      NaN      NaN    NaN    NaN  \n",
       "1          3.48  Player23  Player20     0.00    -0.00 -10.60  -0.68  \n",
       "2          7.44  Player20  Player18    -7.42    -0.00  -6.36  19.04  \n",
       "3         11.32  Player18  Player17    -3.18    21.08 -20.14  14.96  \n",
       "4         13.84  Player17  Player16   -22.26    12.24 -25.44  -5.44  "
      ]
     },
     "execution_count": 49,
     "metadata": {},
     "output_type": "execute_result"
    }
   ],
   "source": [
    "events.head()"
   ]
  },
  {
   "cell_type": "code",
   "execution_count": 50,
   "metadata": {},
   "outputs": [
    {
     "data": {
      "text/html": [
       "<div>\n",
       "<style scoped>\n",
       "    .dataframe tbody tr th:only-of-type {\n",
       "        vertical-align: middle;\n",
       "    }\n",
       "\n",
       "    .dataframe tbody tr th {\n",
       "        vertical-align: top;\n",
       "    }\n",
       "\n",
       "    .dataframe thead th {\n",
       "        text-align: right;\n",
       "    }\n",
       "</style>\n",
       "<table border=\"1\" class=\"dataframe\">\n",
       "  <thead>\n",
       "    <tr style=\"text-align: right;\">\n",
       "      <th></th>\n",
       "      <th>Team</th>\n",
       "      <th>Type</th>\n",
       "      <th>Subtype</th>\n",
       "      <th>Period</th>\n",
       "      <th>Start Frame</th>\n",
       "      <th>Start Time [s]</th>\n",
       "      <th>End Frame</th>\n",
       "      <th>End Time [s]</th>\n",
       "      <th>From</th>\n",
       "      <th>To</th>\n",
       "      <th>Start X</th>\n",
       "      <th>Start Y</th>\n",
       "      <th>End X</th>\n",
       "      <th>End Y</th>\n",
       "    </tr>\n",
       "  </thead>\n",
       "  <tbody>\n",
       "    <tr>\n",
       "      <th>198</th>\n",
       "      <td>Home</td>\n",
       "      <td>SHOT</td>\n",
       "      <td>ON TARGET-GOAL</td>\n",
       "      <td>1</td>\n",
       "      <td>12202</td>\n",
       "      <td>488.08</td>\n",
       "      <td>12212</td>\n",
       "      <td>488.48</td>\n",
       "      <td>Player10</td>\n",
       "      <td>NaN</td>\n",
       "      <td>-47.70</td>\n",
       "      <td>-3.40</td>\n",
       "      <td>-54.06</td>\n",
       "      <td>-2.04</td>\n",
       "    </tr>\n",
       "    <tr>\n",
       "      <th>823</th>\n",
       "      <td>Away</td>\n",
       "      <td>SHOT</td>\n",
       "      <td>ON TARGET-GOAL</td>\n",
       "      <td>1</td>\n",
       "      <td>53049</td>\n",
       "      <td>2121.96</td>\n",
       "      <td>53075</td>\n",
       "      <td>2123.00</td>\n",
       "      <td>Player24</td>\n",
       "      <td>NaN</td>\n",
       "      <td>44.52</td>\n",
       "      <td>2.72</td>\n",
       "      <td>54.06</td>\n",
       "      <td>1.36</td>\n",
       "    </tr>\n",
       "    <tr>\n",
       "      <th>1118</th>\n",
       "      <td>Home</td>\n",
       "      <td>SHOT</td>\n",
       "      <td>HEAD-ON TARGET-GOAL</td>\n",
       "      <td>2</td>\n",
       "      <td>73983</td>\n",
       "      <td>2959.32</td>\n",
       "      <td>73995</td>\n",
       "      <td>2959.80</td>\n",
       "      <td>Player9</td>\n",
       "      <td>NaN</td>\n",
       "      <td>47.70</td>\n",
       "      <td>-1.36</td>\n",
       "      <td>54.06</td>\n",
       "      <td>-2.04</td>\n",
       "    </tr>\n",
       "    <tr>\n",
       "      <th>1671</th>\n",
       "      <td>Away</td>\n",
       "      <td>SHOT</td>\n",
       "      <td>ON TARGET-GOAL</td>\n",
       "      <td>2</td>\n",
       "      <td>115009</td>\n",
       "      <td>4600.36</td>\n",
       "      <td>115024</td>\n",
       "      <td>4600.96</td>\n",
       "      <td>Player20</td>\n",
       "      <td>NaN</td>\n",
       "      <td>-40.28</td>\n",
       "      <td>-1.36</td>\n",
       "      <td>-55.12</td>\n",
       "      <td>-2.72</td>\n",
       "    </tr>\n",
       "    <tr>\n",
       "      <th>1723</th>\n",
       "      <td>Home</td>\n",
       "      <td>SHOT</td>\n",
       "      <td>ON TARGET-GOAL</td>\n",
       "      <td>2</td>\n",
       "      <td>121027</td>\n",
       "      <td>4841.08</td>\n",
       "      <td>121055</td>\n",
       "      <td>4842.20</td>\n",
       "      <td>Player12</td>\n",
       "      <td>NaN</td>\n",
       "      <td>30.74</td>\n",
       "      <td>-5.44</td>\n",
       "      <td>54.06</td>\n",
       "      <td>-2.72</td>\n",
       "    </tr>\n",
       "  </tbody>\n",
       "</table>\n",
       "</div>"
      ],
      "text/plain": [
       "      Team  Type              Subtype  Period  Start Frame  Start Time [s]  \\\n",
       "198   Home  SHOT       ON TARGET-GOAL       1        12202          488.08   \n",
       "823   Away  SHOT       ON TARGET-GOAL       1        53049         2121.96   \n",
       "1118  Home  SHOT  HEAD-ON TARGET-GOAL       2        73983         2959.32   \n",
       "1671  Away  SHOT       ON TARGET-GOAL       2       115009         4600.36   \n",
       "1723  Home  SHOT       ON TARGET-GOAL       2       121027         4841.08   \n",
       "\n",
       "      End Frame  End Time [s]      From   To  Start X  Start Y  End X  End Y  \n",
       "198       12212        488.48  Player10  NaN   -47.70    -3.40 -54.06  -2.04  \n",
       "823       53075       2123.00  Player24  NaN    44.52     2.72  54.06   1.36  \n",
       "1118      73995       2959.80   Player9  NaN    47.70    -1.36  54.06  -2.04  \n",
       "1671     115024       4600.96  Player20  NaN   -40.28    -1.36 -55.12  -2.72  \n",
       "1723     121055       4842.20  Player12  NaN    30.74    -5.44  54.06  -2.72  "
      ]
     },
     "execution_count": 50,
     "metadata": {},
     "output_type": "execute_result"
    }
   ],
   "source": [
    "# first goal\n",
    "events.query(\"Type=='SHOT' & Subtype.str.endswith('GOAL')\")"
   ]
  },
  {
   "cell_type": "code",
   "execution_count": 182,
   "metadata": {},
   "outputs": [
    {
     "data": {
      "text/html": [
       "<div>\n",
       "<style scoped>\n",
       "    .dataframe tbody tr th:only-of-type {\n",
       "        vertical-align: middle;\n",
       "    }\n",
       "\n",
       "    .dataframe tbody tr th {\n",
       "        vertical-align: top;\n",
       "    }\n",
       "\n",
       "    .dataframe thead th {\n",
       "        text-align: right;\n",
       "    }\n",
       "</style>\n",
       "<table border=\"1\" class=\"dataframe\">\n",
       "  <thead>\n",
       "    <tr style=\"text-align: right;\">\n",
       "      <th></th>\n",
       "      <th>Team</th>\n",
       "      <th>Type</th>\n",
       "      <th>Subtype</th>\n",
       "      <th>Period</th>\n",
       "      <th>Start Frame</th>\n",
       "      <th>Start Time [s]</th>\n",
       "      <th>End Frame</th>\n",
       "      <th>End Time [s]</th>\n",
       "      <th>From</th>\n",
       "      <th>To</th>\n",
       "      <th>Start X</th>\n",
       "      <th>Start Y</th>\n",
       "      <th>End X</th>\n",
       "      <th>End Y</th>\n",
       "    </tr>\n",
       "  </thead>\n",
       "  <tbody>\n",
       "    <tr>\n",
       "      <th>190</th>\n",
       "      <td>Home</td>\n",
       "      <td>PASS</td>\n",
       "      <td>NaN</td>\n",
       "      <td>1</td>\n",
       "      <td>11647</td>\n",
       "      <td>465.88</td>\n",
       "      <td>11685</td>\n",
       "      <td>467.40</td>\n",
       "      <td>Player7</td>\n",
       "      <td>Player10</td>\n",
       "      <td>-13.78</td>\n",
       "      <td>-0.68</td>\n",
       "      <td>-21.20</td>\n",
       "      <td>-0.00</td>\n",
       "    </tr>\n",
       "    <tr>\n",
       "      <th>191</th>\n",
       "      <td>Home</td>\n",
       "      <td>PASS</td>\n",
       "      <td>NaN</td>\n",
       "      <td>1</td>\n",
       "      <td>11685</td>\n",
       "      <td>467.40</td>\n",
       "      <td>11703</td>\n",
       "      <td>468.12</td>\n",
       "      <td>Player10</td>\n",
       "      <td>Player5</td>\n",
       "      <td>-21.20</td>\n",
       "      <td>-0.00</td>\n",
       "      <td>-18.02</td>\n",
       "      <td>4.08</td>\n",
       "    </tr>\n",
       "    <tr>\n",
       "      <th>192</th>\n",
       "      <td>Home</td>\n",
       "      <td>PASS</td>\n",
       "      <td>NaN</td>\n",
       "      <td>1</td>\n",
       "      <td>11721</td>\n",
       "      <td>468.84</td>\n",
       "      <td>11744</td>\n",
       "      <td>469.76</td>\n",
       "      <td>Player5</td>\n",
       "      <td>Player9</td>\n",
       "      <td>-20.14</td>\n",
       "      <td>4.08</td>\n",
       "      <td>-30.74</td>\n",
       "      <td>7.48</td>\n",
       "    </tr>\n",
       "    <tr>\n",
       "      <th>193</th>\n",
       "      <td>Home</td>\n",
       "      <td>PASS</td>\n",
       "      <td>NaN</td>\n",
       "      <td>1</td>\n",
       "      <td>11810</td>\n",
       "      <td>472.40</td>\n",
       "      <td>11885</td>\n",
       "      <td>475.40</td>\n",
       "      <td>Player9</td>\n",
       "      <td>Player8</td>\n",
       "      <td>-32.86</td>\n",
       "      <td>0.68</td>\n",
       "      <td>-39.22</td>\n",
       "      <td>-25.16</td>\n",
       "    </tr>\n",
       "    <tr>\n",
       "      <th>194</th>\n",
       "      <td>Home</td>\n",
       "      <td>PASS</td>\n",
       "      <td>NaN</td>\n",
       "      <td>1</td>\n",
       "      <td>11958</td>\n",
       "      <td>478.32</td>\n",
       "      <td>11976</td>\n",
       "      <td>479.04</td>\n",
       "      <td>Player8</td>\n",
       "      <td>Player9</td>\n",
       "      <td>-41.34</td>\n",
       "      <td>-24.48</td>\n",
       "      <td>-42.40</td>\n",
       "      <td>-14.96</td>\n",
       "    </tr>\n",
       "    <tr>\n",
       "      <th>195</th>\n",
       "      <td>Home</td>\n",
       "      <td>PASS</td>\n",
       "      <td>NaN</td>\n",
       "      <td>1</td>\n",
       "      <td>11976</td>\n",
       "      <td>479.04</td>\n",
       "      <td>11994</td>\n",
       "      <td>479.76</td>\n",
       "      <td>Player9</td>\n",
       "      <td>Player8</td>\n",
       "      <td>-42.40</td>\n",
       "      <td>-14.96</td>\n",
       "      <td>-38.16</td>\n",
       "      <td>-20.40</td>\n",
       "    </tr>\n",
       "    <tr>\n",
       "      <th>196</th>\n",
       "      <td>Home</td>\n",
       "      <td>PASS</td>\n",
       "      <td>NaN</td>\n",
       "      <td>1</td>\n",
       "      <td>12069</td>\n",
       "      <td>482.76</td>\n",
       "      <td>12146</td>\n",
       "      <td>485.84</td>\n",
       "      <td>Player8</td>\n",
       "      <td>Player1</td>\n",
       "      <td>-28.62</td>\n",
       "      <td>-7.48</td>\n",
       "      <td>-37.10</td>\n",
       "      <td>23.80</td>\n",
       "    </tr>\n",
       "    <tr>\n",
       "      <th>197</th>\n",
       "      <td>Home</td>\n",
       "      <td>PASS</td>\n",
       "      <td>CROSS</td>\n",
       "      <td>1</td>\n",
       "      <td>12180</td>\n",
       "      <td>487.20</td>\n",
       "      <td>12202</td>\n",
       "      <td>488.08</td>\n",
       "      <td>Player1</td>\n",
       "      <td>Player10</td>\n",
       "      <td>-40.28</td>\n",
       "      <td>19.72</td>\n",
       "      <td>-47.70</td>\n",
       "      <td>-3.40</td>\n",
       "    </tr>\n",
       "    <tr>\n",
       "      <th>198</th>\n",
       "      <td>Home</td>\n",
       "      <td>SHOT</td>\n",
       "      <td>ON TARGET-GOAL</td>\n",
       "      <td>1</td>\n",
       "      <td>12202</td>\n",
       "      <td>488.08</td>\n",
       "      <td>12212</td>\n",
       "      <td>488.48</td>\n",
       "      <td>Player10</td>\n",
       "      <td>NaN</td>\n",
       "      <td>-47.70</td>\n",
       "      <td>-3.40</td>\n",
       "      <td>-54.06</td>\n",
       "      <td>-2.04</td>\n",
       "    </tr>\n",
       "  </tbody>\n",
       "</table>\n",
       "</div>"
      ],
      "text/plain": [
       "     Team  Type         Subtype  Period  Start Frame  Start Time [s]  \\\n",
       "190  Home  PASS             NaN       1        11647          465.88   \n",
       "191  Home  PASS             NaN       1        11685          467.40   \n",
       "192  Home  PASS             NaN       1        11721          468.84   \n",
       "193  Home  PASS             NaN       1        11810          472.40   \n",
       "194  Home  PASS             NaN       1        11958          478.32   \n",
       "195  Home  PASS             NaN       1        11976          479.04   \n",
       "196  Home  PASS             NaN       1        12069          482.76   \n",
       "197  Home  PASS           CROSS       1        12180          487.20   \n",
       "198  Home  SHOT  ON TARGET-GOAL       1        12202          488.08   \n",
       "\n",
       "     End Frame  End Time [s]      From        To  Start X  Start Y  End X  \\\n",
       "190      11685        467.40   Player7  Player10   -13.78    -0.68 -21.20   \n",
       "191      11703        468.12  Player10   Player5   -21.20    -0.00 -18.02   \n",
       "192      11744        469.76   Player5   Player9   -20.14     4.08 -30.74   \n",
       "193      11885        475.40   Player9   Player8   -32.86     0.68 -39.22   \n",
       "194      11976        479.04   Player8   Player9   -41.34   -24.48 -42.40   \n",
       "195      11994        479.76   Player9   Player8   -42.40   -14.96 -38.16   \n",
       "196      12146        485.84   Player8   Player1   -28.62    -7.48 -37.10   \n",
       "197      12202        488.08   Player1  Player10   -40.28    19.72 -47.70   \n",
       "198      12212        488.48  Player10       NaN   -47.70    -3.40 -54.06   \n",
       "\n",
       "     End Y  \n",
       "190  -0.00  \n",
       "191   4.08  \n",
       "192   7.48  \n",
       "193 -25.16  \n",
       "194 -14.96  \n",
       "195 -20.40  \n",
       "196  23.80  \n",
       "197  -3.40  \n",
       "198  -2.04  "
      ]
     },
     "execution_count": 182,
     "metadata": {},
     "output_type": "execute_result"
    }
   ],
   "source": [
    "def get_goal_lead_up(goal_id,events):\n",
    "    for i,row in events.iloc[goal_id-1::-1,:2].iterrows():\n",
    "        if row['Type']!='PASS':\n",
    "            break\n",
    "    return events.iloc[i+1:goal_id+1,:]\n",
    "\n",
    "get_goal_lead_up(198,events)"
   ]
  },
  {
   "cell_type": "code",
   "execution_count": 192,
   "metadata": {},
   "outputs": [
    {
     "data": {
      "text/html": [
       "<div>\n",
       "<style scoped>\n",
       "    .dataframe tbody tr th:only-of-type {\n",
       "        vertical-align: middle;\n",
       "    }\n",
       "\n",
       "    .dataframe tbody tr th {\n",
       "        vertical-align: top;\n",
       "    }\n",
       "\n",
       "    .dataframe thead th {\n",
       "        text-align: right;\n",
       "    }\n",
       "</style>\n",
       "<table border=\"1\" class=\"dataframe\">\n",
       "  <thead>\n",
       "    <tr style=\"text-align: right;\">\n",
       "      <th></th>\n",
       "      <th>Team</th>\n",
       "      <th>Type</th>\n",
       "      <th>Subtype</th>\n",
       "      <th>Period</th>\n",
       "      <th>Start Frame</th>\n",
       "      <th>Start Time [s]</th>\n",
       "      <th>End Frame</th>\n",
       "      <th>End Time [s]</th>\n",
       "      <th>From</th>\n",
       "      <th>To</th>\n",
       "      <th>Start X</th>\n",
       "      <th>Start Y</th>\n",
       "      <th>End X</th>\n",
       "      <th>End Y</th>\n",
       "      <th>From_num</th>\n",
       "      <th>To_num</th>\n",
       "      <th>To_prev</th>\n",
       "      <th>Start X Carry</th>\n",
       "      <th>End X Carry</th>\n",
       "      <th>Start Y Carry</th>\n",
       "      <th>End Y Carry</th>\n",
       "      <th>carry</th>\n",
       "      <th>Start Frame Carry</th>\n",
       "      <th>End Frame Carry</th>\n",
       "    </tr>\n",
       "  </thead>\n",
       "  <tbody>\n",
       "    <tr>\n",
       "      <th>818</th>\n",
       "      <td>Away</td>\n",
       "      <td>PASS</td>\n",
       "      <td>HEAD</td>\n",
       "      <td>1</td>\n",
       "      <td>52696</td>\n",
       "      <td>2107.84</td>\n",
       "      <td>52746</td>\n",
       "      <td>2109.84</td>\n",
       "      <td>Player17</td>\n",
       "      <td>Player18</td>\n",
       "      <td>-1.06</td>\n",
       "      <td>7.48</td>\n",
       "      <td>-5.30</td>\n",
       "      <td>18.36</td>\n",
       "      <td>17</td>\n",
       "      <td>18</td>\n",
       "      <td>NaN</td>\n",
       "      <td>-5.30</td>\n",
       "      <td>-3.18</td>\n",
       "      <td>18.36</td>\n",
       "      <td>22.44</td>\n",
       "      <td>True</td>\n",
       "      <td>52746</td>\n",
       "      <td>52784.0</td>\n",
       "    </tr>\n",
       "    <tr>\n",
       "      <th>819</th>\n",
       "      <td>Away</td>\n",
       "      <td>PASS</td>\n",
       "      <td>NaN</td>\n",
       "      <td>1</td>\n",
       "      <td>52784</td>\n",
       "      <td>2111.36</td>\n",
       "      <td>52807</td>\n",
       "      <td>2112.28</td>\n",
       "      <td>Player18</td>\n",
       "      <td>Player21</td>\n",
       "      <td>-3.18</td>\n",
       "      <td>22.44</td>\n",
       "      <td>1.06</td>\n",
       "      <td>12.24</td>\n",
       "      <td>18</td>\n",
       "      <td>21</td>\n",
       "      <td>18</td>\n",
       "      <td>1.06</td>\n",
       "      <td>2.12</td>\n",
       "      <td>12.24</td>\n",
       "      <td>12.92</td>\n",
       "      <td>True</td>\n",
       "      <td>52807</td>\n",
       "      <td>52871.0</td>\n",
       "    </tr>\n",
       "    <tr>\n",
       "      <th>820</th>\n",
       "      <td>Away</td>\n",
       "      <td>PASS</td>\n",
       "      <td>NaN</td>\n",
       "      <td>1</td>\n",
       "      <td>52871</td>\n",
       "      <td>2114.84</td>\n",
       "      <td>52936</td>\n",
       "      <td>2117.44</td>\n",
       "      <td>Player21</td>\n",
       "      <td>Player19</td>\n",
       "      <td>2.12</td>\n",
       "      <td>12.92</td>\n",
       "      <td>30.74</td>\n",
       "      <td>-26.52</td>\n",
       "      <td>21</td>\n",
       "      <td>19</td>\n",
       "      <td>21</td>\n",
       "      <td>30.74</td>\n",
       "      <td>30.74</td>\n",
       "      <td>-26.52</td>\n",
       "      <td>-27.20</td>\n",
       "      <td>True</td>\n",
       "      <td>52936</td>\n",
       "      <td>52941.0</td>\n",
       "    </tr>\n",
       "    <tr>\n",
       "      <th>821</th>\n",
       "      <td>Away</td>\n",
       "      <td>PASS</td>\n",
       "      <td>NaN</td>\n",
       "      <td>1</td>\n",
       "      <td>52941</td>\n",
       "      <td>2117.64</td>\n",
       "      <td>52971</td>\n",
       "      <td>2118.84</td>\n",
       "      <td>Player19</td>\n",
       "      <td>Player23</td>\n",
       "      <td>30.74</td>\n",
       "      <td>-27.20</td>\n",
       "      <td>37.10</td>\n",
       "      <td>-15.64</td>\n",
       "      <td>19</td>\n",
       "      <td>23</td>\n",
       "      <td>19</td>\n",
       "      <td>37.10</td>\n",
       "      <td>41.34</td>\n",
       "      <td>-15.64</td>\n",
       "      <td>-9.52</td>\n",
       "      <td>True</td>\n",
       "      <td>52971</td>\n",
       "      <td>53027.0</td>\n",
       "    </tr>\n",
       "    <tr>\n",
       "      <th>822</th>\n",
       "      <td>Away</td>\n",
       "      <td>PASS</td>\n",
       "      <td>NaN</td>\n",
       "      <td>1</td>\n",
       "      <td>53027</td>\n",
       "      <td>2121.08</td>\n",
       "      <td>53045</td>\n",
       "      <td>2121.80</td>\n",
       "      <td>Player23</td>\n",
       "      <td>Player24</td>\n",
       "      <td>41.34</td>\n",
       "      <td>-9.52</td>\n",
       "      <td>44.52</td>\n",
       "      <td>2.72</td>\n",
       "      <td>23</td>\n",
       "      <td>24</td>\n",
       "      <td>23</td>\n",
       "      <td>NaN</td>\n",
       "      <td>NaN</td>\n",
       "      <td>NaN</td>\n",
       "      <td>NaN</td>\n",
       "      <td>False</td>\n",
       "      <td>53045</td>\n",
       "      <td>53049.0</td>\n",
       "    </tr>\n",
       "    <tr>\n",
       "      <th>823</th>\n",
       "      <td>Away</td>\n",
       "      <td>SHOT</td>\n",
       "      <td>ON TARGET-GOAL</td>\n",
       "      <td>1</td>\n",
       "      <td>53049</td>\n",
       "      <td>2121.96</td>\n",
       "      <td>53075</td>\n",
       "      <td>2123.00</td>\n",
       "      <td>Player24</td>\n",
       "      <td>NaN</td>\n",
       "      <td>44.52</td>\n",
       "      <td>2.72</td>\n",
       "      <td>54.06</td>\n",
       "      <td>1.36</td>\n",
       "      <td>24</td>\n",
       "      <td>None</td>\n",
       "      <td>24</td>\n",
       "      <td>54.06</td>\n",
       "      <td>NaN</td>\n",
       "      <td>1.36</td>\n",
       "      <td>NaN</td>\n",
       "      <td>True</td>\n",
       "      <td>53075</td>\n",
       "      <td>NaN</td>\n",
       "    </tr>\n",
       "  </tbody>\n",
       "</table>\n",
       "</div>"
      ],
      "text/plain": [
       "     Team  Type         Subtype  Period  Start Frame  Start Time [s]  \\\n",
       "818  Away  PASS            HEAD       1        52696         2107.84   \n",
       "819  Away  PASS             NaN       1        52784         2111.36   \n",
       "820  Away  PASS             NaN       1        52871         2114.84   \n",
       "821  Away  PASS             NaN       1        52941         2117.64   \n",
       "822  Away  PASS             NaN       1        53027         2121.08   \n",
       "823  Away  SHOT  ON TARGET-GOAL       1        53049         2121.96   \n",
       "\n",
       "     End Frame  End Time [s]      From        To  Start X  Start Y  End X  \\\n",
       "818      52746       2109.84  Player17  Player18    -1.06     7.48  -5.30   \n",
       "819      52807       2112.28  Player18  Player21    -3.18    22.44   1.06   \n",
       "820      52936       2117.44  Player21  Player19     2.12    12.92  30.74   \n",
       "821      52971       2118.84  Player19  Player23    30.74   -27.20  37.10   \n",
       "822      53045       2121.80  Player23  Player24    41.34    -9.52  44.52   \n",
       "823      53075       2123.00  Player24       NaN    44.52     2.72  54.06   \n",
       "\n",
       "     End Y From_num To_num To_prev  Start X Carry  End X Carry  Start Y Carry  \\\n",
       "818  18.36       17     18     NaN          -5.30        -3.18          18.36   \n",
       "819  12.24       18     21      18           1.06         2.12          12.24   \n",
       "820 -26.52       21     19      21          30.74        30.74         -26.52   \n",
       "821 -15.64       19     23      19          37.10        41.34         -15.64   \n",
       "822   2.72       23     24      23            NaN          NaN            NaN   \n",
       "823   1.36       24   None      24          54.06          NaN           1.36   \n",
       "\n",
       "     End Y Carry  carry  Start Frame Carry  End Frame Carry  \n",
       "818        22.44   True              52746          52784.0  \n",
       "819        12.92   True              52807          52871.0  \n",
       "820       -27.20   True              52936          52941.0  \n",
       "821        -9.52   True              52971          53027.0  \n",
       "822          NaN  False              53045          53049.0  \n",
       "823          NaN   True              53075              NaN  "
      ]
     },
     "execution_count": 192,
     "metadata": {},
     "output_type": "execute_result"
    }
   ],
   "source": [
    "buildup = get_goal_lead_up(823,events)\n",
    "buildup['From_num'] = buildup.From.apply(lambda x: re.findall('\\d+',str(x))).apply(lambda x: x[0] if len(x)>0 else None)\n",
    "buildup['To_num'] = buildup.To.apply(lambda x: re.findall('\\d+',str(x))).apply(lambda x: x[0] if len(x)>0 else None)\n",
    "buildup['To_prev'] = buildup.To_num.shift(1)\n",
    "buildup['Start X Carry'] = buildup['End X']\n",
    "buildup['End X Carry'] = buildup['Start X'].shift(-1)\n",
    "buildup['Start Y Carry'] = buildup['End Y']\n",
    "buildup['End Y Carry'] = buildup['Start Y'].shift(-1)\n",
    "buildup['carry'] =(buildup['Start X Carry']!=buildup['End X Carry']) | (buildup['Start Y Carry']!=buildup['End Y Carry'])\n",
    "buildup.loc[buildup['carry'] == False,'Start X Carry'] = np.nan; buildup.loc[buildup['carry'] == False,'Start Y Carry'] = np.nan\n",
    "buildup.loc[buildup['carry'] == False,'End X Carry'] = np.nan; buildup.loc[buildup['carry'] == False,'End Y Carry'] = np.nan\n",
    "\n",
    "buildup['Start Frame Carry'] = buildup['End Frame']\n",
    "buildup['End Frame Carry'] = buildup['Start Frame'].shift(-1)\n",
    "\n",
    "\n",
    "buildup"
   ]
  },
  {
   "cell_type": "code",
   "execution_count": 193,
   "metadata": {},
   "outputs": [],
   "source": [
    "def event_trace(row):\n",
    "    traces = []\n",
    "    x,y,player_nums = [],[],[]\n",
    "    x.extend([row['Start X'],row['End X']])\n",
    "    y.extend([row['Start Y'],row['End Y']])\n",
    "    side = row['Team']\n",
    "    player_nums.extend([row['From_num'],row['To_num']])\n",
    "        \n",
    "    traces.append(go.Scatter(x = x,y = y, \n",
    "                        text = player_nums,\n",
    "                        **event_player_marker_args[side]\n",
    "                       ))\n",
    "    \n",
    "    if (row['Type'] == 'PASS') & (row['carry']==True):\n",
    "        traces.append(go.Scatter(x = [row['Start X Carry'],row['End X Carry']],y = [row['Start Y Carry'],row['End Y Carry']], \n",
    "                        text = [row['To_num']],line_dash ='dash',\n",
    "                        **event_player_marker_args[side]\n",
    "                       ))\n",
    "        \n",
    "        \n",
    "#     print (traces)\n",
    "    return traces"
   ]
  },
  {
   "cell_type": "code",
   "execution_count": 194,
   "metadata": {},
   "outputs": [],
   "source": [
    "def plot_events(event_chain, hometeam, awayteam, show_velocities=True):\n",
    "    tracking_data = (hometeam,awayteam)\n",
    "    traces = []\n",
    "    for i,row in event_chain.iterrows():\n",
    "#         print (event_trace(row))\n",
    "        traces.extend(event_trace(row))\n",
    "    \n",
    "    \n",
    "    \n",
    "#     if show_velocities: traces.extend(velocities(tracking_data))\n",
    "        \n",
    "#     traces.extend(positions(tracking_data))\n",
    "    \n",
    "#     if hometeam['ball_x']: traces.extend(plot_ball(tracking_data))\n",
    "#     print (traces)   \n",
    "    fig = plot_pitch(data=traces)\n",
    "    fig.show()"
   ]
  },
  {
   "cell_type": "code",
   "execution_count": 195,
   "metadata": {},
   "outputs": [
    {
     "data": {
      "application/vnd.plotly.v1+json": {
       "config": {
        "plotlyServerURL": "https://plot.ly"
       },
       "data": [
        {
         "line": {
          "color": "#0570b0"
         },
         "marker": {
          "color": "#0570b0",
          "line": {
           "color": "white",
           "width": 2
          },
          "size": 20
         },
         "mode": "lines+markers+text",
         "text": [
          "17",
          "18"
         ],
         "textfont": {
          "color": "white",
          "size": 11
         },
         "type": "scatter",
         "x": [
          -1.060000000000001,
          -5.299999999999999
         ],
         "y": [
          7.479999999999999,
          18.36
         ]
        },
        {
         "line": {
          "color": "#0570b0",
          "dash": "dash"
         },
         "marker": {
          "color": "#0570b0",
          "line": {
           "color": "white",
           "width": 2
          },
          "size": 20
         },
         "mode": "lines+markers+text",
         "text": [
          "18"
         ],
         "textfont": {
          "color": "white",
          "size": 11
         },
         "type": "scatter",
         "x": [
          -5.299999999999999,
          -3.180000000000003
         ],
         "y": [
          18.36,
          22.439999999999998
         ]
        },
        {
         "line": {
          "color": "#0570b0"
         },
         "marker": {
          "color": "#0570b0",
          "line": {
           "color": "white",
           "width": 2
          },
          "size": 20
         },
         "mode": "lines+markers+text",
         "text": [
          "18",
          "21"
         ],
         "textfont": {
          "color": "white",
          "size": 11
         },
         "type": "scatter",
         "x": [
          -3.180000000000003,
          1.060000000000001
         ],
         "y": [
          22.439999999999998,
          12.24
         ]
        },
        {
         "line": {
          "color": "#0570b0",
          "dash": "dash"
         },
         "marker": {
          "color": "#0570b0",
          "line": {
           "color": "white",
           "width": 2
          },
          "size": 20
         },
         "mode": "lines+markers+text",
         "text": [
          "21"
         ],
         "textfont": {
          "color": "white",
          "size": 11
         },
         "type": "scatter",
         "x": [
          1.060000000000001,
          2.120000000000002
         ],
         "y": [
          12.24,
          12.92
         ]
        },
        {
         "line": {
          "color": "#0570b0"
         },
         "marker": {
          "color": "#0570b0",
          "line": {
           "color": "white",
           "width": 2
          },
          "size": 20
         },
         "mode": "lines+markers+text",
         "text": [
          "21",
          "19"
         ],
         "textfont": {
          "color": "white",
          "size": 11
         },
         "type": "scatter",
         "x": [
          2.120000000000002,
          30.740000000000002
         ],
         "y": [
          12.92,
          -26.52
         ]
        },
        {
         "line": {
          "color": "#0570b0",
          "dash": "dash"
         },
         "marker": {
          "color": "#0570b0",
          "line": {
           "color": "white",
           "width": 2
          },
          "size": 20
         },
         "mode": "lines+markers+text",
         "text": [
          "19"
         ],
         "textfont": {
          "color": "white",
          "size": 11
         },
         "type": "scatter",
         "x": [
          30.740000000000002,
          30.740000000000002
         ],
         "y": [
          -26.52,
          -27.200000000000003
         ]
        },
        {
         "line": {
          "color": "#0570b0"
         },
         "marker": {
          "color": "#0570b0",
          "line": {
           "color": "white",
           "width": 2
          },
          "size": 20
         },
         "mode": "lines+markers+text",
         "text": [
          "19",
          "23"
         ],
         "textfont": {
          "color": "white",
          "size": 11
         },
         "type": "scatter",
         "x": [
          30.740000000000002,
          37.099999999999994
         ],
         "y": [
          -27.200000000000003,
          -15.639999999999999
         ]
        },
        {
         "line": {
          "color": "#0570b0",
          "dash": "dash"
         },
         "marker": {
          "color": "#0570b0",
          "line": {
           "color": "white",
           "width": 2
          },
          "size": 20
         },
         "mode": "lines+markers+text",
         "text": [
          "23"
         ],
         "textfont": {
          "color": "white",
          "size": 11
         },
         "type": "scatter",
         "x": [
          37.099999999999994,
          41.34
         ],
         "y": [
          -15.639999999999999,
          -9.520000000000001
         ]
        },
        {
         "line": {
          "color": "#0570b0"
         },
         "marker": {
          "color": "#0570b0",
          "line": {
           "color": "white",
           "width": 2
          },
          "size": 20
         },
         "mode": "lines+markers+text",
         "text": [
          "23",
          "24"
         ],
         "textfont": {
          "color": "white",
          "size": 11
         },
         "type": "scatter",
         "x": [
          41.34,
          44.52
         ],
         "y": [
          -9.520000000000001,
          2.719999999999999
         ]
        },
        {
         "line": {
          "color": "#0570b0"
         },
         "marker": {
          "color": "#0570b0",
          "line": {
           "color": "white",
           "width": 2
          },
          "size": 20
         },
         "mode": "lines+markers+text",
         "text": [
          "24",
          null
         ],
         "textfont": {
          "color": "white",
          "size": 11
         },
         "type": "scatter",
         "x": [
          44.52,
          54.06
         ],
         "y": [
          2.719999999999999,
          1.3600000000000012
         ]
        }
       ],
       "layout": {
        "autosize": false,
        "height": 800,
        "hovermode": "closest",
        "plot_bgcolor": "mediumseagreen",
        "shapes": [
         {
          "layer": "below",
          "line": {
           "color": "White"
          },
          "type": "circle",
          "x0": -9.144,
          "x1": 9.144,
          "y0": -9.144,
          "y1": 9.144
         },
         {
          "layer": "below",
          "line": {
           "color": "White"
          },
          "type": "line",
          "x0": 0,
          "x1": 0,
          "y0": -34,
          "y1": 34
         },
         {
          "fillcolor": "white",
          "layer": "below",
          "line": {
           "color": "White"
          },
          "type": "circle",
          "x0": -0.4,
          "x1": 0.4,
          "y0": -0.4,
          "y1": 0.4
         },
         {
          "layer": "below",
          "line": {
           "color": "White"
          },
          "type": "line",
          "x0": -53,
          "x1": 53,
          "y0": -34,
          "y1": -34
         },
         {
          "layer": "below",
          "line": {
           "color": "White"
          },
          "type": "line",
          "x0": -53,
          "x1": -53,
          "y0": -34,
          "y1": 34
         },
         {
          "layer": "below",
          "line": {
           "color": "White"
          },
          "type": "circle",
          "x0": -51.1712,
          "x1": -32.8832,
          "y0": -9.144,
          "y1": 9.144
         },
         {
          "fillcolor": "mediumseagreen",
          "layer": "below",
          "line": {
           "color": "mediumseagreen",
           "width": 0
          },
          "type": "rect",
          "x0": -53,
          "x1": -36.540800000000004,
          "y0": -21.1168,
          "y1": 21.1168
         },
         {
          "layer": "below",
          "line": {
           "color": "white",
           "width": 2
          },
          "type": "rect",
          "x0": -53,
          "x1": -36.540800000000004,
          "y0": -20.1168,
          "y1": 20.1168
         },
         {
          "layer": "below",
          "line": {
           "color": "white",
           "width": 2
          },
          "type": "rect",
          "x0": -53,
          "x1": -47.5136,
          "y0": -9.144,
          "y1": 9.144
         },
         {
          "fillcolor": "white",
          "layer": "below",
          "line": {
           "color": "White"
          },
          "type": "circle",
          "x0": -42.4272,
          "x1": -41.6272,
          "y0": -0.4,
          "y1": 0.4
         },
         {
          "fillcolor": "white",
          "layer": "below",
          "line": {
           "color": "white",
           "width": 0
          },
          "type": "rect",
          "x0": -53,
          "x1": -52.5,
          "y0": 3.1576,
          "y1": 4.1576
         },
         {
          "fillcolor": "white",
          "layer": "below",
          "line": {
           "color": "white",
           "width": 0
          },
          "type": "rect",
          "x0": -53,
          "x1": -52.5,
          "y0": -4.1576,
          "y1": -3.1576
         },
         {
          "layer": "below",
          "line": {
           "color": "White"
          },
          "type": "line",
          "x0": -53,
          "x1": 53,
          "y0": 34,
          "y1": 34
         },
         {
          "layer": "below",
          "line": {
           "color": "White"
          },
          "type": "line",
          "x0": 53,
          "x1": 53,
          "y0": -34,
          "y1": 34
         },
         {
          "layer": "below",
          "line": {
           "color": "White"
          },
          "type": "circle",
          "x0": 32.8832,
          "x1": 51.1712,
          "y0": -9.144,
          "y1": 9.144
         },
         {
          "fillcolor": "mediumseagreen",
          "layer": "below",
          "line": {
           "color": "mediumseagreen",
           "width": 0
          },
          "type": "rect",
          "x0": 53,
          "x1": 36.540800000000004,
          "y0": -21.1168,
          "y1": 21.1168
         },
         {
          "layer": "below",
          "line": {
           "color": "white",
           "width": 2
          },
          "type": "rect",
          "x0": 53,
          "x1": 36.540800000000004,
          "y0": -20.1168,
          "y1": 20.1168
         },
         {
          "layer": "below",
          "line": {
           "color": "white",
           "width": 2
          },
          "type": "rect",
          "x0": 53,
          "x1": 47.5136,
          "y0": -9.144,
          "y1": 9.144
         },
         {
          "fillcolor": "white",
          "layer": "below",
          "line": {
           "color": "White"
          },
          "type": "circle",
          "x0": 41.6272,
          "x1": 42.4272,
          "y0": -0.4,
          "y1": 0.4
         },
         {
          "fillcolor": "white",
          "layer": "below",
          "line": {
           "color": "white",
           "width": 0
          },
          "type": "rect",
          "x0": 53,
          "x1": 52.5,
          "y0": 3.1576,
          "y1": 4.1576
         },
         {
          "fillcolor": "white",
          "layer": "below",
          "line": {
           "color": "white",
           "width": 0
          },
          "type": "rect",
          "x0": 53,
          "x1": 52.5,
          "y0": -4.1576,
          "y1": -3.1576
         }
        ],
        "template": {
         "data": {
          "bar": [
           {
            "error_x": {
             "color": "#2a3f5f"
            },
            "error_y": {
             "color": "#2a3f5f"
            },
            "marker": {
             "line": {
              "color": "#E5ECF6",
              "width": 0.5
             }
            },
            "type": "bar"
           }
          ],
          "barpolar": [
           {
            "marker": {
             "line": {
              "color": "#E5ECF6",
              "width": 0.5
             }
            },
            "type": "barpolar"
           }
          ],
          "carpet": [
           {
            "aaxis": {
             "endlinecolor": "#2a3f5f",
             "gridcolor": "white",
             "linecolor": "white",
             "minorgridcolor": "white",
             "startlinecolor": "#2a3f5f"
            },
            "baxis": {
             "endlinecolor": "#2a3f5f",
             "gridcolor": "white",
             "linecolor": "white",
             "minorgridcolor": "white",
             "startlinecolor": "#2a3f5f"
            },
            "type": "carpet"
           }
          ],
          "choropleth": [
           {
            "colorbar": {
             "outlinewidth": 0,
             "ticks": ""
            },
            "type": "choropleth"
           }
          ],
          "contour": [
           {
            "colorbar": {
             "outlinewidth": 0,
             "ticks": ""
            },
            "colorscale": [
             [
              0,
              "#0d0887"
             ],
             [
              0.1111111111111111,
              "#46039f"
             ],
             [
              0.2222222222222222,
              "#7201a8"
             ],
             [
              0.3333333333333333,
              "#9c179e"
             ],
             [
              0.4444444444444444,
              "#bd3786"
             ],
             [
              0.5555555555555556,
              "#d8576b"
             ],
             [
              0.6666666666666666,
              "#ed7953"
             ],
             [
              0.7777777777777778,
              "#fb9f3a"
             ],
             [
              0.8888888888888888,
              "#fdca26"
             ],
             [
              1,
              "#f0f921"
             ]
            ],
            "type": "contour"
           }
          ],
          "contourcarpet": [
           {
            "colorbar": {
             "outlinewidth": 0,
             "ticks": ""
            },
            "type": "contourcarpet"
           }
          ],
          "heatmap": [
           {
            "colorbar": {
             "outlinewidth": 0,
             "ticks": ""
            },
            "colorscale": [
             [
              0,
              "#0d0887"
             ],
             [
              0.1111111111111111,
              "#46039f"
             ],
             [
              0.2222222222222222,
              "#7201a8"
             ],
             [
              0.3333333333333333,
              "#9c179e"
             ],
             [
              0.4444444444444444,
              "#bd3786"
             ],
             [
              0.5555555555555556,
              "#d8576b"
             ],
             [
              0.6666666666666666,
              "#ed7953"
             ],
             [
              0.7777777777777778,
              "#fb9f3a"
             ],
             [
              0.8888888888888888,
              "#fdca26"
             ],
             [
              1,
              "#f0f921"
             ]
            ],
            "type": "heatmap"
           }
          ],
          "heatmapgl": [
           {
            "colorbar": {
             "outlinewidth": 0,
             "ticks": ""
            },
            "colorscale": [
             [
              0,
              "#0d0887"
             ],
             [
              0.1111111111111111,
              "#46039f"
             ],
             [
              0.2222222222222222,
              "#7201a8"
             ],
             [
              0.3333333333333333,
              "#9c179e"
             ],
             [
              0.4444444444444444,
              "#bd3786"
             ],
             [
              0.5555555555555556,
              "#d8576b"
             ],
             [
              0.6666666666666666,
              "#ed7953"
             ],
             [
              0.7777777777777778,
              "#fb9f3a"
             ],
             [
              0.8888888888888888,
              "#fdca26"
             ],
             [
              1,
              "#f0f921"
             ]
            ],
            "type": "heatmapgl"
           }
          ],
          "histogram": [
           {
            "marker": {
             "colorbar": {
              "outlinewidth": 0,
              "ticks": ""
             }
            },
            "type": "histogram"
           }
          ],
          "histogram2d": [
           {
            "colorbar": {
             "outlinewidth": 0,
             "ticks": ""
            },
            "colorscale": [
             [
              0,
              "#0d0887"
             ],
             [
              0.1111111111111111,
              "#46039f"
             ],
             [
              0.2222222222222222,
              "#7201a8"
             ],
             [
              0.3333333333333333,
              "#9c179e"
             ],
             [
              0.4444444444444444,
              "#bd3786"
             ],
             [
              0.5555555555555556,
              "#d8576b"
             ],
             [
              0.6666666666666666,
              "#ed7953"
             ],
             [
              0.7777777777777778,
              "#fb9f3a"
             ],
             [
              0.8888888888888888,
              "#fdca26"
             ],
             [
              1,
              "#f0f921"
             ]
            ],
            "type": "histogram2d"
           }
          ],
          "histogram2dcontour": [
           {
            "colorbar": {
             "outlinewidth": 0,
             "ticks": ""
            },
            "colorscale": [
             [
              0,
              "#0d0887"
             ],
             [
              0.1111111111111111,
              "#46039f"
             ],
             [
              0.2222222222222222,
              "#7201a8"
             ],
             [
              0.3333333333333333,
              "#9c179e"
             ],
             [
              0.4444444444444444,
              "#bd3786"
             ],
             [
              0.5555555555555556,
              "#d8576b"
             ],
             [
              0.6666666666666666,
              "#ed7953"
             ],
             [
              0.7777777777777778,
              "#fb9f3a"
             ],
             [
              0.8888888888888888,
              "#fdca26"
             ],
             [
              1,
              "#f0f921"
             ]
            ],
            "type": "histogram2dcontour"
           }
          ],
          "mesh3d": [
           {
            "colorbar": {
             "outlinewidth": 0,
             "ticks": ""
            },
            "type": "mesh3d"
           }
          ],
          "parcoords": [
           {
            "line": {
             "colorbar": {
              "outlinewidth": 0,
              "ticks": ""
             }
            },
            "type": "parcoords"
           }
          ],
          "pie": [
           {
            "automargin": true,
            "type": "pie"
           }
          ],
          "scatter": [
           {
            "marker": {
             "colorbar": {
              "outlinewidth": 0,
              "ticks": ""
             }
            },
            "type": "scatter"
           }
          ],
          "scatter3d": [
           {
            "line": {
             "colorbar": {
              "outlinewidth": 0,
              "ticks": ""
             }
            },
            "marker": {
             "colorbar": {
              "outlinewidth": 0,
              "ticks": ""
             }
            },
            "type": "scatter3d"
           }
          ],
          "scattercarpet": [
           {
            "marker": {
             "colorbar": {
              "outlinewidth": 0,
              "ticks": ""
             }
            },
            "type": "scattercarpet"
           }
          ],
          "scattergeo": [
           {
            "marker": {
             "colorbar": {
              "outlinewidth": 0,
              "ticks": ""
             }
            },
            "type": "scattergeo"
           }
          ],
          "scattergl": [
           {
            "marker": {
             "colorbar": {
              "outlinewidth": 0,
              "ticks": ""
             }
            },
            "type": "scattergl"
           }
          ],
          "scattermapbox": [
           {
            "marker": {
             "colorbar": {
              "outlinewidth": 0,
              "ticks": ""
             }
            },
            "type": "scattermapbox"
           }
          ],
          "scatterpolar": [
           {
            "marker": {
             "colorbar": {
              "outlinewidth": 0,
              "ticks": ""
             }
            },
            "type": "scatterpolar"
           }
          ],
          "scatterpolargl": [
           {
            "marker": {
             "colorbar": {
              "outlinewidth": 0,
              "ticks": ""
             }
            },
            "type": "scatterpolargl"
           }
          ],
          "scatterternary": [
           {
            "marker": {
             "colorbar": {
              "outlinewidth": 0,
              "ticks": ""
             }
            },
            "type": "scatterternary"
           }
          ],
          "surface": [
           {
            "colorbar": {
             "outlinewidth": 0,
             "ticks": ""
            },
            "colorscale": [
             [
              0,
              "#0d0887"
             ],
             [
              0.1111111111111111,
              "#46039f"
             ],
             [
              0.2222222222222222,
              "#7201a8"
             ],
             [
              0.3333333333333333,
              "#9c179e"
             ],
             [
              0.4444444444444444,
              "#bd3786"
             ],
             [
              0.5555555555555556,
              "#d8576b"
             ],
             [
              0.6666666666666666,
              "#ed7953"
             ],
             [
              0.7777777777777778,
              "#fb9f3a"
             ],
             [
              0.8888888888888888,
              "#fdca26"
             ],
             [
              1,
              "#f0f921"
             ]
            ],
            "type": "surface"
           }
          ],
          "table": [
           {
            "cells": {
             "fill": {
              "color": "#EBF0F8"
             },
             "line": {
              "color": "white"
             }
            },
            "header": {
             "fill": {
              "color": "#C8D4E3"
             },
             "line": {
              "color": "white"
             }
            },
            "type": "table"
           }
          ]
         },
         "layout": {
          "annotationdefaults": {
           "arrowcolor": "#2a3f5f",
           "arrowhead": 0,
           "arrowwidth": 1
          },
          "coloraxis": {
           "colorbar": {
            "outlinewidth": 0,
            "ticks": ""
           }
          },
          "colorscale": {
           "diverging": [
            [
             0,
             "#8e0152"
            ],
            [
             0.1,
             "#c51b7d"
            ],
            [
             0.2,
             "#de77ae"
            ],
            [
             0.3,
             "#f1b6da"
            ],
            [
             0.4,
             "#fde0ef"
            ],
            [
             0.5,
             "#f7f7f7"
            ],
            [
             0.6,
             "#e6f5d0"
            ],
            [
             0.7,
             "#b8e186"
            ],
            [
             0.8,
             "#7fbc41"
            ],
            [
             0.9,
             "#4d9221"
            ],
            [
             1,
             "#276419"
            ]
           ],
           "sequential": [
            [
             0,
             "#0d0887"
            ],
            [
             0.1111111111111111,
             "#46039f"
            ],
            [
             0.2222222222222222,
             "#7201a8"
            ],
            [
             0.3333333333333333,
             "#9c179e"
            ],
            [
             0.4444444444444444,
             "#bd3786"
            ],
            [
             0.5555555555555556,
             "#d8576b"
            ],
            [
             0.6666666666666666,
             "#ed7953"
            ],
            [
             0.7777777777777778,
             "#fb9f3a"
            ],
            [
             0.8888888888888888,
             "#fdca26"
            ],
            [
             1,
             "#f0f921"
            ]
           ],
           "sequentialminus": [
            [
             0,
             "#0d0887"
            ],
            [
             0.1111111111111111,
             "#46039f"
            ],
            [
             0.2222222222222222,
             "#7201a8"
            ],
            [
             0.3333333333333333,
             "#9c179e"
            ],
            [
             0.4444444444444444,
             "#bd3786"
            ],
            [
             0.5555555555555556,
             "#d8576b"
            ],
            [
             0.6666666666666666,
             "#ed7953"
            ],
            [
             0.7777777777777778,
             "#fb9f3a"
            ],
            [
             0.8888888888888888,
             "#fdca26"
            ],
            [
             1,
             "#f0f921"
            ]
           ]
          },
          "colorway": [
           "#636efa",
           "#EF553B",
           "#00cc96",
           "#ab63fa",
           "#FFA15A",
           "#19d3f3",
           "#FF6692",
           "#B6E880",
           "#FF97FF",
           "#FECB52"
          ],
          "font": {
           "color": "#2a3f5f"
          },
          "geo": {
           "bgcolor": "white",
           "lakecolor": "white",
           "landcolor": "#E5ECF6",
           "showlakes": true,
           "showland": true,
           "subunitcolor": "white"
          },
          "hoverlabel": {
           "align": "left"
          },
          "hovermode": "closest",
          "mapbox": {
           "style": "light"
          },
          "paper_bgcolor": "white",
          "plot_bgcolor": "#E5ECF6",
          "polar": {
           "angularaxis": {
            "gridcolor": "white",
            "linecolor": "white",
            "ticks": ""
           },
           "bgcolor": "#E5ECF6",
           "radialaxis": {
            "gridcolor": "white",
            "linecolor": "white",
            "ticks": ""
           }
          },
          "scene": {
           "xaxis": {
            "backgroundcolor": "#E5ECF6",
            "gridcolor": "white",
            "gridwidth": 2,
            "linecolor": "white",
            "showbackground": true,
            "ticks": "",
            "zerolinecolor": "white"
           },
           "yaxis": {
            "backgroundcolor": "#E5ECF6",
            "gridcolor": "white",
            "gridwidth": 2,
            "linecolor": "white",
            "showbackground": true,
            "ticks": "",
            "zerolinecolor": "white"
           },
           "zaxis": {
            "backgroundcolor": "#E5ECF6",
            "gridcolor": "white",
            "gridwidth": 2,
            "linecolor": "white",
            "showbackground": true,
            "ticks": "",
            "zerolinecolor": "white"
           }
          },
          "shapedefaults": {
           "line": {
            "color": "#2a3f5f"
           }
          },
          "ternary": {
           "aaxis": {
            "gridcolor": "white",
            "linecolor": "white",
            "ticks": ""
           },
           "baxis": {
            "gridcolor": "white",
            "linecolor": "white",
            "ticks": ""
           },
           "bgcolor": "#E5ECF6",
           "caxis": {
            "gridcolor": "white",
            "linecolor": "white",
            "ticks": ""
           }
          },
          "title": {
           "x": 0.05
          },
          "xaxis": {
           "automargin": true,
           "gridcolor": "white",
           "linecolor": "white",
           "ticks": "",
           "title": {
            "standoff": 15
           },
           "zerolinecolor": "white",
           "zerolinewidth": 2
          },
          "yaxis": {
           "automargin": true,
           "gridcolor": "white",
           "linecolor": "white",
           "ticks": "",
           "title": {
            "standoff": 15
           },
           "zerolinecolor": "white",
           "zerolinewidth": 2
          }
         }
        },
        "title": {
         "text": "plot_title"
        },
        "width": 1200,
        "xaxis": {
         "autorange": false,
         "domain": [
          0,
          1
         ],
         "range": [
          -59.558064516129036,
          59.558064516129036
         ],
         "showgrid": false,
         "showticklabels": false,
         "type": "linear",
         "zeroline": false
        },
        "yaxis": {
         "autorange": false,
         "domain": [
          0,
          1
         ],
         "range": [
          -37,
          37
         ],
         "scaleanchor": "x",
         "scaleratio": 1,
         "showgrid": false,
         "showticklabels": false,
         "type": "linear",
         "zeroline": false
        }
       }
      },
      "image/png": "[encoded data removed]"
     },
     "metadata": {},
     "output_type": "display_data"
    }
   ],
   "source": [
    "plot_events(buildup, hometeam, awayteam, show_velocities=True)"
   ]
  },
  {
   "cell_type": "code",
   "execution_count": 53,
   "metadata": {},
   "outputs": [
    {
     "data": {
      "application/vnd.plotly.v1+json": {
       "config": {
        "plotlyServerURL": "https://plot.ly"
       },
       "data": [
        {
         "line": {
          "color": "red"
         },
         "mode": "lines",
         "name": "Home_vel",
         "type": "scatter",
         "x": [
          4.233639999999998,
          3.601425714285745,
          null,
          -23.67616,
          -27.242302857142448,
          null,
          -19.708580000000005,
          -23.373151428571042,
          null,
          -25.0425,
          -29.433928571428122,
          null,
          -0.8851000000000026,
          0.20518571428559274,
          null,
          9.85163999999999,
          8.715925714285818,
          null,
          null,
          null,
          null,
          -4.622660000000004,
          -5.9098028571427115,
          null,
          9.243200000000005,
          7.198914285714517,
          null,
          null,
          null,
          null,
          null,
          null,
          null,
          34.849620000000016,
          33.86154857142869,
          null,
          -26.602819999999998,
          -31.020748571428108,
          null,
          -6.613339999999994,
          -9.933411428571105,
          null,
          3.913464782073208,
          3.601425714285745,
          3.6458389059229526,
          null,
          -26.450282724270963,
          -27.242302857142448,
          -26.02367611349885,
          null,
          -22.276786939116285,
          -23.373151428571042,
          -22.40337348016315,
          null,
          -28.194455547817764,
          -29.433928571428122,
          -28.197445781070837,
          null,
          -0.23798074470366065,
          0.20518571428559274,
          0.03363210911736583,
          null,
          8.967067863442685,
          8.715925714285818,
          9.105116965293,
          null,
          null,
          null,
          null,
          null,
          -5.507575859217595,
          -5.9098028571427115,
          -5.586318668215252,
          null,
          7.710675144816605,
          7.198914285714517,
          7.839753546907702,
          null,
          null,
          null,
          null,
          null,
          null,
          null,
          null,
          null,
          34.173982910701575,
          33.86154857142869,
          34.10620429029853,
          null,
          -30.33821151800051,
          -31.020748571428108,
          -29.21238869821757,
          null,
          -9.010165933323556,
          -9.933411428571105,
          -8.984748950672413,
          null
         ],
         "y": [
          12.15636,
          13.460502857142696,
          null,
          -0.5270000000000024,
          -2.60585714285694,
          null,
          4.145959999999998,
          4.762817142857078,
          null,
          1.4776400000000018,
          1.4922114285714243,
          null,
          -14.209280000000003,
          -15.532851428571288,
          null,
          -6.517119999999995,
          -7.189834285714188,
          null,
          null,
          null,
          null,
          0.6806800000000013,
          1.0643942857142523,
          null,
          9.68864,
          9.059640000000051,
          null,
          null,
          null,
          null,
          null,
          null,
          null,
          0.6867999999999999,
          1.0170857142856864,
          null,
          13.1342,
          7.648057142857713,
          null,
          -18.81968,
          -18.943537142857135,
          null,
          13.15772383753416,
          13.460502857142696,
          13.027985825166645,
          null,
          -1.6539033204778164,
          -2.60585714285694,
          -2.385718935149619,
          null,
          4.96492748485862,
          4.762817142857078,
          4.21291313772241,
          null,
          1.9386907382218468,
          1.4922114285714243,
          1.0375165205792771,
          null,
          -15.271596240097605,
          -15.532851428571288,
          -15.04785643433807,
          null,
          -6.8836597418262295,
          -7.189834285714188,
          -7.116722039492412,
          null,
          null,
          null,
          null,
          null,
          1.0882908762256749,
          1.0643942857142523,
          0.8241536055373393,
          null,
          9.4467160654419,
          9.059640000000051,
          9.027203929642775,
          null,
          null,
          null,
          null,
          null,
          null,
          null,
          null,
          null,
          1.0253576992308964,
          1.0170857142856864,
          0.8225935002613189,
          null,
          9.647949699648613,
          7.648057142857713,
          8.741337361727167,
          null,
          -18.567961458149387,
          -18.943537142857135,
          -19.2492802416602,
          null
         ]
        },
        {
         "line": {
          "color": "#0570b0"
         },
         "mode": "lines",
         "name": "Away_vel",
         "type": "scatter",
         "x": [
          -13.577539999999997,
          -18.464897142856643,
          null,
          -3.1598600000000063,
          -6.222502857142534,
          null,
          -28.4186,
          -33.56338571428513,
          null,
          -47.73604,
          -49.163254285714125,
          null,
          null,
          null,
          null,
          -29.761619999999997,
          -32.43433428571399,
          null,
          3.9675799999999963,
          2.5403657142858407,
          null,
          -20.06156,
          -23.5557742857139,
          null,
          -26.68656,
          -30.24513142857107,
          null,
          -21.541319999999995,
          -23.070748571428393,
          null,
          -29.58354,
          -32.456897142856846,
          null,
          5.5098800000000026,
          4.529380000000111,
          null,
          -17.0519778694467,
          -18.464897142856643,
          -17.122248350893972,
          null,
          -5.199391696319564,
          -6.222502857142534,
          -5.5188482821898015,
          null,
          -32.58723171963048,
          -33.56338571428513,
          -31.638829406196685,
          null,
          -48.77960042377611,
          -49.163254285714125,
          -48.74222250811267,
          null,
          null,
          null,
          null,
          null,
          -31.453119218745044,
          -32.43433428571399,
          -31.90863141763022,
          null,
          2.902340385139065,
          2.5403657142858407,
          2.9830766829721105,
          null,
          -22.831875109230147,
          -23.5557742857139,
          -22.309581034359617,
          null,
          -28.921239918588377,
          -30.24513142857107,
          -29.562644951373084,
          null,
          -22.320881721094302,
          -23.070748571428393,
          -22.958299776208243,
          null,
          -31.58059188787282,
          -32.456897142856846,
          -31.71315889542584,
          null,
          4.734772544643712,
          4.529380000000111,
          4.8768086241647985,
          null
         ],
         "y": [
          -4.061640000000004,
          -3.7192114285714846,
          null,
          -23.707519999999995,
          -22.150805714285866,
          null,
          15.31224,
          10.690668571429027,
          null,
          0.5134000000000001,
          0.3312571428571737,
          null,
          null,
          null,
          null,
          -5.038119999999999,
          -2.818405714285924,
          null,
          27.01708,
          26.62365142857144,
          null,
          6.543640000000003,
          3.9984971428574054,
          null,
          -15.965039999999998,
          -12.83946857142888,
          null,
          2.055640000000002,
          5.161782857142566,
          null,
          2.4031199999999986,
          3.049119999999945,
          null,
          -14.951160000000002,
          -15.643302857142782,
          null,
          -3.3142723319417082,
          -3.7192114285714846,
          -4.317217086231845,
          null,
          -22.27540992768657,
          -22.150805714285866,
          -22.903901257059704,
          null,
          12.521411646001862,
          10.690668571429027,
          11.46563943757407,
          null,
          0.5290454428598823,
          0.3312571428571737,
          0.2361638221260507,
          null,
          null,
          null,
          null,
          null,
          -3.1699238177269593,
          -2.818405714285924,
          -3.718397091568036,
          null,
          26.881002816551685,
          26.62365142857144,
          26.58812119581785,
          null,
          5.0745202326114045,
          3.9984971428574054,
          4.357465230125124,
          null,
          -13.355460560568792,
          -12.83946857142888,
          -14.085722426589497,
          null,
          4.443065614315342,
          5.161782857142566,
          4.1292083867915546,
          null,
          3.1618313766393706,
          3.049119999999945,
          2.572183763543931,
          null,
          -15.347577171367524,
          -15.643302857142782,
          -15.548787621685992,
          null
         ]
        },
        {
         "marker": {
          "color": "red",
          "line": {
           "color": "white",
           "width": 2
          },
          "size": 20
         },
         "mode": "markers+text",
         "text": [
          "1",
          "7",
          "5",
          "10",
          "4",
          "3",
          "14",
          "6",
          "2",
          "13",
          "12",
          "11",
          "9",
          "8"
         ],
         "textfont": {
          "color": "white",
          "size": 11
         },
         "type": "scatter",
         "x": [
          4.233639999999998,
          -23.67616,
          -19.708580000000005,
          -25.0425,
          -0.8851000000000026,
          9.85163999999999,
          null,
          -4.622660000000004,
          9.243200000000005,
          null,
          null,
          34.849620000000016,
          -26.602819999999998,
          -6.613339999999994
         ],
         "y": [
          12.15636,
          -0.5270000000000024,
          4.145959999999998,
          1.4776400000000018,
          -14.209280000000003,
          -6.517119999999995,
          null,
          0.6806800000000013,
          9.68864,
          null,
          null,
          0.6867999999999999,
          13.1342,
          -18.81968
         ]
        },
        {
         "marker": {
          "color": "#0570b0",
          "line": {
           "color": "white",
           "width": 2
          },
          "size": 20
         },
         "mode": "markers+text",
         "text": [
          "21",
          "19",
          "18",
          "25",
          "26",
          "16",
          "23",
          "20",
          "15",
          "22",
          "17",
          "24"
         ],
         "textfont": {
          "color": "white",
          "size": 11
         },
         "type": "scatter",
         "x": [
          -13.577539999999997,
          -3.1598600000000063,
          -28.4186,
          -47.73604,
          null,
          -29.761619999999997,
          3.9675799999999963,
          -20.06156,
          -26.68656,
          -21.541319999999995,
          -29.58354,
          5.5098800000000026
         ],
         "y": [
          -4.061640000000004,
          -23.707519999999995,
          15.31224,
          0.5134000000000001,
          null,
          -5.038119999999999,
          27.01708,
          6.543640000000003,
          -15.965039999999998,
          2.055640000000002,
          2.4031199999999986,
          -14.951160000000002
         ]
        },
        {
         "marker": {
          "color": "#262e39",
          "opacity": 0.8,
          "size": 10
         },
         "type": "scatter",
         "x": [
          -19.564419999999995
         ],
         "y": [
          4.121480000000004
         ]
        }
       ],
       "layout": {
        "autosize": false,
        "height": 800,
        "hovermode": "closest",
        "plot_bgcolor": "mediumseagreen",
        "shapes": [
         {
          "layer": "below",
          "line": {
           "color": "White"
          },
          "type": "circle",
          "x0": -9.144,
          "x1": 9.144,
          "y0": -9.144,
          "y1": 9.144
         },
         {
          "layer": "below",
          "line": {
           "color": "White"
          },
          "type": "line",
          "x0": 0,
          "x1": 0,
          "y0": -34,
          "y1": 34
         },
         {
          "fillcolor": "white",
          "layer": "below",
          "line": {
           "color": "White"
          },
          "type": "circle",
          "x0": -0.4,
          "x1": 0.4,
          "y0": -0.4,
          "y1": 0.4
         },
         {
          "layer": "below",
          "line": {
           "color": "White"
          },
          "type": "line",
          "x0": -53,
          "x1": 53,
          "y0": -34,
          "y1": -34
         },
         {
          "layer": "below",
          "line": {
           "color": "White"
          },
          "type": "line",
          "x0": -53,
          "x1": -53,
          "y0": -34,
          "y1": 34
         },
         {
          "layer": "below",
          "line": {
           "color": "White"
          },
          "type": "circle",
          "x0": -51.1712,
          "x1": -32.8832,
          "y0": -9.144,
          "y1": 9.144
         },
         {
          "fillcolor": "mediumseagreen",
          "layer": "below",
          "line": {
           "color": "mediumseagreen",
           "width": 0
          },
          "type": "rect",
          "x0": -53,
          "x1": -36.540800000000004,
          "y0": -21.1168,
          "y1": 21.1168
         },
         {
          "layer": "below",
          "line": {
           "color": "white",
           "width": 2
          },
          "type": "rect",
          "x0": -53,
          "x1": -36.540800000000004,
          "y0": -20.1168,
          "y1": 20.1168
         },
         {
          "layer": "below",
          "line": {
           "color": "white",
           "width": 2
          },
          "type": "rect",
          "x0": -53,
          "x1": -47.5136,
          "y0": -9.144,
          "y1": 9.144
         },
         {
          "fillcolor": "white",
          "layer": "below",
          "line": {
           "color": "White"
          },
          "type": "circle",
          "x0": -42.4272,
          "x1": -41.6272,
          "y0": -0.4,
          "y1": 0.4
         },
         {
          "fillcolor": "white",
          "layer": "below",
          "line": {
           "color": "white",
           "width": 0
          },
          "type": "rect",
          "x0": -53,
          "x1": -52.5,
          "y0": 3.1576,
          "y1": 4.1576
         },
         {
          "fillcolor": "white",
          "layer": "below",
          "line": {
           "color": "white",
           "width": 0
          },
          "type": "rect",
          "x0": -53,
          "x1": -52.5,
          "y0": -4.1576,
          "y1": -3.1576
         },
         {
          "layer": "below",
          "line": {
           "color": "White"
          },
          "type": "line",
          "x0": -53,
          "x1": 53,
          "y0": 34,
          "y1": 34
         },
         {
          "layer": "below",
          "line": {
           "color": "White"
          },
          "type": "line",
          "x0": 53,
          "x1": 53,
          "y0": -34,
          "y1": 34
         },
         {
          "layer": "below",
          "line": {
           "color": "White"
          },
          "type": "circle",
          "x0": 32.8832,
          "x1": 51.1712,
          "y0": -9.144,
          "y1": 9.144
         },
         {
          "fillcolor": "mediumseagreen",
          "layer": "below",
          "line": {
           "color": "mediumseagreen",
           "width": 0
          },
          "type": "rect",
          "x0": 53,
          "x1": 36.540800000000004,
          "y0": -21.1168,
          "y1": 21.1168
         },
         {
          "layer": "below",
          "line": {
           "color": "white",
           "width": 2
          },
          "type": "rect",
          "x0": 53,
          "x1": 36.540800000000004,
          "y0": -20.1168,
          "y1": 20.1168
         },
         {
          "layer": "below",
          "line": {
           "color": "white",
           "width": 2
          },
          "type": "rect",
          "x0": 53,
          "x1": 47.5136,
          "y0": -9.144,
          "y1": 9.144
         },
         {
          "fillcolor": "white",
          "layer": "below",
          "line": {
           "color": "White"
          },
          "type": "circle",
          "x0": 41.6272,
          "x1": 42.4272,
          "y0": -0.4,
          "y1": 0.4
         },
         {
          "fillcolor": "white",
          "layer": "below",
          "line": {
           "color": "white",
           "width": 0
          },
          "type": "rect",
          "x0": 53,
          "x1": 52.5,
          "y0": 3.1576,
          "y1": 4.1576
         },
         {
          "fillcolor": "white",
          "layer": "below",
          "line": {
           "color": "white",
           "width": 0
          },
          "type": "rect",
          "x0": 53,
          "x1": 52.5,
          "y0": -4.1576,
          "y1": -3.1576
         }
        ],
        "template": {
         "data": {
          "bar": [
           {
            "error_x": {
             "color": "#2a3f5f"
            },
            "error_y": {
             "color": "#2a3f5f"
            },
            "marker": {
             "line": {
              "color": "#E5ECF6",
              "width": 0.5
             }
            },
            "type": "bar"
           }
          ],
          "barpolar": [
           {
            "marker": {
             "line": {
              "color": "#E5ECF6",
              "width": 0.5
             }
            },
            "type": "barpolar"
           }
          ],
          "carpet": [
           {
            "aaxis": {
             "endlinecolor": "#2a3f5f",
             "gridcolor": "white",
             "linecolor": "white",
             "minorgridcolor": "white",
             "startlinecolor": "#2a3f5f"
            },
            "baxis": {
             "endlinecolor": "#2a3f5f",
             "gridcolor": "white",
             "linecolor": "white",
             "minorgridcolor": "white",
             "startlinecolor": "#2a3f5f"
            },
            "type": "carpet"
           }
          ],
          "choropleth": [
           {
            "colorbar": {
             "outlinewidth": 0,
             "ticks": ""
            },
            "type": "choropleth"
           }
          ],
          "contour": [
           {
            "colorbar": {
             "outlinewidth": 0,
             "ticks": ""
            },
            "colorscale": [
             [
              0,
              "#0d0887"
             ],
             [
              0.1111111111111111,
              "#46039f"
             ],
             [
              0.2222222222222222,
              "#7201a8"
             ],
             [
              0.3333333333333333,
              "#9c179e"
             ],
             [
              0.4444444444444444,
              "#bd3786"
             ],
             [
              0.5555555555555556,
              "#d8576b"
             ],
             [
              0.6666666666666666,
              "#ed7953"
             ],
             [
              0.7777777777777778,
              "#fb9f3a"
             ],
             [
              0.8888888888888888,
              "#fdca26"
             ],
             [
              1,
              "#f0f921"
             ]
            ],
            "type": "contour"
           }
          ],
          "contourcarpet": [
           {
            "colorbar": {
             "outlinewidth": 0,
             "ticks": ""
            },
            "type": "contourcarpet"
           }
          ],
          "heatmap": [
           {
            "colorbar": {
             "outlinewidth": 0,
             "ticks": ""
            },
            "colorscale": [
             [
              0,
              "#0d0887"
             ],
             [
              0.1111111111111111,
              "#46039f"
             ],
             [
              0.2222222222222222,
              "#7201a8"
             ],
             [
              0.3333333333333333,
              "#9c179e"
             ],
             [
              0.4444444444444444,
              "#bd3786"
             ],
             [
              0.5555555555555556,
              "#d8576b"
             ],
             [
              0.6666666666666666,
              "#ed7953"
             ],
             [
              0.7777777777777778,
              "#fb9f3a"
             ],
             [
              0.8888888888888888,
              "#fdca26"
             ],
             [
              1,
              "#f0f921"
             ]
            ],
            "type": "heatmap"
           }
          ],
          "heatmapgl": [
           {
            "colorbar": {
             "outlinewidth": 0,
             "ticks": ""
            },
            "colorscale": [
             [
              0,
              "#0d0887"
             ],
             [
              0.1111111111111111,
              "#46039f"
             ],
             [
              0.2222222222222222,
              "#7201a8"
             ],
             [
              0.3333333333333333,
              "#9c179e"
             ],
             [
              0.4444444444444444,
              "#bd3786"
             ],
             [
              0.5555555555555556,
              "#d8576b"
             ],
             [
              0.6666666666666666,
              "#ed7953"
             ],
             [
              0.7777777777777778,
              "#fb9f3a"
             ],
             [
              0.8888888888888888,
              "#fdca26"
             ],
             [
              1,
              "#f0f921"
             ]
            ],
            "type": "heatmapgl"
           }
          ],
          "histogram": [
           {
            "marker": {
             "colorbar": {
              "outlinewidth": 0,
              "ticks": ""
             }
            },
            "type": "histogram"
           }
          ],
          "histogram2d": [
           {
            "colorbar": {
             "outlinewidth": 0,
             "ticks": ""
            },
            "colorscale": [
             [
              0,
              "#0d0887"
             ],
             [
              0.1111111111111111,
              "#46039f"
             ],
             [
              0.2222222222222222,
              "#7201a8"
             ],
             [
              0.3333333333333333,
              "#9c179e"
             ],
             [
              0.4444444444444444,
              "#bd3786"
             ],
             [
              0.5555555555555556,
              "#d8576b"
             ],
             [
              0.6666666666666666,
              "#ed7953"
             ],
             [
              0.7777777777777778,
              "#fb9f3a"
             ],
             [
              0.8888888888888888,
              "#fdca26"
             ],
             [
              1,
              "#f0f921"
             ]
            ],
            "type": "histogram2d"
           }
          ],
          "histogram2dcontour": [
           {
            "colorbar": {
             "outlinewidth": 0,
             "ticks": ""
            },
            "colorscale": [
             [
              0,
              "#0d0887"
             ],
             [
              0.1111111111111111,
              "#46039f"
             ],
             [
              0.2222222222222222,
              "#7201a8"
             ],
             [
              0.3333333333333333,
              "#9c179e"
             ],
             [
              0.4444444444444444,
              "#bd3786"
             ],
             [
              0.5555555555555556,
              "#d8576b"
             ],
             [
              0.6666666666666666,
              "#ed7953"
             ],
             [
              0.7777777777777778,
              "#fb9f3a"
             ],
             [
              0.8888888888888888,
              "#fdca26"
             ],
             [
              1,
              "#f0f921"
             ]
            ],
            "type": "histogram2dcontour"
           }
          ],
          "mesh3d": [
           {
            "colorbar": {
             "outlinewidth": 0,
             "ticks": ""
            },
            "type": "mesh3d"
           }
          ],
          "parcoords": [
           {
            "line": {
             "colorbar": {
              "outlinewidth": 0,
              "ticks": ""
             }
            },
            "type": "parcoords"
           }
          ],
          "pie": [
           {
            "automargin": true,
            "type": "pie"
           }
          ],
          "scatter": [
           {
            "marker": {
             "colorbar": {
              "outlinewidth": 0,
              "ticks": ""
             }
            },
            "type": "scatter"
           }
          ],
          "scatter3d": [
           {
            "line": {
             "colorbar": {
              "outlinewidth": 0,
              "ticks": ""
             }
            },
            "marker": {
             "colorbar": {
              "outlinewidth": 0,
              "ticks": ""
             }
            },
            "type": "scatter3d"
           }
          ],
          "scattercarpet": [
           {
            "marker": {
             "colorbar": {
              "outlinewidth": 0,
              "ticks": ""
             }
            },
            "type": "scattercarpet"
           }
          ],
          "scattergeo": [
           {
            "marker": {
             "colorbar": {
              "outlinewidth": 0,
              "ticks": ""
             }
            },
            "type": "scattergeo"
           }
          ],
          "scattergl": [
           {
            "marker": {
             "colorbar": {
              "outlinewidth": 0,
              "ticks": ""
             }
            },
            "type": "scattergl"
           }
          ],
          "scattermapbox": [
           {
            "marker": {
             "colorbar": {
              "outlinewidth": 0,
              "ticks": ""
             }
            },
            "type": "scattermapbox"
           }
          ],
          "scatterpolar": [
           {
            "marker": {
             "colorbar": {
              "outlinewidth": 0,
              "ticks": ""
             }
            },
            "type": "scatterpolar"
           }
          ],
          "scatterpolargl": [
           {
            "marker": {
             "colorbar": {
              "outlinewidth": 0,
              "ticks": ""
             }
            },
            "type": "scatterpolargl"
           }
          ],
          "scatterternary": [
           {
            "marker": {
             "colorbar": {
              "outlinewidth": 0,
              "ticks": ""
             }
            },
            "type": "scatterternary"
           }
          ],
          "surface": [
           {
            "colorbar": {
             "outlinewidth": 0,
             "ticks": ""
            },
            "colorscale": [
             [
              0,
              "#0d0887"
             ],
             [
              0.1111111111111111,
              "#46039f"
             ],
             [
              0.2222222222222222,
              "#7201a8"
             ],
             [
              0.3333333333333333,
              "#9c179e"
             ],
             [
              0.4444444444444444,
              "#bd3786"
             ],
             [
              0.5555555555555556,
              "#d8576b"
             ],
             [
              0.6666666666666666,
              "#ed7953"
             ],
             [
              0.7777777777777778,
              "#fb9f3a"
             ],
             [
              0.8888888888888888,
              "#fdca26"
             ],
             [
              1,
              "#f0f921"
             ]
            ],
            "type": "surface"
           }
          ],
          "table": [
           {
            "cells": {
             "fill": {
              "color": "#EBF0F8"
             },
             "line": {
              "color": "white"
             }
            },
            "header": {
             "fill": {
              "color": "#C8D4E3"
             },
             "line": {
              "color": "white"
             }
            },
            "type": "table"
           }
          ]
         },
         "layout": {
          "annotationdefaults": {
           "arrowcolor": "#2a3f5f",
           "arrowhead": 0,
           "arrowwidth": 1
          },
          "coloraxis": {
           "colorbar": {
            "outlinewidth": 0,
            "ticks": ""
           }
          },
          "colorscale": {
           "diverging": [
            [
             0,
             "#8e0152"
            ],
            [
             0.1,
             "#c51b7d"
            ],
            [
             0.2,
             "#de77ae"
            ],
            [
             0.3,
             "#f1b6da"
            ],
            [
             0.4,
             "#fde0ef"
            ],
            [
             0.5,
             "#f7f7f7"
            ],
            [
             0.6,
             "#e6f5d0"
            ],
            [
             0.7,
             "#b8e186"
            ],
            [
             0.8,
             "#7fbc41"
            ],
            [
             0.9,
             "#4d9221"
            ],
            [
             1,
             "#276419"
            ]
           ],
           "sequential": [
            [
             0,
             "#0d0887"
            ],
            [
             0.1111111111111111,
             "#46039f"
            ],
            [
             0.2222222222222222,
             "#7201a8"
            ],
            [
             0.3333333333333333,
             "#9c179e"
            ],
            [
             0.4444444444444444,
             "#bd3786"
            ],
            [
             0.5555555555555556,
             "#d8576b"
            ],
            [
             0.6666666666666666,
             "#ed7953"
            ],
            [
             0.7777777777777778,
             "#fb9f3a"
            ],
            [
             0.8888888888888888,
             "#fdca26"
            ],
            [
             1,
             "#f0f921"
            ]
           ],
           "sequentialminus": [
            [
             0,
             "#0d0887"
            ],
            [
             0.1111111111111111,
             "#46039f"
            ],
            [
             0.2222222222222222,
             "#7201a8"
            ],
            [
             0.3333333333333333,
             "#9c179e"
            ],
            [
             0.4444444444444444,
             "#bd3786"
            ],
            [
             0.5555555555555556,
             "#d8576b"
            ],
            [
             0.6666666666666666,
             "#ed7953"
            ],
            [
             0.7777777777777778,
             "#fb9f3a"
            ],
            [
             0.8888888888888888,
             "#fdca26"
            ],
            [
             1,
             "#f0f921"
            ]
           ]
          },
          "colorway": [
           "#636efa",
           "#EF553B",
           "#00cc96",
           "#ab63fa",
           "#FFA15A",
           "#19d3f3",
           "#FF6692",
           "#B6E880",
           "#FF97FF",
           "#FECB52"
          ],
          "font": {
           "color": "#2a3f5f"
          },
          "geo": {
           "bgcolor": "white",
           "lakecolor": "white",
           "landcolor": "#E5ECF6",
           "showlakes": true,
           "showland": true,
           "subunitcolor": "white"
          },
          "hoverlabel": {
           "align": "left"
          },
          "hovermode": "closest",
          "mapbox": {
           "style": "light"
          },
          "paper_bgcolor": "white",
          "plot_bgcolor": "#E5ECF6",
          "polar": {
           "angularaxis": {
            "gridcolor": "white",
            "linecolor": "white",
            "ticks": ""
           },
           "bgcolor": "#E5ECF6",
           "radialaxis": {
            "gridcolor": "white",
            "linecolor": "white",
            "ticks": ""
           }
          },
          "scene": {
           "xaxis": {
            "backgroundcolor": "#E5ECF6",
            "gridcolor": "white",
            "gridwidth": 2,
            "linecolor": "white",
            "showbackground": true,
            "ticks": "",
            "zerolinecolor": "white"
           },
           "yaxis": {
            "backgroundcolor": "#E5ECF6",
            "gridcolor": "white",
            "gridwidth": 2,
            "linecolor": "white",
            "showbackground": true,
            "ticks": "",
            "zerolinecolor": "white"
           },
           "zaxis": {
            "backgroundcolor": "#E5ECF6",
            "gridcolor": "white",
            "gridwidth": 2,
            "linecolor": "white",
            "showbackground": true,
            "ticks": "",
            "zerolinecolor": "white"
           }
          },
          "shapedefaults": {
           "line": {
            "color": "#2a3f5f"
           }
          },
          "ternary": {
           "aaxis": {
            "gridcolor": "white",
            "linecolor": "white",
            "ticks": ""
           },
           "baxis": {
            "gridcolor": "white",
            "linecolor": "white",
            "ticks": ""
           },
           "bgcolor": "#E5ECF6",
           "caxis": {
            "gridcolor": "white",
            "linecolor": "white",
            "ticks": ""
           }
          },
          "title": {
           "x": 0.05
          },
          "xaxis": {
           "automargin": true,
           "gridcolor": "white",
           "linecolor": "white",
           "ticks": "",
           "title": {
            "standoff": 15
           },
           "zerolinecolor": "white",
           "zerolinewidth": 2
          },
          "yaxis": {
           "automargin": true,
           "gridcolor": "white",
           "linecolor": "white",
           "ticks": "",
           "title": {
            "standoff": 15
           },
           "zerolinecolor": "white",
           "zerolinewidth": 2
          }
         }
        },
        "title": {
         "text": "plot_title"
        },
        "width": 1200,
        "xaxis": {
         "domain": [
          0,
          1
         ],
         "range": [
          -58.48387096774193,
          58.48387096774193
         ],
         "showgrid": false,
         "showticklabels": false,
         "type": "linear",
         "zeroline": false
        },
        "yaxis": {
         "domain": [
          0,
          1
         ],
         "range": [
          -37,
          37
         ],
         "scaleanchor": "x",
         "scaleratio": 1,
         "showgrid": false,
         "showticklabels": false,
         "type": "linear",
         "zeroline": false
        }
       }
      },
      "image/png": "[encoded data removed]"
     },
     "metadata": {},
     "output_type": "display_data"
    }
   ],
   "source": [
    "frame = 11717\n",
    "hometeam = tracking_home.loc[frame]\n",
    "awayteam = tracking_away.loc[frame]\n",
    "plot_frame(hometeam, awayteam)"
   ]
  },
  {
   "cell_type": "code",
   "execution_count": null,
   "metadata": {},
   "outputs": [],
   "source": [
    "# Plot the first goal\n",
    "fig,ax = mviz.plot_pitch()\n",
    "ax.plot( events.loc[198]['Start X'], events.loc[198]['Start Y'], 'ro' )\n",
    "ax.annotate(\"\", xy=events.loc[198][['End X','End Y']], \n",
    "            xytext=events.loc[198][['Start X','Start Y']], \n",
    "            alpha=0.6, arrowprops=dict(arrowstyle=\"->\",color='r'));\n",
    "\n",
    "# plot passing move in run up to goal\n",
    "mviz.plot_events(events.loc[190:198], indicators = ['Marker','Arrow'], \n",
    "                 annotate=True, figax=(fig,ax))"
   ]
  },
  {
   "cell_type": "code",
   "execution_count": null,
   "metadata": {},
   "outputs": [],
   "source": []
  },
  {
   "cell_type": "code",
   "execution_count": null,
   "metadata": {},
   "outputs": [],
   "source": []
  }
 ],
 "metadata": {
  "kernelspec": {
   "display_name": "Python 3.6.10 64-bit ('kickoff': conda)",
   "language": "python",
   "name": "python361064bitkickoffconda0429761356e34c7095cf0a0743665a00"
  },
  "language_info": {
   "codemirror_mode": {
    "name": "ipython",
    "version": 3
   },
   "file_extension": ".py",
   "mimetype": "text/x-python",
   "name": "python",
   "nbconvert_exporter": "python",
   "pygments_lexer": "ipython3",
   "version": "3.6.10"
  }
 },
 "nbformat": 4,
 "nbformat_minor": 4
}
