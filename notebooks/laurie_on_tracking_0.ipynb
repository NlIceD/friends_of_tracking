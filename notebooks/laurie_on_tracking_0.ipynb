{
 "cells": [
  {
   "cell_type": "code",
   "execution_count": 177,
   "metadata": {
    "ExecuteTime": {
     "end_time": "2020-04-14T10:39:14.229479Z",
     "start_time": "2020-04-14T10:39:14.223242Z"
    }
   },
   "outputs": [],
   "source": [
    "import json\n",
    "import modin.pandas as pd\n",
    "import glob\n",
    "import sys\n",
    "from sklearn.preprocessing import MinMaxScaler\n",
    "import warnings\n",
    "warnings.filterwarnings('ignore')\n",
    "\n",
    "sys.path.insert(0,'/media/csivsw/crossOS/playground/friends_of_tracking/src/friends_of_tracking/LaurieOnTracking')\n"
   ]
  },
  {
   "cell_type": "code",
   "execution_count": 3,
   "metadata": {
    "ExecuteTime": {
     "end_time": "2020-04-13T17:45:33.112503Z",
     "start_time": "2020-04-13T17:45:32.869729Z"
    }
   },
   "outputs": [],
   "source": [
    "import Metrica_IO as mio\n",
    "import Metrica_Viz as mviz"
   ]
  },
  {
   "cell_type": "code",
   "execution_count": 4,
   "metadata": {
    "ExecuteTime": {
     "end_time": "2020-04-13T17:47:34.877536Z",
     "start_time": "2020-04-13T17:47:34.835751Z"
    }
   },
   "outputs": [
    {
     "name": "stdout",
     "output_type": "stream",
     "text": [
      "PASS              964\n",
      "CHALLENGE         311\n",
      "RECOVERY          248\n",
      "BALL LOST         233\n",
      "SET PIECE          80\n",
      "BALL OUT           49\n",
      "SHOT               24\n",
      "FAULT RECEIVED     20\n",
      "CARD                6\n",
      "Name: Type, dtype: int64\n"
     ]
    }
   ],
   "source": [
    "DATADIR = '../datahub/metrica_sports/sample-data/data/'\n",
    "game_id = 2\n",
    "\n",
    "# read in the event data\n",
    "events = mio.read_event_data(DATADIR,game_id)\n",
    "\n",
    "# count the number of each event type in the data\n",
    "print( events['Type'].value_counts() )"
   ]
  },
  {
   "cell_type": "code",
   "execution_count": 6,
   "metadata": {
    "ExecuteTime": {
     "end_time": "2020-04-13T17:49:10.040118Z",
     "start_time": "2020-04-13T17:49:10.002396Z"
    }
   },
   "outputs": [],
   "source": [
    "# Bit of housekeeping: unit conversion from metric data units to meters\n",
    "events = mio.to_metric_coordinates(events)"
   ]
  },
  {
   "cell_type": "code",
   "execution_count": 7,
   "metadata": {
    "ExecuteTime": {
     "end_time": "2020-04-13T17:49:10.176569Z",
     "start_time": "2020-04-13T17:49:10.149398Z"
    }
   },
   "outputs": [
    {
     "data": {
      "text/html": [
       "<div>\n",
       "<style scoped>\n",
       "    .dataframe tbody tr th:only-of-type {\n",
       "        vertical-align: middle;\n",
       "    }\n",
       "\n",
       "    .dataframe tbody tr th {\n",
       "        vertical-align: top;\n",
       "    }\n",
       "\n",
       "    .dataframe thead th {\n",
       "        text-align: right;\n",
       "    }\n",
       "</style>\n",
       "<table border=\"1\" class=\"dataframe\">\n",
       "  <thead>\n",
       "    <tr style=\"text-align: right;\">\n",
       "      <th></th>\n",
       "      <th>Team</th>\n",
       "      <th>Type</th>\n",
       "      <th>Subtype</th>\n",
       "      <th>Period</th>\n",
       "      <th>Start Frame</th>\n",
       "      <th>Start Time [s]</th>\n",
       "      <th>End Frame</th>\n",
       "      <th>End Time [s]</th>\n",
       "      <th>From</th>\n",
       "      <th>To</th>\n",
       "      <th>Start X</th>\n",
       "      <th>Start Y</th>\n",
       "      <th>End X</th>\n",
       "      <th>End Y</th>\n",
       "    </tr>\n",
       "  </thead>\n",
       "  <tbody>\n",
       "    <tr>\n",
       "      <th>0</th>\n",
       "      <td>Away</td>\n",
       "      <td>SET PIECE</td>\n",
       "      <td>KICK OFF</td>\n",
       "      <td>1</td>\n",
       "      <td>51</td>\n",
       "      <td>2.04</td>\n",
       "      <td>51</td>\n",
       "      <td>2.04</td>\n",
       "      <td>Player23</td>\n",
       "      <td>NaN</td>\n",
       "      <td>NaN</td>\n",
       "      <td>NaN</td>\n",
       "      <td>NaN</td>\n",
       "      <td>NaN</td>\n",
       "    </tr>\n",
       "    <tr>\n",
       "      <th>1</th>\n",
       "      <td>Away</td>\n",
       "      <td>PASS</td>\n",
       "      <td>NaN</td>\n",
       "      <td>1</td>\n",
       "      <td>51</td>\n",
       "      <td>2.04</td>\n",
       "      <td>87</td>\n",
       "      <td>3.48</td>\n",
       "      <td>Player23</td>\n",
       "      <td>Player20</td>\n",
       "      <td>0.00</td>\n",
       "      <td>0.00</td>\n",
       "      <td>-10.60</td>\n",
       "      <td>0.68</td>\n",
       "    </tr>\n",
       "    <tr>\n",
       "      <th>2</th>\n",
       "      <td>Away</td>\n",
       "      <td>PASS</td>\n",
       "      <td>NaN</td>\n",
       "      <td>1</td>\n",
       "      <td>146</td>\n",
       "      <td>5.84</td>\n",
       "      <td>186</td>\n",
       "      <td>7.44</td>\n",
       "      <td>Player20</td>\n",
       "      <td>Player18</td>\n",
       "      <td>-7.42</td>\n",
       "      <td>0.00</td>\n",
       "      <td>-6.36</td>\n",
       "      <td>-19.04</td>\n",
       "    </tr>\n",
       "    <tr>\n",
       "      <th>3</th>\n",
       "      <td>Away</td>\n",
       "      <td>PASS</td>\n",
       "      <td>NaN</td>\n",
       "      <td>1</td>\n",
       "      <td>248</td>\n",
       "      <td>9.92</td>\n",
       "      <td>283</td>\n",
       "      <td>11.32</td>\n",
       "      <td>Player18</td>\n",
       "      <td>Player17</td>\n",
       "      <td>-3.18</td>\n",
       "      <td>-21.08</td>\n",
       "      <td>-20.14</td>\n",
       "      <td>-14.96</td>\n",
       "    </tr>\n",
       "    <tr>\n",
       "      <th>4</th>\n",
       "      <td>Away</td>\n",
       "      <td>PASS</td>\n",
       "      <td>NaN</td>\n",
       "      <td>1</td>\n",
       "      <td>316</td>\n",
       "      <td>12.64</td>\n",
       "      <td>346</td>\n",
       "      <td>13.84</td>\n",
       "      <td>Player17</td>\n",
       "      <td>Player16</td>\n",
       "      <td>-22.26</td>\n",
       "      <td>-12.24</td>\n",
       "      <td>-25.44</td>\n",
       "      <td>5.44</td>\n",
       "    </tr>\n",
       "  </tbody>\n",
       "</table>\n",
       "</div>"
      ],
      "text/plain": [
       "   Team       Type   Subtype  Period  Start Frame  Start Time [s]  End Frame  \\\n",
       "0  Away  SET PIECE  KICK OFF       1           51            2.04         51   \n",
       "1  Away       PASS       NaN       1           51            2.04         87   \n",
       "2  Away       PASS       NaN       1          146            5.84        186   \n",
       "3  Away       PASS       NaN       1          248            9.92        283   \n",
       "4  Away       PASS       NaN       1          316           12.64        346   \n",
       "\n",
       "   End Time [s]      From        To  Start X  Start Y  End X  End Y  \n",
       "0          2.04  Player23       NaN      NaN      NaN    NaN    NaN  \n",
       "1          3.48  Player23  Player20     0.00     0.00 -10.60   0.68  \n",
       "2          7.44  Player20  Player18    -7.42     0.00  -6.36 -19.04  \n",
       "3         11.32  Player18  Player17    -3.18   -21.08 -20.14 -14.96  \n",
       "4         13.84  Player17  Player16   -22.26   -12.24 -25.44   5.44  "
      ]
     },
     "execution_count": 7,
     "metadata": {},
     "output_type": "execute_result"
    }
   ],
   "source": [
    "events.head()"
   ]
  },
  {
   "cell_type": "code",
   "execution_count": 18,
   "metadata": {
    "ExecuteTime": {
     "end_time": "2020-04-13T17:52:51.013034Z",
     "start_time": "2020-04-13T17:52:50.982354Z"
    }
   },
   "outputs": [
    {
     "data": {
      "text/html": [
       "<div>\n",
       "<style scoped>\n",
       "    .dataframe tbody tr th:only-of-type {\n",
       "        vertical-align: middle;\n",
       "    }\n",
       "\n",
       "    .dataframe tbody tr th {\n",
       "        vertical-align: top;\n",
       "    }\n",
       "\n",
       "    .dataframe thead th {\n",
       "        text-align: right;\n",
       "    }\n",
       "</style>\n",
       "<table border=\"1\" class=\"dataframe\">\n",
       "  <thead>\n",
       "    <tr style=\"text-align: right;\">\n",
       "      <th></th>\n",
       "      <th>Home</th>\n",
       "      <th>Away</th>\n",
       "    </tr>\n",
       "  </thead>\n",
       "  <tbody>\n",
       "    <tr>\n",
       "      <th>PASS</th>\n",
       "      <td>543</td>\n",
       "      <td>421</td>\n",
       "    </tr>\n",
       "    <tr>\n",
       "      <th>CHALLENGE</th>\n",
       "      <td>160</td>\n",
       "      <td>151</td>\n",
       "    </tr>\n",
       "    <tr>\n",
       "      <th>RECOVERY</th>\n",
       "      <td>135</td>\n",
       "      <td>113</td>\n",
       "    </tr>\n",
       "    <tr>\n",
       "      <th>BALL LOST</th>\n",
       "      <td>120</td>\n",
       "      <td>113</td>\n",
       "    </tr>\n",
       "    <tr>\n",
       "      <th>SET PIECE</th>\n",
       "      <td>34</td>\n",
       "      <td>46</td>\n",
       "    </tr>\n",
       "    <tr>\n",
       "      <th>BALL OUT</th>\n",
       "      <td>27</td>\n",
       "      <td>22</td>\n",
       "    </tr>\n",
       "    <tr>\n",
       "      <th>SHOT</th>\n",
       "      <td>13</td>\n",
       "      <td>11</td>\n",
       "    </tr>\n",
       "    <tr>\n",
       "      <th>FAULT RECEIVED</th>\n",
       "      <td>9</td>\n",
       "      <td>11</td>\n",
       "    </tr>\n",
       "    <tr>\n",
       "      <th>CARD</th>\n",
       "      <td>3</td>\n",
       "      <td>3</td>\n",
       "    </tr>\n",
       "  </tbody>\n",
       "</table>\n",
       "</div>"
      ],
      "text/plain": [
       "                Home  Away\n",
       "PASS             543   421\n",
       "CHALLENGE        160   151\n",
       "RECOVERY         135   113\n",
       "BALL LOST        120   113\n",
       "SET PIECE         34    46\n",
       "BALL OUT          27    22\n",
       "SHOT              13    11\n",
       "FAULT RECEIVED     9    11\n",
       "CARD               3     3"
      ]
     },
     "execution_count": 18,
     "metadata": {},
     "output_type": "execute_result"
    }
   ],
   "source": [
    "# Get events by team\n",
    "home_events = events.query(\"Team=='Home'\")\n",
    "away_events = events.query(\"Team=='Away'\")\n",
    "\n",
    "home_events.Type.value_counts().to_frame('Home').join(away_events.Type.value_counts().to_frame('Away'))"
   ]
  },
  {
   "cell_type": "code",
   "execution_count": 19,
   "metadata": {
    "ExecuteTime": {
     "end_time": "2020-04-13T17:55:35.754253Z",
     "start_time": "2020-04-13T17:55:35.726776Z"
    }
   },
   "outputs": [
    {
     "data": {
      "text/html": [
       "<div>\n",
       "<style scoped>\n",
       "    .dataframe tbody tr th:only-of-type {\n",
       "        vertical-align: middle;\n",
       "    }\n",
       "\n",
       "    .dataframe tbody tr th {\n",
       "        vertical-align: top;\n",
       "    }\n",
       "\n",
       "    .dataframe thead th {\n",
       "        text-align: right;\n",
       "    }\n",
       "</style>\n",
       "<table border=\"1\" class=\"dataframe\">\n",
       "  <thead>\n",
       "    <tr style=\"text-align: right;\">\n",
       "      <th></th>\n",
       "      <th>Home</th>\n",
       "      <th>Away</th>\n",
       "    </tr>\n",
       "  </thead>\n",
       "  <tbody>\n",
       "    <tr>\n",
       "      <th>HEAD-OFF TARGET-OUT</th>\n",
       "      <td>4</td>\n",
       "      <td>1.0</td>\n",
       "    </tr>\n",
       "    <tr>\n",
       "      <th>ON TARGET-SAVED</th>\n",
       "      <td>4</td>\n",
       "      <td>2.0</td>\n",
       "    </tr>\n",
       "    <tr>\n",
       "      <th>OFF TARGET-OUT</th>\n",
       "      <td>2</td>\n",
       "      <td>3.0</td>\n",
       "    </tr>\n",
       "    <tr>\n",
       "      <th>ON TARGET-GOAL</th>\n",
       "      <td>2</td>\n",
       "      <td>2.0</td>\n",
       "    </tr>\n",
       "    <tr>\n",
       "      <th>HEAD-ON TARGET-GOAL</th>\n",
       "      <td>1</td>\n",
       "      <td>NaN</td>\n",
       "    </tr>\n",
       "  </tbody>\n",
       "</table>\n",
       "</div>"
      ],
      "text/plain": [
       "                     Home  Away\n",
       "HEAD-OFF TARGET-OUT     4   1.0\n",
       "ON TARGET-SAVED         4   2.0\n",
       "OFF TARGET-OUT          2   3.0\n",
       "ON TARGET-GOAL          2   2.0\n",
       "HEAD-ON TARGET-GOAL     1   NaN"
      ]
     },
     "execution_count": 19,
     "metadata": {},
     "output_type": "execute_result"
    }
   ],
   "source": [
    "# Get all shots\n",
    "shots = events.query(\"Type=='SHOT'\")\n",
    "home_shots = home_events.query(\"Type=='SHOT'\")\n",
    "away_shots = away_events.query(\"Type=='SHOT'\")\n",
    "\n",
    "home_shots.Subtype.value_counts().to_frame('Home').join(away_shots.Subtype.value_counts().to_frame('Away'))"
   ]
  },
  {
   "cell_type": "code",
   "execution_count": 21,
   "metadata": {
    "ExecuteTime": {
     "end_time": "2020-04-13T17:57:54.765858Z",
     "start_time": "2020-04-13T17:57:54.755458Z"
    }
   },
   "outputs": [
    {
     "data": {
      "text/plain": [
       "Team  Subtype            \n",
       "Away  OFF TARGET-OUT         3\n",
       "      BLOCKED                2\n",
       "      ON TARGET-GOAL         2\n",
       "      ON TARGET-SAVED        2\n",
       "      HEAD-OFF TARGET-OUT    1\n",
       "      OFF TARGET-HEAD-OUT    1\n",
       "Home  HEAD-OFF TARGET-OUT    4\n",
       "      ON TARGET-SAVED        4\n",
       "      OFF TARGET-OUT         2\n",
       "      ON TARGET-GOAL         2\n",
       "      HEAD-ON TARGET-GOAL    1\n",
       "Name: Subtype, dtype: int64"
      ]
     },
     "execution_count": 21,
     "metadata": {},
     "output_type": "execute_result"
    }
   ],
   "source": [
    "# same as above (shot subtypes -- home vs away)\n",
    "shots.groupby('Team')['Subtype'].value_counts()"
   ]
  },
  {
   "cell_type": "code",
   "execution_count": 25,
   "metadata": {
    "ExecuteTime": {
     "end_time": "2020-04-13T18:00:03.924607Z",
     "start_time": "2020-04-13T18:00:03.893123Z"
    }
   },
   "outputs": [
    {
     "data": {
      "text/plain": [
       "Team  From     \n",
       "Away  Player19     2\n",
       "      Player20     2\n",
       "      Player24     2\n",
       "      Player 26    1\n",
       "      Player18     1\n",
       "      Player21     1\n",
       "      Player22     1\n",
       "      Player23     1\n",
       "Home  Player9      4\n",
       "      Player10     3\n",
       "      Player5      2\n",
       "      Player12     1\n",
       "      Player3      1\n",
       "      Player4      1\n",
       "      Player7      1\n",
       "Name: From, dtype: int64"
      ]
     },
     "execution_count": 25,
     "metadata": {},
     "output_type": "execute_result"
    }
   ],
   "source": [
    "# Look at the number of shots taken by each player\n",
    "shots.groupby('Team')['From'].value_counts()"
   ]
  },
  {
   "cell_type": "code",
   "execution_count": 31,
   "metadata": {
    "ExecuteTime": {
     "end_time": "2020-04-13T18:08:37.433418Z",
     "start_time": "2020-04-13T18:08:37.419786Z"
    }
   },
   "outputs": [],
   "source": [
    "# Get the shots that led to a goal\n",
    "home_goals = home_shots.query(\"Subtype.str.endswith('GOAL')\").copy()\n",
    "away_goals = away_shots.query(\"Subtype.str.endswith('GOAL')\").copy()\n",
    "\n",
    "# Add a column event 'Minute' to the data frame\n",
    "home_goals['Minute'] = home_goals['Start Time [s]']/60."
   ]
  },
  {
   "cell_type": "code",
   "execution_count": 39,
   "metadata": {
    "ExecuteTime": {
     "end_time": "2020-04-13T18:15:38.290878Z",
     "start_time": "2020-04-13T18:15:37.801915Z"
    }
   },
   "outputs": [
    {
     "data": {
      "text/plain": [
       "(<Figure size 864x576 with 1 Axes>,\n",
       " <matplotlib.axes._subplots.AxesSubplot at 0x7f1e66980860>)"
      ]
     },
     "execution_count": 39,
     "metadata": {},
     "output_type": "execute_result"
    },
    {
     "data": {
      "image/png": "[encoded data removed]",
      "text/plain": [
       "<Figure size 864x576 with 1 Axes>"
      ]
     },
     "metadata": {},
     "output_type": "display_data"
    }
   ],
   "source": [
    "# Plot the first goal\n",
    "fig,ax = mviz.plot_pitch()\n",
    "ax.plot( events.loc[198]['Start X'], events.loc[198]['Start Y'], 'ro' )\n",
    "ax.annotate(\"\", xy=events.loc[198][['End X','End Y']], \n",
    "            xytext=events.loc[198][['Start X','Start Y']], \n",
    "            alpha=0.6, arrowprops=dict(arrowstyle=\"->\",color='r'));\n",
    "\n",
    "# plot passing move in run up to goal\n",
    "mviz.plot_events(events.loc[190:198], indicators = ['Marker','Arrow'], \n",
    "                 annotate=True, figax=(fig,ax))"
   ]
  },
  {
   "cell_type": "markdown",
   "metadata": {},
   "source": [
    "# Tracking data"
   ]
  },
  {
   "cell_type": "code",
   "execution_count": 41,
   "metadata": {
    "ExecuteTime": {
     "end_time": "2020-04-13T18:17:09.077852Z",
     "start_time": "2020-04-13T18:17:08.075187Z"
    }
   },
   "outputs": [
    {
     "name": "stdout",
     "output_type": "stream",
     "text": [
      "Reading team: home\n",
      "Reading team: away\n",
      "Index(['Period', 'Time [s]', 'Home_11_x', 'Home_11_y', 'Home_1_x', 'Home_1_y',\n",
      "       'Home_2_x', 'Home_2_y', 'Home_3_x', 'Home_3_y', 'Home_4_x', 'Home_4_y',\n",
      "       'Home_5_x', 'Home_5_y', 'Home_6_x', 'Home_6_y', 'Home_7_x', 'Home_7_y',\n",
      "       'Home_8_x', 'Home_8_y', 'Home_9_x', 'Home_9_y', 'Home_10_x',\n",
      "       'Home_10_y', 'Home_12_x', 'Home_12_y', 'Home_13_x', 'Home_13_y',\n",
      "       'Home_14_x', 'Home_14_y', 'ball_x', 'ball_y'],\n",
      "      dtype='object')\n"
     ]
    }
   ],
   "source": [
    "# READING IN TRACKING DATA\n",
    "tracking_home = mio.tracking_data(DATADIR,game_id,'Home')\n",
    "tracking_away = mio.tracking_data(DATADIR,game_id,'Away')\n",
    "\n",
    "# Convert positions from metrica units to meters \n",
    "tracking_home = mio.to_metric_coordinates(tracking_home)\n",
    "tracking_away = mio.to_metric_coordinates(tracking_away)\n",
    "\n",
    "# Look at the column namems\n",
    "print( tracking_home.columns )"
   ]
  },
  {
   "cell_type": "code",
   "execution_count": 42,
   "metadata": {
    "ExecuteTime": {
     "end_time": "2020-04-13T18:17:34.820141Z",
     "start_time": "2020-04-13T18:17:34.436097Z"
    }
   },
   "outputs": [
    {
     "data": {
      "text/plain": [
       "[<matplotlib.lines.Line2D at 0x7f1e66a5c278>]"
      ]
     },
     "execution_count": 42,
     "metadata": {},
     "output_type": "execute_result"
    },
    {
     "data": {
      "image/png": "[encoded data removed]",
      "text/plain": [
       "<Figure size 864x576 with 1 Axes>"
      ]
     },
     "metadata": {},
     "output_type": "display_data"
    }
   ],
   "source": [
    "# Plot some player trajectories (players 11,1,2,3,4)\n",
    "fig,ax = mviz.plot_pitch()\n",
    "ax.plot( tracking_home['Home_11_x'].iloc[:1500], tracking_home['Home_11_y'].iloc[:1500], 'r.', MarkerSize=1)\n",
    "ax.plot( tracking_home['Home_1_x'].iloc[:1500], tracking_home['Home_1_y'].iloc[:1500], 'b.', MarkerSize=1)\n",
    "ax.plot( tracking_home['Home_2_x'].iloc[:1500], tracking_home['Home_2_y'].iloc[:1500], 'g.', MarkerSize=1)\n",
    "ax.plot( tracking_home['Home_3_x'].iloc[:1500], tracking_home['Home_3_y'].iloc[:1500], 'k.', MarkerSize=1)\n",
    "ax.plot( tracking_home['Home_4_x'].iloc[:1500], tracking_home['Home_4_y'].iloc[:1500], 'c.', MarkerSize=1)\n"
   ]
  },
  {
   "cell_type": "code",
   "execution_count": 43,
   "metadata": {
    "ExecuteTime": {
     "end_time": "2020-04-13T18:17:55.995412Z",
     "start_time": "2020-04-13T18:17:55.687693Z"
    }
   },
   "outputs": [
    {
     "data": {
      "image/png": "[encoded data removed]",
      "text/plain": [
       "<Figure size 864x576 with 1 Axes>"
      ]
     },
     "metadata": {},
     "output_type": "display_data"
    }
   ],
   "source": [
    "# plot player positions at ,atckick-off\n",
    "KO_Frame = events.loc[0]['Start Frame']\n",
    "fig,ax = mviz.plot_frame( tracking_home.loc[KO_Frame], tracking_away.loc[KO_Frame] )\n"
   ]
  },
  {
   "cell_type": "code",
   "execution_count": 44,
   "metadata": {
    "ExecuteTime": {
     "end_time": "2020-04-13T18:18:56.036049Z",
     "start_time": "2020-04-13T18:18:55.668972Z"
    }
   },
   "outputs": [
    {
     "data": {
      "image/png": "[encoded data removed]",
      "text/plain": [
       "<Figure size 864x576 with 1 Axes>"
      ]
     },
     "metadata": {},
     "output_type": "display_data"
    }
   ],
   "source": [
    "# PLOT POISTIONS AT GOAL\n",
    "fig,ax = mviz.plot_events( events.loc[198:198], indicators = ['Marker','Arrow'], annotate=True )\n",
    "goal_frame = events.loc[198]['Start Frame']\n",
    "fig,ax = mviz.plot_frame( tracking_home.loc[goal_frame], tracking_away.loc[goal_frame], figax = (fig,ax) )\n"
   ]
  },
  {
   "cell_type": "markdown",
   "metadata": {},
   "source": [
    "# Homework"
   ]
  },
  {
   "cell_type": "markdown",
   "metadata": {},
   "source": [
    "## Plot the passes and shot leading up to the second and third goals in the match"
   ]
  },
  {
   "cell_type": "code",
   "execution_count": 82,
   "metadata": {
    "ExecuteTime": {
     "end_time": "2020-04-13T18:45:25.938123Z",
     "start_time": "2020-04-13T18:45:25.914064Z"
    }
   },
   "outputs": [
    {
     "data": {
      "text/html": [
       "<div>\n",
       "<style scoped>\n",
       "    .dataframe tbody tr th:only-of-type {\n",
       "        vertical-align: middle;\n",
       "    }\n",
       "\n",
       "    .dataframe tbody tr th {\n",
       "        vertical-align: top;\n",
       "    }\n",
       "\n",
       "    .dataframe thead th {\n",
       "        text-align: right;\n",
       "    }\n",
       "</style>\n",
       "<table border=\"1\" class=\"dataframe\">\n",
       "  <thead>\n",
       "    <tr style=\"text-align: right;\">\n",
       "      <th></th>\n",
       "      <th>Team</th>\n",
       "      <th>Type</th>\n",
       "      <th>Subtype</th>\n",
       "      <th>Period</th>\n",
       "      <th>Start Frame</th>\n",
       "      <th>Start Time [s]</th>\n",
       "      <th>End Frame</th>\n",
       "      <th>End Time [s]</th>\n",
       "      <th>From</th>\n",
       "      <th>To</th>\n",
       "      <th>Start X</th>\n",
       "      <th>Start Y</th>\n",
       "      <th>End X</th>\n",
       "      <th>End Y</th>\n",
       "    </tr>\n",
       "  </thead>\n",
       "  <tbody>\n",
       "    <tr>\n",
       "      <th>198</th>\n",
       "      <td>Home</td>\n",
       "      <td>SHOT</td>\n",
       "      <td>ON TARGET-GOAL</td>\n",
       "      <td>1</td>\n",
       "      <td>12202</td>\n",
       "      <td>488.08</td>\n",
       "      <td>12212</td>\n",
       "      <td>488.48</td>\n",
       "      <td>Player10</td>\n",
       "      <td>NaN</td>\n",
       "      <td>-47.70</td>\n",
       "      <td>3.40</td>\n",
       "      <td>-54.06</td>\n",
       "      <td>2.04</td>\n",
       "    </tr>\n",
       "    <tr>\n",
       "      <th>823</th>\n",
       "      <td>Away</td>\n",
       "      <td>SHOT</td>\n",
       "      <td>ON TARGET-GOAL</td>\n",
       "      <td>1</td>\n",
       "      <td>53049</td>\n",
       "      <td>2121.96</td>\n",
       "      <td>53075</td>\n",
       "      <td>2123.00</td>\n",
       "      <td>Player24</td>\n",
       "      <td>NaN</td>\n",
       "      <td>44.52</td>\n",
       "      <td>-2.72</td>\n",
       "      <td>54.06</td>\n",
       "      <td>-1.36</td>\n",
       "    </tr>\n",
       "    <tr>\n",
       "      <th>1118</th>\n",
       "      <td>Home</td>\n",
       "      <td>SHOT</td>\n",
       "      <td>HEAD-ON TARGET-GOAL</td>\n",
       "      <td>2</td>\n",
       "      <td>73983</td>\n",
       "      <td>2959.32</td>\n",
       "      <td>73995</td>\n",
       "      <td>2959.80</td>\n",
       "      <td>Player9</td>\n",
       "      <td>NaN</td>\n",
       "      <td>47.70</td>\n",
       "      <td>1.36</td>\n",
       "      <td>54.06</td>\n",
       "      <td>2.04</td>\n",
       "    </tr>\n",
       "    <tr>\n",
       "      <th>1671</th>\n",
       "      <td>Away</td>\n",
       "      <td>SHOT</td>\n",
       "      <td>ON TARGET-GOAL</td>\n",
       "      <td>2</td>\n",
       "      <td>115009</td>\n",
       "      <td>4600.36</td>\n",
       "      <td>115024</td>\n",
       "      <td>4600.96</td>\n",
       "      <td>Player20</td>\n",
       "      <td>NaN</td>\n",
       "      <td>-40.28</td>\n",
       "      <td>1.36</td>\n",
       "      <td>-55.12</td>\n",
       "      <td>2.72</td>\n",
       "    </tr>\n",
       "    <tr>\n",
       "      <th>1723</th>\n",
       "      <td>Home</td>\n",
       "      <td>SHOT</td>\n",
       "      <td>ON TARGET-GOAL</td>\n",
       "      <td>2</td>\n",
       "      <td>121027</td>\n",
       "      <td>4841.08</td>\n",
       "      <td>121055</td>\n",
       "      <td>4842.20</td>\n",
       "      <td>Player12</td>\n",
       "      <td>NaN</td>\n",
       "      <td>30.74</td>\n",
       "      <td>5.44</td>\n",
       "      <td>54.06</td>\n",
       "      <td>2.72</td>\n",
       "    </tr>\n",
       "  </tbody>\n",
       "</table>\n",
       "</div>"
      ],
      "text/plain": [
       "      Team  Type              Subtype  Period  Start Frame  Start Time [s]  \\\n",
       "198   Home  SHOT       ON TARGET-GOAL       1        12202          488.08   \n",
       "823   Away  SHOT       ON TARGET-GOAL       1        53049         2121.96   \n",
       "1118  Home  SHOT  HEAD-ON TARGET-GOAL       2        73983         2959.32   \n",
       "1671  Away  SHOT       ON TARGET-GOAL       2       115009         4600.36   \n",
       "1723  Home  SHOT       ON TARGET-GOAL       2       121027         4841.08   \n",
       "\n",
       "      End Frame  End Time [s]      From   To  Start X  Start Y  End X  End Y  \n",
       "198       12212        488.48  Player10  NaN   -47.70     3.40 -54.06   2.04  \n",
       "823       53075       2123.00  Player24  NaN    44.52    -2.72  54.06  -1.36  \n",
       "1118      73995       2959.80   Player9  NaN    47.70     1.36  54.06   2.04  \n",
       "1671     115024       4600.96  Player20  NaN   -40.28     1.36 -55.12   2.72  \n",
       "1723     121055       4842.20  Player12  NaN    30.74     5.44  54.06   2.72  "
      ]
     },
     "execution_count": 82,
     "metadata": {},
     "output_type": "execute_result"
    }
   ],
   "source": [
    "def get_goal_lead_up(goal_id,events):\n",
    "    for i,row in events.iloc[goal_id-1::-1,:2].iterrows():\n",
    "        if row['Type']!='PASS':\n",
    "            break\n",
    "    return events.iloc[i+1:goal_id+1,:]\n",
    "\n",
    "events.query(\"Type=='SHOT' & Subtype.str.endswith('GOAL')\")"
   ]
  },
  {
   "cell_type": "code",
   "execution_count": 89,
   "metadata": {
    "ExecuteTime": {
     "end_time": "2020-04-13T18:50:20.823613Z",
     "start_time": "2020-04-13T18:50:20.344407Z"
    },
    "scrolled": false
   },
   "outputs": [
    {
     "data": {
      "image/png": "[encoded data removed]",
      "text/plain": [
       "<Figure size 864x576 with 1 Axes>"
      ]
     },
     "metadata": {},
     "output_type": "display_data"
    }
   ],
   "source": [
    "# PLOT POISTIONS AT GOAL\n",
    "goal_events = get_goal_lead_up(823,events)\n",
    "fig,ax = mviz.plot_events(events.loc[i+1:823], indicators = ['Marker','Arrow'], annotate=True )\n",
    "# goal_frame = events.loc[823]['Start Frame']\n",
    "# fig,ax = mviz.plot_frame( tracking_home.loc[goal_frame], tracking_away.loc[goal_frame], figax = (fig,ax) )\n"
   ]
  },
  {
   "cell_type": "markdown",
   "metadata": {
    "ExecuteTime": {
     "end_time": "2020-04-13T18:46:00.927138Z",
     "start_time": "2020-04-13T18:46:00.904472Z"
    }
   },
   "source": [
    "## Third goal"
   ]
  },
  {
   "cell_type": "code",
   "execution_count": 90,
   "metadata": {
    "ExecuteTime": {
     "end_time": "2020-04-13T18:51:21.793292Z",
     "start_time": "2020-04-13T18:51:21.504718Z"
    }
   },
   "outputs": [
    {
     "data": {
      "image/png": "[encoded data removed]",
      "text/plain": [
       "<Figure size 864x576 with 1 Axes>"
      ]
     },
     "metadata": {},
     "output_type": "display_data"
    }
   ],
   "source": [
    "# PLOT POISTIONS AT GOAL\n",
    "goal_events = get_goal_lead_up(1118,events)\n",
    "fig,ax = mviz.plot_events(goal_events, indicators = ['Marker','Arrow'], annotate=True )\n",
    "# goal_frame = events.loc[823]['Start Frame']\n",
    "# fig,ax = mviz.plot_frame( tracking_home.loc[goal_frame], tracking_away.loc[goal_frame], figax = (fig,ax) )\n"
   ]
  },
  {
   "cell_type": "markdown",
   "metadata": {},
   "source": [
    "## Player 9 of home team"
   ]
  },
  {
   "cell_type": "code",
   "execution_count": 91,
   "metadata": {
    "ExecuteTime": {
     "end_time": "2020-04-13T18:53:49.289173Z",
     "start_time": "2020-04-13T18:53:49.263930Z"
    }
   },
   "outputs": [
    {
     "data": {
      "text/html": [
       "<div>\n",
       "<style scoped>\n",
       "    .dataframe tbody tr th:only-of-type {\n",
       "        vertical-align: middle;\n",
       "    }\n",
       "\n",
       "    .dataframe tbody tr th {\n",
       "        vertical-align: top;\n",
       "    }\n",
       "\n",
       "    .dataframe thead th {\n",
       "        text-align: right;\n",
       "    }\n",
       "</style>\n",
       "<table border=\"1\" class=\"dataframe\">\n",
       "  <thead>\n",
       "    <tr style=\"text-align: right;\">\n",
       "      <th></th>\n",
       "      <th>Team</th>\n",
       "      <th>Type</th>\n",
       "      <th>Subtype</th>\n",
       "      <th>Period</th>\n",
       "      <th>Start Frame</th>\n",
       "      <th>Start Time [s]</th>\n",
       "      <th>End Frame</th>\n",
       "      <th>End Time [s]</th>\n",
       "      <th>From</th>\n",
       "      <th>To</th>\n",
       "      <th>Start X</th>\n",
       "      <th>Start Y</th>\n",
       "      <th>End X</th>\n",
       "      <th>End Y</th>\n",
       "    </tr>\n",
       "  </thead>\n",
       "  <tbody>\n",
       "    <tr>\n",
       "      <th>1118</th>\n",
       "      <td>Home</td>\n",
       "      <td>SHOT</td>\n",
       "      <td>HEAD-ON TARGET-GOAL</td>\n",
       "      <td>2</td>\n",
       "      <td>73983</td>\n",
       "      <td>2959.32</td>\n",
       "      <td>73995</td>\n",
       "      <td>2959.8</td>\n",
       "      <td>Player9</td>\n",
       "      <td>NaN</td>\n",
       "      <td>47.70</td>\n",
       "      <td>1.36</td>\n",
       "      <td>54.06</td>\n",
       "      <td>2.04</td>\n",
       "    </tr>\n",
       "    <tr>\n",
       "      <th>1681</th>\n",
       "      <td>Home</td>\n",
       "      <td>SHOT</td>\n",
       "      <td>HEAD-OFF TARGET-OUT</td>\n",
       "      <td>2</td>\n",
       "      <td>117218</td>\n",
       "      <td>4688.72</td>\n",
       "      <td>117245</td>\n",
       "      <td>4689.8</td>\n",
       "      <td>Player9</td>\n",
       "      <td>NaN</td>\n",
       "      <td>41.34</td>\n",
       "      <td>7.48</td>\n",
       "      <td>54.06</td>\n",
       "      <td>-5.44</td>\n",
       "    </tr>\n",
       "    <tr>\n",
       "      <th>1756</th>\n",
       "      <td>Home</td>\n",
       "      <td>SHOT</td>\n",
       "      <td>HEAD-OFF TARGET-OUT</td>\n",
       "      <td>2</td>\n",
       "      <td>124336</td>\n",
       "      <td>4973.44</td>\n",
       "      <td>124365</td>\n",
       "      <td>4974.6</td>\n",
       "      <td>Player9</td>\n",
       "      <td>NaN</td>\n",
       "      <td>45.58</td>\n",
       "      <td>0.00</td>\n",
       "      <td>55.12</td>\n",
       "      <td>7.48</td>\n",
       "    </tr>\n",
       "    <tr>\n",
       "      <th>1927</th>\n",
       "      <td>Home</td>\n",
       "      <td>SHOT</td>\n",
       "      <td>ON TARGET-SAVED</td>\n",
       "      <td>2</td>\n",
       "      <td>139891</td>\n",
       "      <td>5595.64</td>\n",
       "      <td>139925</td>\n",
       "      <td>5597.0</td>\n",
       "      <td>Player9</td>\n",
       "      <td>NaN</td>\n",
       "      <td>21.20</td>\n",
       "      <td>1.36</td>\n",
       "      <td>50.88</td>\n",
       "      <td>1.36</td>\n",
       "    </tr>\n",
       "  </tbody>\n",
       "</table>\n",
       "</div>"
      ],
      "text/plain": [
       "      Team  Type              Subtype  Period  Start Frame  Start Time [s]  \\\n",
       "1118  Home  SHOT  HEAD-ON TARGET-GOAL       2        73983         2959.32   \n",
       "1681  Home  SHOT  HEAD-OFF TARGET-OUT       2       117218         4688.72   \n",
       "1756  Home  SHOT  HEAD-OFF TARGET-OUT       2       124336         4973.44   \n",
       "1927  Home  SHOT      ON TARGET-SAVED       2       139891         5595.64   \n",
       "\n",
       "      End Frame  End Time [s]     From   To  Start X  Start Y  End X  End Y  \n",
       "1118      73995        2959.8  Player9  NaN    47.70     1.36  54.06   2.04  \n",
       "1681     117245        4689.8  Player9  NaN    41.34     7.48  54.06  -5.44  \n",
       "1756     124365        4974.6  Player9  NaN    45.58     0.00  55.12   7.48  \n",
       "1927     139925        5597.0  Player9  NaN    21.20     1.36  50.88   1.36  "
      ]
     },
     "execution_count": 91,
     "metadata": {},
     "output_type": "execute_result"
    }
   ],
   "source": [
    "events.query(\"Type=='SHOT' & From=='Player9'\")"
   ]
  },
  {
   "cell_type": "code",
   "execution_count": 92,
   "metadata": {
    "ExecuteTime": {
     "end_time": "2020-04-13T18:56:05.673771Z",
     "start_time": "2020-04-13T18:56:05.232856Z"
    }
   },
   "outputs": [
    {
     "data": {
      "image/png": "[encoded data removed]",
      "text/plain": [
       "<Figure size 864x576 with 1 Axes>"
      ]
     },
     "metadata": {},
     "output_type": "display_data"
    }
   ],
   "source": [
    "fig,ax = mviz.plot_events(events.query(\"Type=='SHOT' & From=='Player9'\"), indicators = ['Marker','Arrow'], annotate=True )"
   ]
  },
  {
   "cell_type": "code",
   "execution_count": 107,
   "metadata": {
    "ExecuteTime": {
     "end_time": "2020-04-13T19:06:19.425860Z",
     "start_time": "2020-04-13T19:06:19.058696Z"
    }
   },
   "outputs": [
    {
     "data": {
      "image/png": "[encoded data removed]",
      "text/plain": [
       "<Figure size 864x576 with 1 Axes>"
      ]
     },
     "metadata": {},
     "output_type": "display_data"
    }
   ],
   "source": [
    "fig,ax = mviz.plot_pitch()\n",
    "\n",
    "for i , row in events.query(\"Type=='SHOT' & From=='Player9'\").iterrows():\n",
    "    if row['Subtype'].endswith('GOAL'):\n",
    "        alpha = 0.6\n",
    "        style = 'ro'\n",
    "        color = 'red'\n",
    "        goal_frame = row['Start Frame']\n",
    "        fig,ax = mviz.plot_frame( tracking_home.loc[goal_frame], \n",
    "                                 tracking_away.loc[goal_frame], figax = (fig,ax) )\n",
    "\n",
    "#     else:\n",
    "#         alpha = 0.9\n",
    "#         style = 'bo'\n",
    "#         color = 'cyan'\n",
    "        ax.plot( row['Start X'], row['Start Y'], style )\n",
    "        ax.annotate(\"\", xy=row[['End X','End Y']], \n",
    "                    xytext=row[['Start X','Start Y']], \n",
    "                    alpha=alpha, arrowprops=dict(arrowstyle=\"->\",color=color));"
   ]
  },
  {
   "cell_type": "markdown",
   "metadata": {},
   "source": [
    "# how far each player ran"
   ]
  },
  {
   "cell_type": "code",
   "execution_count": 139,
   "metadata": {
    "ExecuteTime": {
     "end_time": "2020-04-14T09:44:36.059730Z",
     "start_time": "2020-04-14T09:44:36.029058Z"
    }
   },
   "outputs": [
    {
     "data": {
      "text/html": [
       "<div>\n",
       "<style scoped>\n",
       "    .dataframe tbody tr th:only-of-type {\n",
       "        vertical-align: middle;\n",
       "    }\n",
       "\n",
       "    .dataframe tbody tr th {\n",
       "        vertical-align: top;\n",
       "    }\n",
       "\n",
       "    .dataframe thead th {\n",
       "        text-align: right;\n",
       "    }\n",
       "</style>\n",
       "<table border=\"1\" class=\"dataframe\">\n",
       "  <thead>\n",
       "    <tr style=\"text-align: right;\">\n",
       "      <th></th>\n",
       "      <th>Period</th>\n",
       "      <th>Time [s]</th>\n",
       "      <th>Home_11_x</th>\n",
       "      <th>Home_11_y</th>\n",
       "      <th>Home_1_x</th>\n",
       "      <th>Home_1_y</th>\n",
       "      <th>Home_2_x</th>\n",
       "      <th>Home_2_y</th>\n",
       "      <th>Home_3_x</th>\n",
       "      <th>Home_3_y</th>\n",
       "      <th>...</th>\n",
       "      <th>Home_10_x</th>\n",
       "      <th>Home_10_y</th>\n",
       "      <th>Home_12_x</th>\n",
       "      <th>Home_12_y</th>\n",
       "      <th>Home_13_x</th>\n",
       "      <th>Home_13_y</th>\n",
       "      <th>Home_14_x</th>\n",
       "      <th>Home_14_y</th>\n",
       "      <th>ball_x</th>\n",
       "      <th>ball_y</th>\n",
       "    </tr>\n",
       "    <tr>\n",
       "      <th>Frame</th>\n",
       "      <th></th>\n",
       "      <th></th>\n",
       "      <th></th>\n",
       "      <th></th>\n",
       "      <th></th>\n",
       "      <th></th>\n",
       "      <th></th>\n",
       "      <th></th>\n",
       "      <th></th>\n",
       "      <th></th>\n",
       "      <th></th>\n",
       "      <th></th>\n",
       "      <th></th>\n",
       "      <th></th>\n",
       "      <th></th>\n",
       "      <th></th>\n",
       "      <th></th>\n",
       "      <th></th>\n",
       "      <th></th>\n",
       "      <th></th>\n",
       "      <th></th>\n",
       "    </tr>\n",
       "  </thead>\n",
       "  <tbody>\n",
       "    <tr>\n",
       "      <th>1</th>\n",
       "      <td>1</td>\n",
       "      <td>0.04</td>\n",
       "      <td>46.9315</td>\n",
       "      <td>0.28084</td>\n",
       "      <td>15.70072</td>\n",
       "      <td>-14.5486</td>\n",
       "      <td>18.81712</td>\n",
       "      <td>-4.89396</td>\n",
       "      <td>21.07492</td>\n",
       "      <td>3.81208</td>\n",
       "      <td>...</td>\n",
       "      <td>0.20564</td>\n",
       "      <td>7.56364</td>\n",
       "      <td>NaN</td>\n",
       "      <td>NaN</td>\n",
       "      <td>NaN</td>\n",
       "      <td>NaN</td>\n",
       "      <td>NaN</td>\n",
       "      <td>NaN</td>\n",
       "      <td>NaN</td>\n",
       "      <td>NaN</td>\n",
       "    </tr>\n",
       "    <tr>\n",
       "      <th>2</th>\n",
       "      <td>1</td>\n",
       "      <td>0.08</td>\n",
       "      <td>46.9315</td>\n",
       "      <td>0.28084</td>\n",
       "      <td>15.70072</td>\n",
       "      <td>-14.5486</td>\n",
       "      <td>18.81712</td>\n",
       "      <td>-4.89396</td>\n",
       "      <td>21.07492</td>\n",
       "      <td>3.81208</td>\n",
       "      <td>...</td>\n",
       "      <td>0.20564</td>\n",
       "      <td>7.56364</td>\n",
       "      <td>NaN</td>\n",
       "      <td>NaN</td>\n",
       "      <td>NaN</td>\n",
       "      <td>NaN</td>\n",
       "      <td>NaN</td>\n",
       "      <td>NaN</td>\n",
       "      <td>NaN</td>\n",
       "      <td>NaN</td>\n",
       "    </tr>\n",
       "    <tr>\n",
       "      <th>3</th>\n",
       "      <td>1</td>\n",
       "      <td>0.12</td>\n",
       "      <td>46.9315</td>\n",
       "      <td>0.28084</td>\n",
       "      <td>15.70072</td>\n",
       "      <td>-14.5486</td>\n",
       "      <td>18.81712</td>\n",
       "      <td>-4.89396</td>\n",
       "      <td>21.07492</td>\n",
       "      <td>3.81208</td>\n",
       "      <td>...</td>\n",
       "      <td>0.20564</td>\n",
       "      <td>7.56364</td>\n",
       "      <td>NaN</td>\n",
       "      <td>NaN</td>\n",
       "      <td>NaN</td>\n",
       "      <td>NaN</td>\n",
       "      <td>NaN</td>\n",
       "      <td>NaN</td>\n",
       "      <td>NaN</td>\n",
       "      <td>NaN</td>\n",
       "    </tr>\n",
       "    <tr>\n",
       "      <th>4</th>\n",
       "      <td>1</td>\n",
       "      <td>0.16</td>\n",
       "      <td>46.9315</td>\n",
       "      <td>0.28084</td>\n",
       "      <td>15.70072</td>\n",
       "      <td>-14.5486</td>\n",
       "      <td>18.81712</td>\n",
       "      <td>-4.89396</td>\n",
       "      <td>21.07492</td>\n",
       "      <td>3.81208</td>\n",
       "      <td>...</td>\n",
       "      <td>0.20564</td>\n",
       "      <td>7.56364</td>\n",
       "      <td>NaN</td>\n",
       "      <td>NaN</td>\n",
       "      <td>NaN</td>\n",
       "      <td>NaN</td>\n",
       "      <td>NaN</td>\n",
       "      <td>NaN</td>\n",
       "      <td>NaN</td>\n",
       "      <td>NaN</td>\n",
       "    </tr>\n",
       "    <tr>\n",
       "      <th>5</th>\n",
       "      <td>1</td>\n",
       "      <td>0.20</td>\n",
       "      <td>46.9315</td>\n",
       "      <td>0.28084</td>\n",
       "      <td>15.70072</td>\n",
       "      <td>-14.5486</td>\n",
       "      <td>18.81712</td>\n",
       "      <td>-4.89396</td>\n",
       "      <td>21.07492</td>\n",
       "      <td>3.81208</td>\n",
       "      <td>...</td>\n",
       "      <td>0.20564</td>\n",
       "      <td>7.56364</td>\n",
       "      <td>NaN</td>\n",
       "      <td>NaN</td>\n",
       "      <td>NaN</td>\n",
       "      <td>NaN</td>\n",
       "      <td>NaN</td>\n",
       "      <td>NaN</td>\n",
       "      <td>NaN</td>\n",
       "      <td>NaN</td>\n",
       "    </tr>\n",
       "  </tbody>\n",
       "</table>\n",
       "<p>5 rows × 32 columns</p>\n",
       "</div>"
      ],
      "text/plain": [
       "       Period  Time [s]  Home_11_x  Home_11_y  Home_1_x  Home_1_y  Home_2_x  \\\n",
       "Frame                                                                         \n",
       "1           1      0.04    46.9315    0.28084  15.70072  -14.5486  18.81712   \n",
       "2           1      0.08    46.9315    0.28084  15.70072  -14.5486  18.81712   \n",
       "3           1      0.12    46.9315    0.28084  15.70072  -14.5486  18.81712   \n",
       "4           1      0.16    46.9315    0.28084  15.70072  -14.5486  18.81712   \n",
       "5           1      0.20    46.9315    0.28084  15.70072  -14.5486  18.81712   \n",
       "\n",
       "       Home_2_y  Home_3_x  Home_3_y  ...  Home_10_x  Home_10_y  Home_12_x  \\\n",
       "Frame                                ...                                    \n",
       "1      -4.89396  21.07492   3.81208  ...    0.20564    7.56364        NaN   \n",
       "2      -4.89396  21.07492   3.81208  ...    0.20564    7.56364        NaN   \n",
       "3      -4.89396  21.07492   3.81208  ...    0.20564    7.56364        NaN   \n",
       "4      -4.89396  21.07492   3.81208  ...    0.20564    7.56364        NaN   \n",
       "5      -4.89396  21.07492   3.81208  ...    0.20564    7.56364        NaN   \n",
       "\n",
       "       Home_12_y  Home_13_x  Home_13_y  Home_14_x  Home_14_y  ball_x  ball_y  \n",
       "Frame                                                                         \n",
       "1            NaN        NaN        NaN        NaN        NaN     NaN     NaN  \n",
       "2            NaN        NaN        NaN        NaN        NaN     NaN     NaN  \n",
       "3            NaN        NaN        NaN        NaN        NaN     NaN     NaN  \n",
       "4            NaN        NaN        NaN        NaN        NaN     NaN     NaN  \n",
       "5            NaN        NaN        NaN        NaN        NaN     NaN     NaN  \n",
       "\n",
       "[5 rows x 32 columns]"
      ]
     },
     "execution_count": 139,
     "metadata": {},
     "output_type": "execute_result"
    }
   ],
   "source": [
    "tracking_home.head()"
   ]
  },
  {
   "cell_type": "code",
   "execution_count": 207,
   "metadata": {
    "ExecuteTime": {
     "end_time": "2020-04-14T10:55:43.852845Z",
     "start_time": "2020-04-14T10:55:43.627572Z"
    }
   },
   "outputs": [
    {
     "data": {
      "text/html": [
       "<div>\n",
       "<style scoped>\n",
       "    .dataframe tbody tr th:only-of-type {\n",
       "        vertical-align: middle;\n",
       "    }\n",
       "\n",
       "    .dataframe tbody tr th {\n",
       "        vertical-align: top;\n",
       "    }\n",
       "\n",
       "    .dataframe thead th {\n",
       "        text-align: right;\n",
       "    }\n",
       "</style>\n",
       "<table border=\"1\" class=\"dataframe\">\n",
       "  <thead>\n",
       "    <tr style=\"text-align: right;\">\n",
       "      <th></th>\n",
       "      <th>d</th>\n",
       "      <th>d_norm</th>\n",
       "    </tr>\n",
       "  </thead>\n",
       "  <tbody>\n",
       "    <tr>\n",
       "      <th>Home_1_d</th>\n",
       "      <td>10435.707743</td>\n",
       "      <td>0.738957</td>\n",
       "    </tr>\n",
       "    <tr>\n",
       "      <th>Home_2_d</th>\n",
       "      <td>9991.684623</td>\n",
       "      <td>0.674713</td>\n",
       "    </tr>\n",
       "    <tr>\n",
       "      <th>Home_3_d</th>\n",
       "      <td>9631.094747</td>\n",
       "      <td>0.622541</td>\n",
       "    </tr>\n",
       "    <tr>\n",
       "      <th>Home_4_d</th>\n",
       "      <td>7320.752609</td>\n",
       "      <td>0.288268</td>\n",
       "    </tr>\n",
       "    <tr>\n",
       "      <th>Home_5_d</th>\n",
       "      <td>12239.919898</td>\n",
       "      <td>1.000000</td>\n",
       "    </tr>\n",
       "    <tr>\n",
       "      <th>Home_6_d</th>\n",
       "      <td>11607.392810</td>\n",
       "      <td>0.908483</td>\n",
       "    </tr>\n",
       "    <tr>\n",
       "      <th>Home_7_d</th>\n",
       "      <td>11296.546697</td>\n",
       "      <td>0.863508</td>\n",
       "    </tr>\n",
       "    <tr>\n",
       "      <th>Home_8_d</th>\n",
       "      <td>9111.801479</td>\n",
       "      <td>0.547407</td>\n",
       "    </tr>\n",
       "    <tr>\n",
       "      <th>Home_9_d</th>\n",
       "      <td>9852.773047</td>\n",
       "      <td>0.654615</td>\n",
       "    </tr>\n",
       "    <tr>\n",
       "      <th>Home_10_d</th>\n",
       "      <td>9095.773269</td>\n",
       "      <td>0.545088</td>\n",
       "    </tr>\n",
       "    <tr>\n",
       "      <th>Home_11_d</th>\n",
       "      <td>5328.374502</td>\n",
       "      <td>0.000000</td>\n",
       "    </tr>\n",
       "  </tbody>\n",
       "</table>\n",
       "</div>"
      ],
      "text/plain": [
       "                      d    d_norm\n",
       "Home_1_d   10435.707743  0.738957\n",
       "Home_2_d    9991.684623  0.674713\n",
       "Home_3_d    9631.094747  0.622541\n",
       "Home_4_d    7320.752609  0.288268\n",
       "Home_5_d   12239.919898  1.000000\n",
       "Home_6_d   11607.392810  0.908483\n",
       "Home_7_d   11296.546697  0.863508\n",
       "Home_8_d    9111.801479  0.547407\n",
       "Home_9_d    9852.773047  0.654615\n",
       "Home_10_d   9095.773269  0.545088\n",
       "Home_11_d   5328.374502  0.000000"
      ]
     },
     "execution_count": 207,
     "metadata": {},
     "output_type": "execute_result"
    }
   ],
   "source": [
    "tracking_home_dists = tracking_home.diff()\n",
    "tracking_home_dists.iloc[:,:2] = tracking_home.iloc[:,:2]\n",
    "for i in range(1,12):\n",
    "    tracking_home_dists['Home_{}_d'.format(i)] = np.sqrt((tracking_home_dists['Home_{}_x'.format(i)] ** 2)+\\\n",
    "                                             (tracking_home_dists['Home_{}_y'.format(i)] ** 2))\n",
    "    \n",
    "# tracking_home_dists.iloc[:,-11:].sum()\n",
    "home_dist = tracking_home_dists.iloc[:,-11:].rolling(25).mean().sum().to_frame('d')\n",
    "\n",
    "scaler = MinMaxScaler()\n",
    "home_dist['d_norm'] = scaler.fit_transform(home_dist)\n",
    "home_dist"
   ]
  },
  {
   "cell_type": "code",
   "execution_count": 208,
   "metadata": {
    "ExecuteTime": {
     "end_time": "2020-04-14T10:55:48.740601Z",
     "start_time": "2020-04-14T10:55:48.635157Z"
    }
   },
   "outputs": [
    {
     "data": {
      "text/html": [
       "<div>\n",
       "<style scoped>\n",
       "    .dataframe tbody tr th:only-of-type {\n",
       "        vertical-align: middle;\n",
       "    }\n",
       "\n",
       "    .dataframe tbody tr th {\n",
       "        vertical-align: top;\n",
       "    }\n",
       "\n",
       "    .dataframe thead th {\n",
       "        text-align: right;\n",
       "    }\n",
       "</style>\n",
       "<table border=\"1\" class=\"dataframe\">\n",
       "  <thead>\n",
       "    <tr style=\"text-align: right;\">\n",
       "      <th></th>\n",
       "      <th>d</th>\n",
       "      <th>d_norm</th>\n",
       "    </tr>\n",
       "  </thead>\n",
       "  <tbody>\n",
       "    <tr>\n",
       "      <th>Away_15_d</th>\n",
       "      <td>10327.552231</td>\n",
       "      <td>0.878145</td>\n",
       "    </tr>\n",
       "    <tr>\n",
       "      <th>Away_16_d</th>\n",
       "      <td>9600.325163</td>\n",
       "      <td>0.781538</td>\n",
       "    </tr>\n",
       "    <tr>\n",
       "      <th>Away_17_d</th>\n",
       "      <td>9404.392549</td>\n",
       "      <td>0.755510</td>\n",
       "    </tr>\n",
       "    <tr>\n",
       "      <th>Away_18_d</th>\n",
       "      <td>10468.474947</td>\n",
       "      <td>0.896866</td>\n",
       "    </tr>\n",
       "    <tr>\n",
       "      <th>Away_19_d</th>\n",
       "      <td>11244.835552</td>\n",
       "      <td>1.000000</td>\n",
       "    </tr>\n",
       "    <tr>\n",
       "      <th>Away_20_d</th>\n",
       "      <td>10979.415709</td>\n",
       "      <td>0.964741</td>\n",
       "    </tr>\n",
       "    <tr>\n",
       "      <th>Away_21_d</th>\n",
       "      <td>10069.620611</td>\n",
       "      <td>0.843881</td>\n",
       "    </tr>\n",
       "    <tr>\n",
       "      <th>Away_22_d</th>\n",
       "      <td>6416.758517</td>\n",
       "      <td>0.358623</td>\n",
       "    </tr>\n",
       "    <tr>\n",
       "      <th>Away_23_d</th>\n",
       "      <td>9736.236143</td>\n",
       "      <td>0.799593</td>\n",
       "    </tr>\n",
       "    <tr>\n",
       "      <th>Away_24_d</th>\n",
       "      <td>9967.092460</td>\n",
       "      <td>0.830261</td>\n",
       "    </tr>\n",
       "    <tr>\n",
       "      <th>Away_25_d</th>\n",
       "      <td>3717.158806</td>\n",
       "      <td>0.000000</td>\n",
       "    </tr>\n",
       "  </tbody>\n",
       "</table>\n",
       "</div>"
      ],
      "text/plain": [
       "                      d    d_norm\n",
       "Away_15_d  10327.552231  0.878145\n",
       "Away_16_d   9600.325163  0.781538\n",
       "Away_17_d   9404.392549  0.755510\n",
       "Away_18_d  10468.474947  0.896866\n",
       "Away_19_d  11244.835552  1.000000\n",
       "Away_20_d  10979.415709  0.964741\n",
       "Away_21_d  10069.620611  0.843881\n",
       "Away_22_d   6416.758517  0.358623\n",
       "Away_23_d   9736.236143  0.799593\n",
       "Away_24_d   9967.092460  0.830261\n",
       "Away_25_d   3717.158806  0.000000"
      ]
     },
     "execution_count": 208,
     "metadata": {},
     "output_type": "execute_result"
    }
   ],
   "source": [
    "tracking_away_dists = tracking_away.diff()\n",
    "tracking_away_dists.iloc[:,:2] = tracking_away.iloc[:,:2]\n",
    "for i in range(15,26):\n",
    "    tracking_away_dists['Away_{}_d'.format(i)] = np.sqrt((tracking_away_dists['Away_{}_x'.format(i)] ** 2)+\\\n",
    "                                             (tracking_away_dists['Away_{}_y'.format(i)] ** 2))\n",
    "    \n",
    "# tracking_away_dists.iloc[:,-11:].sum()\n",
    "away_dist = tracking_away_dists.iloc[:,-11:].rolling(25).mean().sum().to_frame('d')\n",
    "\n",
    "scaler = MinMaxScaler()\n",
    "away_dist['d_norm'] = scaler.fit_transform(away_dist)\n",
    "away_dist"
   ]
  },
  {
   "cell_type": "code",
   "execution_count": 209,
   "metadata": {
    "ExecuteTime": {
     "end_time": "2020-04-14T10:55:58.629254Z",
     "start_time": "2020-04-14T10:55:58.621403Z"
    }
   },
   "outputs": [],
   "source": [
    "home_data = tracking_home.loc[KO_Frame].append(home_dist.d_norm).dropna()\n",
    "away_data = tracking_away.loc[KO_Frame].append(away_dist.d_norm).dropna()"
   ]
  },
  {
   "cell_type": "code",
   "execution_count": 216,
   "metadata": {
    "ExecuteTime": {
     "end_time": "2020-04-14T10:57:45.112938Z",
     "start_time": "2020-04-14T10:57:44.815348Z"
    }
   },
   "outputs": [
    {
     "data": {
      "text/plain": [
       "(<Figure size 864x576 with 1 Axes>,\n",
       " <matplotlib.axes._subplots.AxesSubplot at 0x7f1e43e85320>)"
      ]
     },
     "execution_count": 216,
     "metadata": {},
     "output_type": "execute_result"
    },
    {
     "data": {
      "image/png": "[encoded data removed]",
      "text/plain": [
       "<Figure size 864x576 with 1 Axes>"
      ]
     },
     "metadata": {},
     "output_type": "display_data"
    }
   ],
   "source": [
    "\n",
    "def plot_frame( hometeam, awayteam, figax=None, \n",
    "               team_colors=('r','b'), \n",
    "               field_dimen = (106.0,68.0), \n",
    "               include_player_velocities=False, \n",
    "               PlayerMarkerSize=10, PlayerAlpha=0.5 ):\n",
    "    \"\"\" plot_frame( hometeam, awayteam )\n",
    "    \n",
    "    Plots a frame of Metrica tracking data (player positions and the ball) on a football pitch. All distances should be in meters.\n",
    "    \n",
    "    Parameters\n",
    "    -----------\n",
    "        hometeam: row (i.e. instant) of the home team tracking data frame\n",
    "        awayteam: row of the away team tracking data frame\n",
    "        fig,ax: Can be used to pass in the (fig,ax) objects of a previously generated pitch. Set to (fig,ax) to use an existing figure, or None (the default) to generate a new pitch plot, \n",
    "        team_colors: Tuple containing the team colors of the home & away team. Default is 'r' (red, home team) and 'b' (blue away team)\n",
    "        field_dimen: tuple containing the length and width of the pitch in meters. Default is (106,68)\n",
    "        include_player_velocities: Boolean variable that determines whether player velocities are also plotted (as quivers). Default is False\n",
    "        PlayerMarkerSize: size of the individual player marlers. Default is 10\n",
    "        PlayerAlpha: alpha (transparency) of player markers. Defaault is 0.7\n",
    "        \n",
    "    Returrns\n",
    "    -----------\n",
    "       fig,ax : figure and aixs objects (so that other data can be plotted onto the pitch)\n",
    "\n",
    "    \"\"\"\n",
    "    if figax is None: # create new pitch \n",
    "        fig,ax = mviz.plot_pitch( field_dimen = field_dimen )\n",
    "    else: # overlay on a previously generated pitch\n",
    "        fig,ax = figax # unpack tuple\n",
    "    # plot home & away teams in order\n",
    "    for team,color in zip( [hometeam,awayteam], team_colors) :\n",
    "        x_columns = [c for c in team.keys() if c[-2:].lower()=='_x' and c!='ball_x'] # column header for player x positions\n",
    "        y_columns = [c for c in team.keys() if c[-2:].lower()=='_y' and c!='ball_y'] # column header for player y positions\n",
    "        d_columns = [c for c in team.keys() if '_d' in c]\n",
    "        \n",
    "        ax.scatter(team[x_columns], team[y_columns], \n",
    "                c=[color for x in range(11)], \n",
    "                s=list(team[d_columns]*300), \n",
    "                alpha=PlayerAlpha)\n",
    "#         print (team[d_columns].values)\n",
    "#         ax.plot( team[x_columns], team[y_columns], \n",
    "#                 color+'o', \n",
    "#                 MarkerSize=list(team[d_columns]), \n",
    "#                 alpha=PlayerAlpha ) # plot player positions\n",
    "        if include_player_velocities:\n",
    "            vx_columns = ['{}_vx'.format(c[:-2]) for c in x_columns] # column header for player x positions\n",
    "            vy_columns = ['{}_vy'.format(c[:-2]) for c in y_columns] # column header for player y positions\n",
    "            ax.quiver( team[x_columns], team[y_columns], \n",
    "                      team[vx_columns], team[vy_columns], \n",
    "                      color=color, scale_units='inches', scale=10.,\n",
    "                      width=0.002,headlength=5,headwidth=3,)\n",
    "    # plot ball\n",
    "    ax.plot( hometeam['ball_x'], hometeam['ball_y'], 'ko', MarkerSize=6, alpha=1.0, LineWidth=0)\n",
    "    return fig,ax\n",
    "\n",
    "plot_frame(home_data,away_data)"
   ]
  },
  {
   "cell_type": "code",
   "execution_count": 219,
   "metadata": {
    "ExecuteTime": {
     "end_time": "2020-04-14T11:00:05.949507Z",
     "start_time": "2020-04-14T11:00:05.933784Z"
    }
   },
   "outputs": [
    {
     "data": {
      "text/html": [
       "<div>\n",
       "<style scoped>\n",
       "    .dataframe tbody tr th:only-of-type {\n",
       "        vertical-align: middle;\n",
       "    }\n",
       "\n",
       "    .dataframe tbody tr th {\n",
       "        vertical-align: top;\n",
       "    }\n",
       "\n",
       "    .dataframe thead th {\n",
       "        text-align: right;\n",
       "    }\n",
       "</style>\n",
       "<table border=\"1\" class=\"dataframe\">\n",
       "  <thead>\n",
       "    <tr style=\"text-align: right;\">\n",
       "      <th></th>\n",
       "      <th>d</th>\n",
       "      <th>d_norm</th>\n",
       "    </tr>\n",
       "  </thead>\n",
       "  <tbody>\n",
       "    <tr>\n",
       "      <th>Home_1_d</th>\n",
       "      <td>10435.707743</td>\n",
       "      <td>0.738957</td>\n",
       "    </tr>\n",
       "    <tr>\n",
       "      <th>Home_2_d</th>\n",
       "      <td>9991.684623</td>\n",
       "      <td>0.674713</td>\n",
       "    </tr>\n",
       "    <tr>\n",
       "      <th>Home_3_d</th>\n",
       "      <td>9631.094747</td>\n",
       "      <td>0.622541</td>\n",
       "    </tr>\n",
       "    <tr>\n",
       "      <th>Home_4_d</th>\n",
       "      <td>7320.752609</td>\n",
       "      <td>0.288268</td>\n",
       "    </tr>\n",
       "    <tr>\n",
       "      <th>Home_5_d</th>\n",
       "      <td>12239.919898</td>\n",
       "      <td>1.000000</td>\n",
       "    </tr>\n",
       "    <tr>\n",
       "      <th>Home_6_d</th>\n",
       "      <td>11607.392810</td>\n",
       "      <td>0.908483</td>\n",
       "    </tr>\n",
       "    <tr>\n",
       "      <th>Home_7_d</th>\n",
       "      <td>11296.546697</td>\n",
       "      <td>0.863508</td>\n",
       "    </tr>\n",
       "    <tr>\n",
       "      <th>Home_8_d</th>\n",
       "      <td>9111.801479</td>\n",
       "      <td>0.547407</td>\n",
       "    </tr>\n",
       "    <tr>\n",
       "      <th>Home_9_d</th>\n",
       "      <td>9852.773047</td>\n",
       "      <td>0.654615</td>\n",
       "    </tr>\n",
       "    <tr>\n",
       "      <th>Home_10_d</th>\n",
       "      <td>9095.773269</td>\n",
       "      <td>0.545088</td>\n",
       "    </tr>\n",
       "    <tr>\n",
       "      <th>Home_11_d</th>\n",
       "      <td>5328.374502</td>\n",
       "      <td>0.000000</td>\n",
       "    </tr>\n",
       "  </tbody>\n",
       "</table>\n",
       "</div>"
      ],
      "text/plain": [
       "                      d    d_norm\n",
       "Home_1_d   10435.707743  0.738957\n",
       "Home_2_d    9991.684623  0.674713\n",
       "Home_3_d    9631.094747  0.622541\n",
       "Home_4_d    7320.752609  0.288268\n",
       "Home_5_d   12239.919898  1.000000\n",
       "Home_6_d   11607.392810  0.908483\n",
       "Home_7_d   11296.546697  0.863508\n",
       "Home_8_d    9111.801479  0.547407\n",
       "Home_9_d    9852.773047  0.654615\n",
       "Home_10_d   9095.773269  0.545088\n",
       "Home_11_d   5328.374502  0.000000"
      ]
     },
     "execution_count": 219,
     "metadata": {},
     "output_type": "execute_result"
    }
   ],
   "source": [
    "home_dist"
   ]
  },
  {
   "cell_type": "code",
   "execution_count": 220,
   "metadata": {
    "ExecuteTime": {
     "end_time": "2020-04-14T11:00:10.719293Z",
     "start_time": "2020-04-14T11:00:10.709901Z"
    }
   },
   "outputs": [
    {
     "data": {
      "text/html": [
       "<div>\n",
       "<style scoped>\n",
       "    .dataframe tbody tr th:only-of-type {\n",
       "        vertical-align: middle;\n",
       "    }\n",
       "\n",
       "    .dataframe tbody tr th {\n",
       "        vertical-align: top;\n",
       "    }\n",
       "\n",
       "    .dataframe thead th {\n",
       "        text-align: right;\n",
       "    }\n",
       "</style>\n",
       "<table border=\"1\" class=\"dataframe\">\n",
       "  <thead>\n",
       "    <tr style=\"text-align: right;\">\n",
       "      <th></th>\n",
       "      <th>d</th>\n",
       "      <th>d_norm</th>\n",
       "    </tr>\n",
       "  </thead>\n",
       "  <tbody>\n",
       "    <tr>\n",
       "      <th>Away_15_d</th>\n",
       "      <td>10327.552231</td>\n",
       "      <td>0.878145</td>\n",
       "    </tr>\n",
       "    <tr>\n",
       "      <th>Away_16_d</th>\n",
       "      <td>9600.325163</td>\n",
       "      <td>0.781538</td>\n",
       "    </tr>\n",
       "    <tr>\n",
       "      <th>Away_17_d</th>\n",
       "      <td>9404.392549</td>\n",
       "      <td>0.755510</td>\n",
       "    </tr>\n",
       "    <tr>\n",
       "      <th>Away_18_d</th>\n",
       "      <td>10468.474947</td>\n",
       "      <td>0.896866</td>\n",
       "    </tr>\n",
       "    <tr>\n",
       "      <th>Away_19_d</th>\n",
       "      <td>11244.835552</td>\n",
       "      <td>1.000000</td>\n",
       "    </tr>\n",
       "    <tr>\n",
       "      <th>Away_20_d</th>\n",
       "      <td>10979.415709</td>\n",
       "      <td>0.964741</td>\n",
       "    </tr>\n",
       "    <tr>\n",
       "      <th>Away_21_d</th>\n",
       "      <td>10069.620611</td>\n",
       "      <td>0.843881</td>\n",
       "    </tr>\n",
       "    <tr>\n",
       "      <th>Away_22_d</th>\n",
       "      <td>6416.758517</td>\n",
       "      <td>0.358623</td>\n",
       "    </tr>\n",
       "    <tr>\n",
       "      <th>Away_23_d</th>\n",
       "      <td>9736.236143</td>\n",
       "      <td>0.799593</td>\n",
       "    </tr>\n",
       "    <tr>\n",
       "      <th>Away_24_d</th>\n",
       "      <td>9967.092460</td>\n",
       "      <td>0.830261</td>\n",
       "    </tr>\n",
       "    <tr>\n",
       "      <th>Away_25_d</th>\n",
       "      <td>3717.158806</td>\n",
       "      <td>0.000000</td>\n",
       "    </tr>\n",
       "  </tbody>\n",
       "</table>\n",
       "</div>"
      ],
      "text/plain": [
       "                      d    d_norm\n",
       "Away_15_d  10327.552231  0.878145\n",
       "Away_16_d   9600.325163  0.781538\n",
       "Away_17_d   9404.392549  0.755510\n",
       "Away_18_d  10468.474947  0.896866\n",
       "Away_19_d  11244.835552  1.000000\n",
       "Away_20_d  10979.415709  0.964741\n",
       "Away_21_d  10069.620611  0.843881\n",
       "Away_22_d   6416.758517  0.358623\n",
       "Away_23_d   9736.236143  0.799593\n",
       "Away_24_d   9967.092460  0.830261\n",
       "Away_25_d   3717.158806  0.000000"
      ]
     },
     "execution_count": 220,
     "metadata": {},
     "output_type": "execute_result"
    }
   ],
   "source": [
    "away_dist"
   ]
  },
  {
   "cell_type": "code",
   "execution_count": null,
   "metadata": {},
   "outputs": [],
   "source": []
  }
 ],
 "metadata": {
  "kernelspec": {
   "display_name": "Python 3.6.10 64-bit ('kickoff': conda)",
   "language": "python",
   "name": "python361064bitkickoffconda0429761356e34c7095cf0a0743665a00"
  },
  "language_info": {
   "codemirror_mode": {
    "name": "ipython",
    "version": 3
   },
   "file_extension": ".py",
   "mimetype": "text/x-python",
   "name": "python",
   "nbconvert_exporter": "python",
   "pygments_lexer": "ipython3",
   "version": "3.6.10"
  },
  "toc": {
   "base_numbering": 1,
   "nav_menu": {},
   "number_sections": true,
   "sideBar": true,
   "skip_h1_title": false,
   "title_cell": "Table of Contents",
   "title_sidebar": "Contents",
   "toc_cell": false,
   "toc_position": {},
   "toc_section_display": true,
   "toc_window_display": false
  },
  "varInspector": {
   "cols": {
    "lenName": 16,
    "lenType": 16,
    "lenVar": 40
   },
   "kernels_config": {
    "python": {
     "delete_cmd_postfix": "",
     "delete_cmd_prefix": "del ",
     "library": "var_list.py",
     "varRefreshCmd": "print(var_dic_list())"
    },
    "r": {
     "delete_cmd_postfix": ") ",
     "delete_cmd_prefix": "rm(",
     "library": "var_list.r",
     "varRefreshCmd": "cat(var_dic_list()) "
    }
   },
   "types_to_exclude": [
    "module",
    "function",
    "builtin_function_or_method",
    "instance",
    "_Feature"
   ],
   "window_display": false
  }
 },
 "nbformat": 4,
 "nbformat_minor": 2
}
